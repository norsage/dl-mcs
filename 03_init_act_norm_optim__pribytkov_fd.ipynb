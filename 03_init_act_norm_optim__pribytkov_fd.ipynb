{
  "cells": [
    {
      "cell_type": "markdown",
      "metadata": {
        "id": "_CN1gCZsrd9g"
      },
      "source": [
        "## Инициализация и нормализация"
      ]
    },
    {
      "cell_type": "markdown",
      "metadata": {
        "id": "zkXV_GT0rd9i"
      },
      "source": [
        "В этом задании вам предстоит реализовать два вида нормализации: по батчам (BatchNorm1d) и по признакам (LayerNorm1d)."
      ]
    },
    {
      "cell_type": "code",
      "execution_count": 1,
      "metadata": {
        "id": "M9KYefKXrd9i"
      },
      "outputs": [],
      "source": [
        "from typing import Callable, NamedTuple\n",
        "\n",
        "import torch\n",
        "import torch.nn as nn\n",
        "import torch.nn.functional as F\n",
        "from torch import Tensor"
      ]
    },
    {
      "cell_type": "markdown",
      "metadata": {
        "id": "XL2eZcyUrd9j"
      },
      "source": [
        "### 1. Реализация BatchNorm1d и LayerNorm1d."
      ]
    },
    {
      "cell_type": "markdown",
      "metadata": {
        "id": "qqLmC3HTrd9j"
      },
      "source": [
        "#### 1.1. (2 балла) Реализуйте BatchNorm1d\n",
        "\n",
        "Подсказка: чтобы хранить текущие значения среднего и дисперсии, вам потребуется метод `torch.nn.Module.register_buffer`, ознакомьтесь с документацией к нему. Подумайте, какие проблемы возникнут, если вы будете просто сохранять ваши значения в тензор.\n",
        "\n",
        "\n",
        "Важно помнить:\n",
        "- Понятно, что нормализацию мы добавляем после очередного слоя с параметрами, но до применения функции активации или после? Подумайте, есть ли у одного из этих способов преимущества над другим.\n",
        "- Модуль нормализации по батчам работает по-разному при обучении и при валидации, и ему нужно понимать, в каком он состоянии. Эта информация доступна в атрибуте модуля `self.training: bool`, его значение определит ветвление логики в вашей реализации метода `forward`.\n",
        "- Переключение модулей между режимами осуществляется вызовами у объекта модели методов `.train()` (переключение в режим обучения) и `.eval()` (переключение в режим валидации) Почитайте документацию к этим методам. Ваши функции `train_epoch` и `test_epoch` теперь должны переводить модель в нужный режим перед началом обработки данных."
      ]
    },
    {
      "cell_type": "code",
      "execution_count": 7,
      "metadata": {
        "colab": {
          "base_uri": "https://localhost:8080/"
        },
        "id": "RYPgppPerd9k",
        "outputId": "c5fdfbee-7414-4d13-b0b5-dfa174dd21b6"
      },
      "outputs": [
        {
          "output_type": "stream",
          "name": "stdout",
          "text": [
            "tensor(0.0007, grad_fn=<AddBackward0>)\n"
          ]
        }
      ],
      "source": [
        "class BatchNorm1d(nn.Module):\n",
        "    def __init__(\n",
        "        self, num_features: int, momentum: float = 0.9, eps: float = 1e-5\n",
        "    ) -> None:\n",
        "        super().__init__()\n",
        "        self.scale = nn.Parameter(torch.ones(num_features))\n",
        "        self.shift = nn.Parameter(torch.zeros(num_features))\n",
        "        self.register_buffer(\"running_mean\", torch.zeros(num_features))\n",
        "        self.register_buffer(\"running_var\", torch.ones(num_features))\n",
        "        self.momentum = momentum\n",
        "        self.eps = eps\n",
        "\n",
        "    def forward(self, x: Tensor) -> Tensor:\n",
        "        if not self.training:\n",
        "          return self.scale * (x - self.running_mean) / torch.sqrt(self.running_var + self.eps) + self.shift\n",
        "        self.running_mean += self.momentum * (self.running_mean -  x.mean(dim=0))\n",
        "        self.running_var += self.momentum * (self.running_var - x.var(dim=0, correction=0))\n",
        "        return self.scale * (x - x.mean(dim=0)) / torch.sqrt(x.var(dim=0, correction=0) + self.eps) + self.shift\n",
        "\n",
        "ideal = nn.BatchNorm1d(1000)\n",
        "our = BatchNorm1d(1000)\n",
        "input = torch.randn(1000, 1000)\n",
        "print(sum(sum(ideal(input) - our(input))))"
      ]
    },
    {
      "cell_type": "markdown",
      "metadata": {
        "id": "rHd4Fsmgrd9k"
      },
      "source": [
        "#### 1.2. (1 балл) Реализуйте LayerNorm1d"
      ]
    },
    {
      "cell_type": "markdown",
      "metadata": {
        "id": "cnN5PlMGrd9k"
      },
      "source": [
        "Отличия LayerNorm от BatchNorm - в том, что расчёт средних и дисперсий в BatchNorm происходит вдоль размерности батча (см. рисунок слева), а в LayerNorm - вдоль размерности признаков (см. рисунок справа).\n",
        "\n",
        "<img src=\"../attachments/norm.png\" width=\"800\">"
      ]
    },
    {
      "cell_type": "code",
      "execution_count": 12,
      "metadata": {
        "colab": {
          "base_uri": "https://localhost:8080/"
        },
        "id": "qFzQF43Mrd9k",
        "outputId": "9ce9cdfa-06d1-424e-ad75-00afe6d72450"
      },
      "outputs": [
        {
          "output_type": "stream",
          "name": "stdout",
          "text": [
            "tensor(0.0002, grad_fn=<AddBackward0>)\n"
          ]
        }
      ],
      "source": [
        "class LayerNorm1d(nn.Module):\n",
        "    def __init__(self, num_features: int, eps: float = 1e-5) -> None:\n",
        "        super(LayerNorm1d, self).__init__()\n",
        "        self.scale = nn.Parameter(torch.ones(num_features))\n",
        "        self.shift = nn.Parameter(torch.zeros(num_features))\n",
        "        self.eps = eps\n",
        "\n",
        "    def forward(self, x: Tensor) -> Tensor:\n",
        "        return self.scale * (x - x.mean(dim=1, keepdim=True)) / torch.sqrt(x.var(dim=1, correction=0, keepdim=True) + self.eps) + self.shift\n",
        "\n",
        "ideal = nn.LayerNorm(1000)\n",
        "our = LayerNorm1d(1000)\n",
        "input = torch.randn(1000, 1000)\n",
        "print(sum(sum(ideal(input) - our(input))))"
      ]
    },
    {
      "cell_type": "markdown",
      "metadata": {
        "id": "DR9bhUE_rd9k"
      },
      "source": [
        "Замечание: явных тестов на корректность в этом задании нет, так как конкретные реализации могут давать немного разные результаты. Но вы можете проверить корректность своей реализации в эксперименте сами, нормализация должна немного исправлять проблемы неудачной инициализации. Ну и как минимум вы можете вручную проверить, что ваши активации действительно нормализуются в результате применения вашего модуля."
      ]
    },
    {
      "cell_type": "markdown",
      "metadata": {
        "id": "k321MCtord9l"
      },
      "source": [
        "### 2. Эксперименты"
      ]
    },
    {
      "cell_type": "markdown",
      "metadata": {
        "id": "K5FhOzoJrd9l"
      },
      "source": [
        "В этом задании ваша задача - проверить, какие из приёмов хорошо справляются с нездоровыми активациями в промежуточных слоях. Вам будет дана базовая модель, у которой есть проблемы с инициализацией параметров, попробуйте несколько приёмов для устранения проблем обучения:\n",
        "1. Хорошая инициализация параметров\n",
        "2. Ненасыщаемая функция активации (например, `F.leaky_relu`)\n",
        "3. Нормализация по батчам или по признакам (можно использовать встроенные `nn.BatchNorm1d` и `nn.LayerNorm`)\n",
        "4. Более продвинутый оптимизатор (`torch.optim.RMSprop`)"
      ]
    },
    {
      "cell_type": "markdown",
      "metadata": {
        "id": "aU5Op8rLrd9l"
      },
      "source": [
        "#### 2.0. Подготовка: датасет, функции для обучения"
      ]
    },
    {
      "cell_type": "markdown",
      "metadata": {
        "id": "bSYek1uurd9l"
      },
      "source": [
        "Проверять наши гипотезы будем на датасете MNIST, для отладки добавим в функции для обучения возможность использовать только несколько батчей данных"
      ]
    },
    {
      "cell_type": "code",
      "execution_count": 13,
      "metadata": {
        "colab": {
          "base_uri": "https://localhost:8080/"
        },
        "id": "uf3jRwZ0rd9l",
        "outputId": "ae8995b4-ac55-441c-8f66-9e8c271d85c7"
      },
      "outputs": [
        {
          "output_type": "stream",
          "name": "stdout",
          "text": [
            "Downloading http://yann.lecun.com/exdb/mnist/train-images-idx3-ubyte.gz\n",
            "Failed to download (trying next):\n",
            "HTTP Error 403: Forbidden\n",
            "\n",
            "Downloading https://ossci-datasets.s3.amazonaws.com/mnist/train-images-idx3-ubyte.gz\n",
            "Downloading https://ossci-datasets.s3.amazonaws.com/mnist/train-images-idx3-ubyte.gz to data/MNIST/raw/train-images-idx3-ubyte.gz\n"
          ]
        },
        {
          "output_type": "stream",
          "name": "stderr",
          "text": [
            "100%|██████████| 9912422/9912422 [00:00<00:00, 10380415.11it/s]\n"
          ]
        },
        {
          "output_type": "stream",
          "name": "stdout",
          "text": [
            "Extracting data/MNIST/raw/train-images-idx3-ubyte.gz to data/MNIST/raw\n",
            "\n",
            "Downloading http://yann.lecun.com/exdb/mnist/train-labels-idx1-ubyte.gz\n",
            "Failed to download (trying next):\n",
            "HTTP Error 403: Forbidden\n",
            "\n",
            "Downloading https://ossci-datasets.s3.amazonaws.com/mnist/train-labels-idx1-ubyte.gz\n",
            "Downloading https://ossci-datasets.s3.amazonaws.com/mnist/train-labels-idx1-ubyte.gz to data/MNIST/raw/train-labels-idx1-ubyte.gz\n"
          ]
        },
        {
          "output_type": "stream",
          "name": "stderr",
          "text": [
            "100%|██████████| 28881/28881 [00:00<00:00, 2012555.14it/s]"
          ]
        },
        {
          "output_type": "stream",
          "name": "stdout",
          "text": [
            "Extracting data/MNIST/raw/train-labels-idx1-ubyte.gz to data/MNIST/raw\n",
            "\n",
            "Downloading http://yann.lecun.com/exdb/mnist/t10k-images-idx3-ubyte.gz\n"
          ]
        },
        {
          "output_type": "stream",
          "name": "stderr",
          "text": [
            "\n"
          ]
        },
        {
          "output_type": "stream",
          "name": "stdout",
          "text": [
            "Failed to download (trying next):\n",
            "HTTP Error 403: Forbidden\n",
            "\n",
            "Downloading https://ossci-datasets.s3.amazonaws.com/mnist/t10k-images-idx3-ubyte.gz\n",
            "Downloading https://ossci-datasets.s3.amazonaws.com/mnist/t10k-images-idx3-ubyte.gz to data/MNIST/raw/t10k-images-idx3-ubyte.gz\n"
          ]
        },
        {
          "output_type": "stream",
          "name": "stderr",
          "text": [
            "100%|██████████| 1648877/1648877 [00:00<00:00, 14163839.85it/s]\n"
          ]
        },
        {
          "output_type": "stream",
          "name": "stdout",
          "text": [
            "Extracting data/MNIST/raw/t10k-images-idx3-ubyte.gz to data/MNIST/raw\n",
            "\n",
            "Downloading http://yann.lecun.com/exdb/mnist/t10k-labels-idx1-ubyte.gz\n",
            "Failed to download (trying next):\n",
            "HTTP Error 403: Forbidden\n",
            "\n",
            "Downloading https://ossci-datasets.s3.amazonaws.com/mnist/t10k-labels-idx1-ubyte.gz\n",
            "Downloading https://ossci-datasets.s3.amazonaws.com/mnist/t10k-labels-idx1-ubyte.gz to data/MNIST/raw/t10k-labels-idx1-ubyte.gz\n"
          ]
        },
        {
          "output_type": "stream",
          "name": "stderr",
          "text": [
            "100%|██████████| 4542/4542 [00:00<00:00, 7747266.68it/s]"
          ]
        },
        {
          "output_type": "stream",
          "name": "stdout",
          "text": [
            "Extracting data/MNIST/raw/t10k-labels-idx1-ubyte.gz to data/MNIST/raw\n",
            "\n"
          ]
        },
        {
          "output_type": "stream",
          "name": "stderr",
          "text": [
            "\n"
          ]
        }
      ],
      "source": [
        "from torch.utils.data import DataLoader\n",
        "from torchvision import datasets, transforms\n",
        "\n",
        "train_dataset = datasets.MNIST(\n",
        "    \"data\",\n",
        "    train=True,\n",
        "    download=True,\n",
        "    transform=transforms.ToTensor(),\n",
        ")\n",
        "test_dataset = datasets.MNIST(\n",
        "    \"data\",\n",
        "    train=False,\n",
        "    download=True,\n",
        "    transform=transforms.ToTensor(),\n",
        ")\n",
        "\n",
        "batch_size = 32\n",
        "train_loader = DataLoader(train_dataset, batch_size=batch_size, shuffle=True)\n",
        "test_loader = DataLoader(test_dataset, batch_size=batch_size, shuffle=False)"
      ]
    },
    {
      "cell_type": "code",
      "execution_count": 14,
      "metadata": {
        "id": "MvIRuvj0rd9l"
      },
      "outputs": [],
      "source": [
        "def training_step(\n",
        "    batch: tuple[torch.Tensor, torch.Tensor],\n",
        "    model: nn.Module,\n",
        "    optimizer: torch.optim.Optimizer,\n",
        ") -> torch.Tensor:\n",
        "    # прогоняем батч через модель\n",
        "    x, y = batch\n",
        "    logits = model(x)\n",
        "    # оцениваем значение ошибки\n",
        "    loss = F.cross_entropy(logits, y)\n",
        "    # обновляем параметры\n",
        "    loss.backward()\n",
        "    optimizer.step()\n",
        "    optimizer.zero_grad()\n",
        "    # возвращаем значение функции ошибки для логирования\n",
        "    return loss\n",
        "\n",
        "\n",
        "def train_epoch(\n",
        "    dataloader: DataLoader,\n",
        "    model: nn.Module,\n",
        "    optimizer: torch.optim.Optimizer,\n",
        "    max_batches: int = 100,\n",
        ") -> Tensor:\n",
        "    loss_values: list[float] = []\n",
        "    for i, batch in enumerate(dataloader):\n",
        "        loss = training_step(batch, model, optimizer)\n",
        "        loss_values.append(loss.item())\n",
        "        if i == max_batches:\n",
        "            break\n",
        "    return torch.tensor(loss_values).mean()\n",
        "\n",
        "\n",
        "@torch.no_grad()\n",
        "def test_epoch(\n",
        "    dataloader: DataLoader, model: nn.Module, max_batches: int = 100\n",
        ") -> Tensor:\n",
        "    loss_values: list[float] = []\n",
        "    for i, batch in enumerate(dataloader):\n",
        "        x, y = batch\n",
        "        logits = model(x)\n",
        "        # оцениваем значение ошибки\n",
        "        loss = F.cross_entropy(logits, y)\n",
        "        loss_values.append(loss.item())\n",
        "        if i == max_batches:\n",
        "            break\n",
        "    return torch.tensor(loss_values).mean()"
      ]
    },
    {
      "cell_type": "markdown",
      "metadata": {
        "id": "2SUcUBpTrd9l"
      },
      "source": [
        "#### 2.1. Определение класса модели (2 балла)"
      ]
    },
    {
      "cell_type": "markdown",
      "metadata": {
        "id": "Fi8D8mvqrd9l"
      },
      "source": [
        "Для удобства проведения экспериментов мы немного усложним создание модели, чтобы можно было задать разные способы инициализации параметров и нормализации промежуточных активаций, не меняя определение класса.\n",
        "\n",
        "Добавьте в метод `__init__`:\n",
        "- аргумент, который позволит использовать разные функции активации для промежуточных слоёв\n",
        "- аргумент, который позволит задавать разные способы нормализации: `None` (без нормализации), `nn.BatchNorm` и `nn.LayerNorm`"
      ]
    },
    {
      "cell_type": "code",
      "execution_count": 51,
      "metadata": {
        "id": "ljQNpyJfrd9l"
      },
      "outputs": [],
      "source": [
        "def init_std_normal(model: nn.Module) -> None:\n",
        "    \"\"\"Функция для инициализации параметров модели стандартным нормальным распределением.\"\"\"\n",
        "    for param in model.parameters():\n",
        "        torch.nn.init.normal_(param.data, mean=0, std=1)\n",
        "\n",
        "def init_kaiming_normal(model: nn.Module) -> None:\n",
        "    for param in model.parameters():\n",
        "        if len(param.data.size()) > 1:\n",
        "            torch.nn.init.kaiming_normal_(param.data)\n",
        "\n",
        "\n",
        "from typing import Type\n",
        "\n",
        "\n",
        "class MLP(nn.Module):\n",
        "    \"\"\"Базовая модель для экспериментов\n",
        "\n",
        "    Args:\n",
        "        input_dim (int): размерность входных признаков\n",
        "        hidden_dim (int): размерност скрытого слоя\n",
        "        output_dim (int): кол-во классов\n",
        "        act_fn (Callable[[Tensor], Tensor], optional): Функция активации. Defaults to F.tanh.\n",
        "        init_fn (Callable[[nn.Module], None], optional): Функция для инициализации. Defaults to init_std_normal.\n",
        "        norm (Type[nn.BatchNorm1d  |  nn.LayerNorm] | None, optional): Способ нормализации промежуточных активаций.\n",
        "            Defaults to None.\n",
        "    \"\"\"\n",
        "    def __init__(\n",
        "        self,\n",
        "        input_dim: int,\n",
        "        hidden_dim: int,\n",
        "        output_dim: int,\n",
        "        act_fn: Callable[[Tensor], Tensor] = F.tanh,\n",
        "        init_fn: Callable[[nn.Module], None] = init_std_normal,\n",
        "        norm: Type[nn.BatchNorm1d | nn.LayerNorm] | None = None,\n",
        "    ) -> None:\n",
        "        super().__init__()\n",
        "        # теперь линейные слои будем задавать\n",
        "        self.fc1 = nn.Linear(input_dim, hidden_dim)\n",
        "        self.fc2 = nn.Linear(hidden_dim, output_dim)\n",
        "        self.act_fn = act_fn\n",
        "        self.norm = norm(hidden_dim) if norm else None\n",
        "\n",
        "        # reinitialize parameters\n",
        "        init_fn(self)\n",
        "\n",
        "    def forward(self, x: Tensor) -> Tensor:\n",
        "        h = self.fc1.forward(x.flatten(1))\n",
        "        # here you can do normalization\n",
        "        if self.norm:\n",
        "            h = self.norm(h)\n",
        "        return self.fc2.forward(self.act_fn(h))"
      ]
    },
    {
      "cell_type": "markdown",
      "metadata": {
        "id": "Kfr_4zRRrd9m"
      },
      "source": [
        "#### 2.2. Эксперименты (7 баллов)"
      ]
    },
    {
      "cell_type": "markdown",
      "metadata": {
        "id": "AeUmVhoErd9m"
      },
      "source": [
        "Проведите по 3 эксперимента с каждой из модификаций с разными значениями `seed`, соберите статистику значений тестовой ошибки после 10 эпох обучения, сделайте выводы о том, что работает лучше\n",
        "\n",
        "Проверяем:\n",
        "1. Метод инициализации весов модели: $\\mathcal{N}(0, 1)$ / Kaiming normal\n",
        "2. Функция активации: tanh /  (или любая другая без насыщения)\n",
        "3. Слой нормализации: None / BatchNorm / LayerNorm\n",
        "4. Выбранный оптимизатор: SGD / RMSprop / Adam\n",
        "\n",
        "Итого у нас 7 экспериментов:\n",
        "- исходный (1)\n",
        "- смена инициализации (1)\n",
        "- смена нелинейности (1)\n",
        "- смена нормализации (2)\n",
        "- смена оптимизатора (2)\n",
        "\n",
        "Каждый эксперимент нужно повторить 3 раза с разными значениями random seed, посчитать среднее и вывести результаты в pandas.DataFrame.\n",
        "Можно дополнительно потестировать разные сочетания опций, например инициализация + нормализация\n"
      ]
    },
    {
      "cell_type": "markdown",
      "metadata": {
        "id": "r1eBN4uFrd9m"
      },
      "source": [
        "Чтобы автоматизировать проведение экспериментов, можно использовать функцию, которая будет принимать все необходимые настройки эксперимента, запускать его и сохранять нужные метрики:"
      ]
    },
    {
      "cell_type": "code",
      "execution_count": 52,
      "metadata": {
        "id": "paTsEspprd9m"
      },
      "outputs": [],
      "source": [
        "def run_experiment(\n",
        "    model_gen: Callable[[], nn.Module],\n",
        "    optim_gen: Callable[[nn.Module], torch.optim.Optimizer],\n",
        "    seed: int,\n",
        "    n_epochs: int = 10,\n",
        "    max_batches: int | None = None,\n",
        "    verbose: bool = False,\n",
        ") -> float:\n",
        "    \"\"\"Функция для запуска экспериментов.\n",
        "\n",
        "    Args:\n",
        "        model_gen (Callable[[], nn.Module]): Функция для создания модели\n",
        "        optim_gen (Callable[[nn.Module], torch.optim.Optimizer]): Функция для создания оптимизатора для модели\n",
        "        seed (int): random seed\n",
        "        n_epochs (int, optional): Число эпох обучения. Defaults to 10.\n",
        "        max_batches (int | None, optional): Если указано, только `max_batches` минибатчей\n",
        "            будет использоваться при обучении и тестировании. Defaults to None.\n",
        "        verbose (bool, optional): Выводить ли информацию для отладки. Defaults to False.\n",
        "\n",
        "    Returns:\n",
        "        float: Значение ошибки на тестовой выборке в конце обучения\n",
        "    \"\"\"\n",
        "    torch.manual_seed(seed)\n",
        "    # создадим модель и выведем значение ошибки после инициализации\n",
        "    model = model_gen()\n",
        "    optim = optim_gen(model)\n",
        "    epoch_losses: list[float] = []\n",
        "    for i in range(n_epochs):\n",
        "        train_loss = train_epoch(train_loader, model, optim, max_batches=max_batches)\n",
        "        test_loss = test_epoch(test_loader, model, max_batches=max_batches)\n",
        "        if verbose:\n",
        "            print(f\"Epoch {i} train loss = {train_loss:.4f}\")\n",
        "            print(f\"Epoch {i} test loss = {test_loss:.4f}\")\n",
        "\n",
        "        epoch_losses.append(test_loss.item())\n",
        "\n",
        "    last_epoch_loss = epoch_losses[-1]\n",
        "    return last_epoch_loss"
      ]
    },
    {
      "cell_type": "markdown",
      "metadata": {
        "id": "V0vMYXx0rd9m"
      },
      "source": [
        "Пример использования:"
      ]
    },
    {
      "cell_type": "code",
      "execution_count": 53,
      "metadata": {
        "colab": {
          "base_uri": "https://localhost:8080/"
        },
        "id": "pIvYr3oZrd9m",
        "outputId": "920b60bd-3a79-4ecf-d452-124bf5051fe7"
      },
      "outputs": [
        {
          "output_type": "stream",
          "name": "stdout",
          "text": [
            "Epoch 0 train loss = 12.6168\n",
            "Epoch 0 test loss = 9.9327\n",
            "Epoch 1 train loss = 9.0954\n",
            "Epoch 1 test loss = 7.5498\n",
            "Epoch 2 train loss = 6.9607\n",
            "Epoch 2 test loss = 6.2342\n",
            "Epoch 3 train loss = 5.8992\n",
            "Epoch 3 test loss = 5.3655\n",
            "Epoch 4 train loss = 4.9951\n",
            "Epoch 4 test loss = 4.7433\n",
            "Epoch 5 train loss = 4.4778\n",
            "Epoch 5 test loss = 4.3001\n",
            "Epoch 6 train loss = 3.9693\n",
            "Epoch 6 test loss = 3.9605\n",
            "Epoch 7 train loss = 3.7261\n",
            "Epoch 7 test loss = 3.6844\n",
            "Epoch 8 train loss = 3.4223\n",
            "Epoch 8 test loss = 3.4538\n",
            "Epoch 9 train loss = 2.9975\n",
            "Epoch 9 test loss = 3.2638\n"
          ]
        }
      ],
      "source": [
        "losses = run_experiment(\n",
        "    model_gen=lambda: MLP(784, 128, 10, init_fn=init_std_normal, norm=None),\n",
        "    optim_gen=lambda x: torch.optim.SGD(x.parameters(), lr=0.01),\n",
        "    seed=42,\n",
        "    n_epochs=10,\n",
        "    max_batches=100,\n",
        "    verbose=True,\n",
        ")"
      ]
    },
    {
      "cell_type": "markdown",
      "metadata": {
        "id": "yrCDoX4Jrd9n"
      },
      "source": [
        "Для удобства задания настроек эксперимента можно определять их с помощью класса `Experiment`, в котором можно также реализовать логику для строкового представления:"
      ]
    },
    {
      "cell_type": "code",
      "execution_count": 54,
      "metadata": {
        "id": "FtgKqZhBrd9n"
      },
      "outputs": [],
      "source": [
        "input_dim = 784\n",
        "hidden_dim = 128\n",
        "output_dim = len(train_dataset.classes)\n",
        "\n",
        "def p(obj):\n",
        "  return obj.__name__ if obj else 'unknown'\n",
        "class Experiment(NamedTuple):\n",
        "    init_fn: Callable[[nn.Module], None]\n",
        "    act_fn: Callable[[Tensor], Tensor]\n",
        "    norm: Type[nn.BatchNorm1d | nn.LayerNorm] | None\n",
        "    optim_cls: Type[torch.optim.Optimizer]\n",
        "\n",
        "    @property\n",
        "    def model_gen(self) -> Callable[[], nn.Module]:\n",
        "        return lambda: MLP(\n",
        "            input_dim, hidden_dim, output_dim, init_fn=self.init_fn, norm=self.norm\n",
        "        )\n",
        "\n",
        "    @property\n",
        "    def optim_gen(self) -> Callable[[nn.Module], torch.optim.Optimizer]:\n",
        "        return lambda x: self.optim_cls(x.parameters(), lr=0.01)\n",
        "\n",
        "    def __repr__(self) -> str:\n",
        "        # TODO: попробуйте сделать представление эксперимента более читаемым\n",
        "        return \"this is exp with params ({}, {}, {}, {})\".format(p(self.init_fn), p(self.act_fn), p(self.norm), p(self.optim_cls))\n"
      ]
    },
    {
      "cell_type": "markdown",
      "metadata": {
        "id": "mJ42E37Erd9n"
      },
      "source": [
        "Описываем все эксперименты:"
      ]
    },
    {
      "cell_type": "code",
      "execution_count": 55,
      "metadata": {
        "id": "b0akEjFMrd9n"
      },
      "outputs": [],
      "source": [
        "options = [\n",
        "    Experiment( # base\n",
        "        init_fn=init_std_normal,\n",
        "        act_fn=F.tanh,\n",
        "        norm=None,\n",
        "        optim_cls=torch.optim.SGD,\n",
        "    ),\n",
        "    Experiment( # other init\n",
        "        init_fn=init_kaiming_normal,\n",
        "        act_fn=F.silu,\n",
        "        norm=None,\n",
        "        optim_cls=torch.optim.SGD,\n",
        "    ),\n",
        "    Experiment( # relu\n",
        "        init_fn=init_std_normal,\n",
        "        act_fn=F.relu,\n",
        "        norm=None,\n",
        "        optim_cls=torch.optim.SGD,\n",
        "    ),\n",
        "    Experiment( # normalization 1\n",
        "        init_fn=init_std_normal,\n",
        "        act_fn=F.tanh,\n",
        "        norm=nn.BatchNorm1d,\n",
        "        optim_cls=torch.optim.SGD,\n",
        "    ),\n",
        "    Experiment( # normalization 2\n",
        "        init_fn=init_std_normal,\n",
        "        act_fn=F.tanh,\n",
        "        norm=nn.LayerNorm,\n",
        "        optim_cls=torch.optim.SGD,\n",
        "    ),\n",
        "    Experiment( # other optim 1\n",
        "        init_fn=init_std_normal,\n",
        "        act_fn=F.tanh,\n",
        "        norm=None,\n",
        "        optim_cls=torch.optim.RMSprop,\n",
        "    ),\n",
        "    Experiment( # other optim 1\n",
        "        init_fn=init_std_normal,\n",
        "        act_fn=F.tanh,\n",
        "        norm=None,\n",
        "        optim_cls=torch.optim.Adam,\n",
        "    ),\n",
        "]"
      ]
    },
    {
      "cell_type": "markdown",
      "metadata": {
        "id": "TuRjPQ8Trd9n"
      },
      "source": [
        "Запускаем расчёты:"
      ]
    },
    {
      "cell_type": "code",
      "execution_count": 56,
      "metadata": {
        "colab": {
          "base_uri": "https://localhost:8080/"
        },
        "id": "2-8x-MbCrd9n",
        "outputId": "9737b4b3-cc99-4a96-fec1-eb35bc0a73ee"
      },
      "outputs": [
        {
          "output_type": "stream",
          "name": "stdout",
          "text": [
            "this is exp with params (init_std_normal, tanh, unknown, SGD)\n",
            "this is exp with params (init_kaiming_normal, silu, unknown, SGD)\n",
            "this is exp with params (init_std_normal, relu, unknown, SGD)\n",
            "this is exp with params (init_std_normal, tanh, BatchNorm1d, SGD)\n",
            "this is exp with params (init_std_normal, tanh, LayerNorm, SGD)\n",
            "this is exp with params (init_std_normal, tanh, unknown, RMSprop)\n",
            "this is exp with params (init_std_normal, tanh, unknown, Adam)\n"
          ]
        }
      ],
      "source": [
        "seeds = [27, 42, 8952812]  # здесь вам нужно 3 разных значения\n",
        "results = []\n",
        "\n",
        "for option in options:\n",
        "    print(option)\n",
        "    for seed in seeds:\n",
        "        loss = run_experiment(\n",
        "            model_gen=lambda: MLP(784, 128, 10, init_fn=option.init_fn, norm=option.norm, act_fn=option.act_fn),\n",
        "            optim_gen=lambda x: option.optim_cls(x.parameters(), lr=0.01),\n",
        "            seed=seed,\n",
        "            n_epochs=10,\n",
        "            max_batches=None,\n",
        "            verbose=False,\n",
        "        )\n",
        "        results.append([str(option), seed, loss])"
      ]
    },
    {
      "cell_type": "markdown",
      "metadata": {
        "id": "VQ5e3UHOrd9n"
      },
      "source": [
        "Выводим результаты:"
      ]
    },
    {
      "cell_type": "code",
      "execution_count": 57,
      "metadata": {
        "colab": {
          "base_uri": "https://localhost:8080/",
          "height": 708
        },
        "id": "tSf4ziLArd9o",
        "outputId": "706611d7-e471-4566-c4e9-3c4cf085a364"
      },
      "outputs": [
        {
          "output_type": "execute_result",
          "data": {
            "text/plain": [
              "                                                    0        1         2\n",
              "0   this is exp with params (init_std_normal, tanh...       27  0.692416\n",
              "1   this is exp with params (init_std_normal, tanh...       42  0.634049\n",
              "2   this is exp with params (init_std_normal, tanh...  8952812  0.671777\n",
              "3   this is exp with params (init_kaiming_normal, ...       27  0.193527\n",
              "4   this is exp with params (init_kaiming_normal, ...       42  0.194084\n",
              "5   this is exp with params (init_kaiming_normal, ...  8952812  0.198088\n",
              "6   this is exp with params (init_std_normal, relu...       27  0.797012\n",
              "7   this is exp with params (init_std_normal, relu...       42  0.661375\n",
              "8   this is exp with params (init_std_normal, relu...  8952812  0.727412\n",
              "9   this is exp with params (init_std_normal, tanh...       27  0.454290\n",
              "10  this is exp with params (init_std_normal, tanh...       42  0.464949\n",
              "11  this is exp with params (init_std_normal, tanh...  8952812  0.478472\n",
              "12  this is exp with params (init_std_normal, tanh...       27  0.438012\n",
              "13  this is exp with params (init_std_normal, tanh...       42  0.455568\n",
              "14  this is exp with params (init_std_normal, tanh...  8952812  0.452704\n",
              "15  this is exp with params (init_std_normal, tanh...       27  0.171830\n",
              "16  this is exp with params (init_std_normal, tanh...       42  0.167474\n",
              "17  this is exp with params (init_std_normal, tanh...  8952812  0.228197\n",
              "18  this is exp with params (init_std_normal, tanh...       27  0.220969\n",
              "19  this is exp with params (init_std_normal, tanh...       42  0.190940\n",
              "20  this is exp with params (init_std_normal, tanh...  8952812  0.205293"
            ],
            "text/html": [
              "\n",
              "  <div id=\"df-59e83645-5051-4091-8cf1-68ba4a573649\" class=\"colab-df-container\">\n",
              "    <div>\n",
              "<style scoped>\n",
              "    .dataframe tbody tr th:only-of-type {\n",
              "        vertical-align: middle;\n",
              "    }\n",
              "\n",
              "    .dataframe tbody tr th {\n",
              "        vertical-align: top;\n",
              "    }\n",
              "\n",
              "    .dataframe thead th {\n",
              "        text-align: right;\n",
              "    }\n",
              "</style>\n",
              "<table border=\"1\" class=\"dataframe\">\n",
              "  <thead>\n",
              "    <tr style=\"text-align: right;\">\n",
              "      <th></th>\n",
              "      <th>0</th>\n",
              "      <th>1</th>\n",
              "      <th>2</th>\n",
              "    </tr>\n",
              "  </thead>\n",
              "  <tbody>\n",
              "    <tr>\n",
              "      <th>0</th>\n",
              "      <td>this is exp with params (init_std_normal, tanh...</td>\n",
              "      <td>27</td>\n",
              "      <td>0.692416</td>\n",
              "    </tr>\n",
              "    <tr>\n",
              "      <th>1</th>\n",
              "      <td>this is exp with params (init_std_normal, tanh...</td>\n",
              "      <td>42</td>\n",
              "      <td>0.634049</td>\n",
              "    </tr>\n",
              "    <tr>\n",
              "      <th>2</th>\n",
              "      <td>this is exp with params (init_std_normal, tanh...</td>\n",
              "      <td>8952812</td>\n",
              "      <td>0.671777</td>\n",
              "    </tr>\n",
              "    <tr>\n",
              "      <th>3</th>\n",
              "      <td>this is exp with params (init_kaiming_normal, ...</td>\n",
              "      <td>27</td>\n",
              "      <td>0.193527</td>\n",
              "    </tr>\n",
              "    <tr>\n",
              "      <th>4</th>\n",
              "      <td>this is exp with params (init_kaiming_normal, ...</td>\n",
              "      <td>42</td>\n",
              "      <td>0.194084</td>\n",
              "    </tr>\n",
              "    <tr>\n",
              "      <th>5</th>\n",
              "      <td>this is exp with params (init_kaiming_normal, ...</td>\n",
              "      <td>8952812</td>\n",
              "      <td>0.198088</td>\n",
              "    </tr>\n",
              "    <tr>\n",
              "      <th>6</th>\n",
              "      <td>this is exp with params (init_std_normal, relu...</td>\n",
              "      <td>27</td>\n",
              "      <td>0.797012</td>\n",
              "    </tr>\n",
              "    <tr>\n",
              "      <th>7</th>\n",
              "      <td>this is exp with params (init_std_normal, relu...</td>\n",
              "      <td>42</td>\n",
              "      <td>0.661375</td>\n",
              "    </tr>\n",
              "    <tr>\n",
              "      <th>8</th>\n",
              "      <td>this is exp with params (init_std_normal, relu...</td>\n",
              "      <td>8952812</td>\n",
              "      <td>0.727412</td>\n",
              "    </tr>\n",
              "    <tr>\n",
              "      <th>9</th>\n",
              "      <td>this is exp with params (init_std_normal, tanh...</td>\n",
              "      <td>27</td>\n",
              "      <td>0.454290</td>\n",
              "    </tr>\n",
              "    <tr>\n",
              "      <th>10</th>\n",
              "      <td>this is exp with params (init_std_normal, tanh...</td>\n",
              "      <td>42</td>\n",
              "      <td>0.464949</td>\n",
              "    </tr>\n",
              "    <tr>\n",
              "      <th>11</th>\n",
              "      <td>this is exp with params (init_std_normal, tanh...</td>\n",
              "      <td>8952812</td>\n",
              "      <td>0.478472</td>\n",
              "    </tr>\n",
              "    <tr>\n",
              "      <th>12</th>\n",
              "      <td>this is exp with params (init_std_normal, tanh...</td>\n",
              "      <td>27</td>\n",
              "      <td>0.438012</td>\n",
              "    </tr>\n",
              "    <tr>\n",
              "      <th>13</th>\n",
              "      <td>this is exp with params (init_std_normal, tanh...</td>\n",
              "      <td>42</td>\n",
              "      <td>0.455568</td>\n",
              "    </tr>\n",
              "    <tr>\n",
              "      <th>14</th>\n",
              "      <td>this is exp with params (init_std_normal, tanh...</td>\n",
              "      <td>8952812</td>\n",
              "      <td>0.452704</td>\n",
              "    </tr>\n",
              "    <tr>\n",
              "      <th>15</th>\n",
              "      <td>this is exp with params (init_std_normal, tanh...</td>\n",
              "      <td>27</td>\n",
              "      <td>0.171830</td>\n",
              "    </tr>\n",
              "    <tr>\n",
              "      <th>16</th>\n",
              "      <td>this is exp with params (init_std_normal, tanh...</td>\n",
              "      <td>42</td>\n",
              "      <td>0.167474</td>\n",
              "    </tr>\n",
              "    <tr>\n",
              "      <th>17</th>\n",
              "      <td>this is exp with params (init_std_normal, tanh...</td>\n",
              "      <td>8952812</td>\n",
              "      <td>0.228197</td>\n",
              "    </tr>\n",
              "    <tr>\n",
              "      <th>18</th>\n",
              "      <td>this is exp with params (init_std_normal, tanh...</td>\n",
              "      <td>27</td>\n",
              "      <td>0.220969</td>\n",
              "    </tr>\n",
              "    <tr>\n",
              "      <th>19</th>\n",
              "      <td>this is exp with params (init_std_normal, tanh...</td>\n",
              "      <td>42</td>\n",
              "      <td>0.190940</td>\n",
              "    </tr>\n",
              "    <tr>\n",
              "      <th>20</th>\n",
              "      <td>this is exp with params (init_std_normal, tanh...</td>\n",
              "      <td>8952812</td>\n",
              "      <td>0.205293</td>\n",
              "    </tr>\n",
              "  </tbody>\n",
              "</table>\n",
              "</div>\n",
              "    <div class=\"colab-df-buttons\">\n",
              "\n",
              "  <div class=\"colab-df-container\">\n",
              "    <button class=\"colab-df-convert\" onclick=\"convertToInteractive('df-59e83645-5051-4091-8cf1-68ba4a573649')\"\n",
              "            title=\"Convert this dataframe to an interactive table.\"\n",
              "            style=\"display:none;\">\n",
              "\n",
              "  <svg xmlns=\"http://www.w3.org/2000/svg\" height=\"24px\" viewBox=\"0 -960 960 960\">\n",
              "    <path d=\"M120-120v-720h720v720H120Zm60-500h600v-160H180v160Zm220 220h160v-160H400v160Zm0 220h160v-160H400v160ZM180-400h160v-160H180v160Zm440 0h160v-160H620v160ZM180-180h160v-160H180v160Zm440 0h160v-160H620v160Z\"/>\n",
              "  </svg>\n",
              "    </button>\n",
              "\n",
              "  <style>\n",
              "    .colab-df-container {\n",
              "      display:flex;\n",
              "      gap: 12px;\n",
              "    }\n",
              "\n",
              "    .colab-df-convert {\n",
              "      background-color: #E8F0FE;\n",
              "      border: none;\n",
              "      border-radius: 50%;\n",
              "      cursor: pointer;\n",
              "      display: none;\n",
              "      fill: #1967D2;\n",
              "      height: 32px;\n",
              "      padding: 0 0 0 0;\n",
              "      width: 32px;\n",
              "    }\n",
              "\n",
              "    .colab-df-convert:hover {\n",
              "      background-color: #E2EBFA;\n",
              "      box-shadow: 0px 1px 2px rgba(60, 64, 67, 0.3), 0px 1px 3px 1px rgba(60, 64, 67, 0.15);\n",
              "      fill: #174EA6;\n",
              "    }\n",
              "\n",
              "    .colab-df-buttons div {\n",
              "      margin-bottom: 4px;\n",
              "    }\n",
              "\n",
              "    [theme=dark] .colab-df-convert {\n",
              "      background-color: #3B4455;\n",
              "      fill: #D2E3FC;\n",
              "    }\n",
              "\n",
              "    [theme=dark] .colab-df-convert:hover {\n",
              "      background-color: #434B5C;\n",
              "      box-shadow: 0px 1px 3px 1px rgba(0, 0, 0, 0.15);\n",
              "      filter: drop-shadow(0px 1px 2px rgba(0, 0, 0, 0.3));\n",
              "      fill: #FFFFFF;\n",
              "    }\n",
              "  </style>\n",
              "\n",
              "    <script>\n",
              "      const buttonEl =\n",
              "        document.querySelector('#df-59e83645-5051-4091-8cf1-68ba4a573649 button.colab-df-convert');\n",
              "      buttonEl.style.display =\n",
              "        google.colab.kernel.accessAllowed ? 'block' : 'none';\n",
              "\n",
              "      async function convertToInteractive(key) {\n",
              "        const element = document.querySelector('#df-59e83645-5051-4091-8cf1-68ba4a573649');\n",
              "        const dataTable =\n",
              "          await google.colab.kernel.invokeFunction('convertToInteractive',\n",
              "                                                    [key], {});\n",
              "        if (!dataTable) return;\n",
              "\n",
              "        const docLinkHtml = 'Like what you see? Visit the ' +\n",
              "          '<a target=\"_blank\" href=https://colab.research.google.com/notebooks/data_table.ipynb>data table notebook</a>'\n",
              "          + ' to learn more about interactive tables.';\n",
              "        element.innerHTML = '';\n",
              "        dataTable['output_type'] = 'display_data';\n",
              "        await google.colab.output.renderOutput(dataTable, element);\n",
              "        const docLink = document.createElement('div');\n",
              "        docLink.innerHTML = docLinkHtml;\n",
              "        element.appendChild(docLink);\n",
              "      }\n",
              "    </script>\n",
              "  </div>\n",
              "\n",
              "\n",
              "<div id=\"df-301822df-9309-48cf-b08c-276258e5a5dd\">\n",
              "  <button class=\"colab-df-quickchart\" onclick=\"quickchart('df-301822df-9309-48cf-b08c-276258e5a5dd')\"\n",
              "            title=\"Suggest charts\"\n",
              "            style=\"display:none;\">\n",
              "\n",
              "<svg xmlns=\"http://www.w3.org/2000/svg\" height=\"24px\"viewBox=\"0 0 24 24\"\n",
              "     width=\"24px\">\n",
              "    <g>\n",
              "        <path d=\"M19 3H5c-1.1 0-2 .9-2 2v14c0 1.1.9 2 2 2h14c1.1 0 2-.9 2-2V5c0-1.1-.9-2-2-2zM9 17H7v-7h2v7zm4 0h-2V7h2v10zm4 0h-2v-4h2v4z\"/>\n",
              "    </g>\n",
              "</svg>\n",
              "  </button>\n",
              "\n",
              "<style>\n",
              "  .colab-df-quickchart {\n",
              "      --bg-color: #E8F0FE;\n",
              "      --fill-color: #1967D2;\n",
              "      --hover-bg-color: #E2EBFA;\n",
              "      --hover-fill-color: #174EA6;\n",
              "      --disabled-fill-color: #AAA;\n",
              "      --disabled-bg-color: #DDD;\n",
              "  }\n",
              "\n",
              "  [theme=dark] .colab-df-quickchart {\n",
              "      --bg-color: #3B4455;\n",
              "      --fill-color: #D2E3FC;\n",
              "      --hover-bg-color: #434B5C;\n",
              "      --hover-fill-color: #FFFFFF;\n",
              "      --disabled-bg-color: #3B4455;\n",
              "      --disabled-fill-color: #666;\n",
              "  }\n",
              "\n",
              "  .colab-df-quickchart {\n",
              "    background-color: var(--bg-color);\n",
              "    border: none;\n",
              "    border-radius: 50%;\n",
              "    cursor: pointer;\n",
              "    display: none;\n",
              "    fill: var(--fill-color);\n",
              "    height: 32px;\n",
              "    padding: 0;\n",
              "    width: 32px;\n",
              "  }\n",
              "\n",
              "  .colab-df-quickchart:hover {\n",
              "    background-color: var(--hover-bg-color);\n",
              "    box-shadow: 0 1px 2px rgba(60, 64, 67, 0.3), 0 1px 3px 1px rgba(60, 64, 67, 0.15);\n",
              "    fill: var(--button-hover-fill-color);\n",
              "  }\n",
              "\n",
              "  .colab-df-quickchart-complete:disabled,\n",
              "  .colab-df-quickchart-complete:disabled:hover {\n",
              "    background-color: var(--disabled-bg-color);\n",
              "    fill: var(--disabled-fill-color);\n",
              "    box-shadow: none;\n",
              "  }\n",
              "\n",
              "  .colab-df-spinner {\n",
              "    border: 2px solid var(--fill-color);\n",
              "    border-color: transparent;\n",
              "    border-bottom-color: var(--fill-color);\n",
              "    animation:\n",
              "      spin 1s steps(1) infinite;\n",
              "  }\n",
              "\n",
              "  @keyframes spin {\n",
              "    0% {\n",
              "      border-color: transparent;\n",
              "      border-bottom-color: var(--fill-color);\n",
              "      border-left-color: var(--fill-color);\n",
              "    }\n",
              "    20% {\n",
              "      border-color: transparent;\n",
              "      border-left-color: var(--fill-color);\n",
              "      border-top-color: var(--fill-color);\n",
              "    }\n",
              "    30% {\n",
              "      border-color: transparent;\n",
              "      border-left-color: var(--fill-color);\n",
              "      border-top-color: var(--fill-color);\n",
              "      border-right-color: var(--fill-color);\n",
              "    }\n",
              "    40% {\n",
              "      border-color: transparent;\n",
              "      border-right-color: var(--fill-color);\n",
              "      border-top-color: var(--fill-color);\n",
              "    }\n",
              "    60% {\n",
              "      border-color: transparent;\n",
              "      border-right-color: var(--fill-color);\n",
              "    }\n",
              "    80% {\n",
              "      border-color: transparent;\n",
              "      border-right-color: var(--fill-color);\n",
              "      border-bottom-color: var(--fill-color);\n",
              "    }\n",
              "    90% {\n",
              "      border-color: transparent;\n",
              "      border-bottom-color: var(--fill-color);\n",
              "    }\n",
              "  }\n",
              "</style>\n",
              "\n",
              "  <script>\n",
              "    async function quickchart(key) {\n",
              "      const quickchartButtonEl =\n",
              "        document.querySelector('#' + key + ' button');\n",
              "      quickchartButtonEl.disabled = true;  // To prevent multiple clicks.\n",
              "      quickchartButtonEl.classList.add('colab-df-spinner');\n",
              "      try {\n",
              "        const charts = await google.colab.kernel.invokeFunction(\n",
              "            'suggestCharts', [key], {});\n",
              "      } catch (error) {\n",
              "        console.error('Error during call to suggestCharts:', error);\n",
              "      }\n",
              "      quickchartButtonEl.classList.remove('colab-df-spinner');\n",
              "      quickchartButtonEl.classList.add('colab-df-quickchart-complete');\n",
              "    }\n",
              "    (() => {\n",
              "      let quickchartButtonEl =\n",
              "        document.querySelector('#df-301822df-9309-48cf-b08c-276258e5a5dd button');\n",
              "      quickchartButtonEl.style.display =\n",
              "        google.colab.kernel.accessAllowed ? 'block' : 'none';\n",
              "    })();\n",
              "  </script>\n",
              "</div>\n",
              "    </div>\n",
              "  </div>\n"
            ],
            "application/vnd.google.colaboratory.intrinsic+json": {
              "type": "dataframe",
              "summary": "{\n  \"name\": \"pd\",\n  \"rows\": 21,\n  \"fields\": [\n    {\n      \"column\": 0,\n      \"properties\": {\n        \"dtype\": \"category\",\n        \"num_unique_values\": 7,\n        \"samples\": [\n          \"this is exp with params (init_std_normal, tanh, unknown, SGD)\",\n          \"this is exp with params (init_kaiming_normal, silu, unknown, SGD)\",\n          \"this is exp with params (init_std_normal, tanh, unknown, RMSprop)\"\n        ],\n        \"semantic_type\": \"\",\n        \"description\": \"\"\n      }\n    },\n    {\n      \"column\": 1,\n      \"properties\": {\n        \"dtype\": \"number\",\n        \"std\": 4324602,\n        \"min\": 27,\n        \"max\": 8952812,\n        \"num_unique_values\": 3,\n        \"samples\": [\n          27,\n          42,\n          8952812\n        ],\n        \"semantic_type\": \"\",\n        \"description\": \"\"\n      }\n    },\n    {\n      \"column\": 2,\n      \"properties\": {\n        \"dtype\": \"number\",\n        \"std\": 0.21665551372668324,\n        \"min\": 0.16747374832630157,\n        \"max\": 0.7970120310783386,\n        \"num_unique_values\": 21,\n        \"samples\": [\n          0.6924161314964294,\n          0.22819706797599792,\n          0.17183002829551697\n        ],\n        \"semantic_type\": \"\",\n        \"description\": \"\"\n      }\n    }\n  ]\n}"
            }
          },
          "metadata": {},
          "execution_count": 57
        }
      ],
      "source": [
        "import pandas as pd\n",
        "\n",
        "pd.DataFrame(results)"
      ]
    },
    {
      "cell_type": "markdown",
      "metadata": {
        "id": "KyszY5m3rd9o"
      },
      "source": [
        "ВЫВОДЫ:"
      ]
    }
  ],
  "metadata": {
    "kernelspec": {
      "display_name": "dl-mcs",
      "language": "python",
      "name": "python3"
    },
    "language_info": {
      "codemirror_mode": {
        "name": "ipython",
        "version": 3
      },
      "file_extension": ".py",
      "mimetype": "text/x-python",
      "name": "python",
      "nbconvert_exporter": "python",
      "pygments_lexer": "ipython3",
      "version": "3.12.5"
    },
    "colab": {
      "provenance": []
    }
  },
  "nbformat": 4,
  "nbformat_minor": 0
}