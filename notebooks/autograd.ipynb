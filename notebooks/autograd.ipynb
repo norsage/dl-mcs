{
 "cells": [
  {
   "cell_type": "markdown",
   "metadata": {},
   "source": [
    "### Autograd в PyTorch\n",
    "\n",
    "https://pytorch.org/tutorials/beginner/basics/autogradqs_tutorial.html"
   ]
  },
  {
   "cell_type": "markdown",
   "metadata": {},
   "source": [
    "При обучении нейронных сетей мы минимизируем значение функции ошибки на обучающей выборке, меняя значения параметров модели. Чтобы понять, куда нужно сместить значения параметров, нужно уметь считать градиент — именно для автоматизации этих расчётов нам и нужен Pytorch. Посмотрим, как именно он это делает."
   ]
  },
  {
   "cell_type": "markdown",
   "metadata": {},
   "source": [
    "Но перед этим вспомним правило дифференцирования сложной функции:\n",
    "\n",
    "$\n",
    "\\begin{align}\n",
    "\\frac{\\partial f}{\\partial x} =\n",
    "\\frac{\\partial f}{\\partial u} \\cdot \n",
    "\\frac{\\partial u}{\\partial x}\n",
    "\\end{align}\n",
    "$\n",
    "\n",
    "Пример:\n",
    "\n",
    "$$\n",
    "f(x) = \\sin(\\ln x) \\quad\n",
    "u(x) = \\ln x  \\quad\n",
    "f(u) = \\sin(u)$$\n",
    "\n",
    "$$\n",
    "\\frac{\\partial f}{\\partial x} =\n",
    "\\frac{\\partial f}{\\partial u} \\cdot \n",
    "\\frac{\\partial u}{\\partial x} = \n",
    "\\cos(u) \\cdot \n",
    "\\frac{1}{x} = \n",
    "\\cos(\\ln x) \\cdot \n",
    "\\frac{1}{x}\n",
    "$$"
   ]
  },
  {
   "cell_type": "markdown",
   "metadata": {},
   "source": [
    "#### 1. Дифференцирование и вычислительный граф"
   ]
  },
  {
   "cell_type": "markdown",
   "metadata": {},
   "source": [
    "Рассмотрим выражение $f(x, y) = x^2 + xy + (x + y)^2$ и построим его граф:"
   ]
  },
  {
   "cell_type": "markdown",
   "metadata": {},
   "source": [
    "<img src=\"../assets/images/forward_pass.png\" style=\"background:white\" width=\"300\"/>"
   ]
  },
  {
   "cell_type": "markdown",
   "metadata": {},
   "source": [
    "Производная по переменной $x$:\n",
    "$$\n",
    "\\begin{align*}\n",
    "\\frac{\\partial f}{\\partial x} &=\n",
    "\\textcolor{violet}{\n",
    "\\frac{\\partial f}{\\partial d} \\cdot \n",
    "\\frac{\\partial d}{\\partial a} \\cdot \n",
    "\\frac{\\partial a}{\\partial x}\n",
    "}\n",
    "+\n",
    "\\textcolor{teal}{\n",
    "\\frac{\\partial f}{\\partial d} \\cdot \n",
    "\\frac{\\partial d}{\\partial b} \\cdot \n",
    "\\frac{\\partial b}{\\partial x}\n",
    "}\n",
    "+\n",
    "\\textcolor{orange}{\n",
    "\\frac{\\partial f}{\\partial e} \\cdot \n",
    "\\frac{\\partial e}{\\partial c} \\cdot \n",
    "\\frac{\\partial c}{\\partial x}\n",
    "} \\\\\n",
    "&=\n",
    "\\textcolor{violet}{\n",
    "1 \\cdot 1 \\cdot 2x\n",
    "}\n",
    "+\n",
    "\\textcolor{teal}{\n",
    "1 \\cdot 1 \\cdot y\n",
    "}\n",
    "+\n",
    "\\textcolor{orange}{\n",
    "1 \\cdot 2c \\cdot 1\n",
    "}\n",
    "=\n",
    "2x + y + 2(x+y)\n",
    "\\end{align*}\n",
    "$$"
   ]
  },
  {
   "cell_type": "markdown",
   "metadata": {},
   "source": [
    "Для вычисления производных Pytorch строит вычислительный граф, проход по которому позволяет рассчитать градиенты по правилу производной сложной функции (chain rule).\n",
    "\n",
    "Прямой проход:\n",
    "- расчёт значения выходного тензора\n",
    "- построение графа и сохранение нужных для обратного прохода данных для каждой операции\n",
    "\n",
    "Обратный проход (вызов `.backward()` у корня графа):\n",
    "- расчёт градиентов и их накопление в артибуте `.grad` каждого тензора\n",
    "- распространение вычислений далее до листьев графа"
   ]
  },
  {
   "cell_type": "markdown",
   "metadata": {},
   "source": [
    "Запишем выражение для $f(x, y)$, задав начальные условия $x = 2.0, y = 2.0$."
   ]
  },
  {
   "cell_type": "code",
   "execution_count": 1,
   "metadata": {},
   "outputs": [],
   "source": [
    "import torch"
   ]
  },
  {
   "cell_type": "code",
   "execution_count": 2,
   "metadata": {},
   "outputs": [
    {
     "data": {
      "text/plain": [
       "tensor(24., grad_fn=<AddBackward0>)"
      ]
     },
     "execution_count": 2,
     "metadata": {},
     "output_type": "execute_result"
    }
   ],
   "source": [
    "x = torch.tensor(2.0, requires_grad=True)\n",
    "y = torch.tensor(2.0, requires_grad=True)\n",
    "a = x**2\n",
    "b = x * y\n",
    "c = x + y\n",
    "d = a + b\n",
    "e = c**2\n",
    "f = d + e\n",
    "f"
   ]
  },
  {
   "cell_type": "markdown",
   "metadata": {},
   "source": [
    "`grad_fn` означает, что `f` не просто отдельный тензор, а связан с вычислительным графом и соответствует операции `Add`"
   ]
  },
  {
   "cell_type": "markdown",
   "metadata": {},
   "source": [
    "Запустим backprop и убедимся, что градиенты рассчитаны правильно:\n",
    "\n",
    "$\\frac{\\partial f}{\\partial x} = 2x + y + 2(x + y)$\n",
    "\n",
    "$\\frac{\\partial f}{\\partial y} = x + 2(x + y)$"
   ]
  },
  {
   "cell_type": "code",
   "execution_count": 3,
   "metadata": {},
   "outputs": [
    {
     "name": "stdout",
     "output_type": "stream",
     "text": [
      "tensor(14.)\n",
      "tensor(10.)\n"
     ]
    }
   ],
   "source": [
    "f.backward()\n",
    "print(x.grad)\n",
    "print(y.grad)"
   ]
  },
  {
   "cell_type": "markdown",
   "metadata": {},
   "source": [
    "Повторный вызов `backward()` приведёт к ошибке, потому что после предыдущего вызова граф уже уничтожен для высвобождения ресурсов. Такое поведение по умолчанию оправдано, но если мы по какой-то причине хотим сохранить граф, следует указать `.backward(retain_graph=True)`"
   ]
  },
  {
   "cell_type": "code",
   "execution_count": 4,
   "metadata": {},
   "outputs": [
    {
     "name": "stdout",
     "output_type": "stream",
     "text": [
      "Первый вызов\n",
      "Производная по x:  tensor(14.)\n",
      "Производная по x:  tensor(10.)\n",
      "\n",
      "Второй вызов\n",
      "Производная по x:  tensor(28.)\n",
      "Производная по x:  tensor(20.)\n"
     ]
    }
   ],
   "source": [
    "x = torch.tensor(2.0, requires_grad=True)\n",
    "y = torch.tensor(2.0, requires_grad=True)\n",
    "\n",
    "f = x**2 + x * y + (x + y)**2\n",
    "\n",
    "# вызовем backward дважды и посмотрим на градиенты:\n",
    "print(\"Первый вызов\")\n",
    "f.backward(retain_graph=True)\n",
    "print(\"Производная по x: \", x.grad)\n",
    "print(\"Производная по x: \", y.grad)\n",
    "\n",
    "print(\"\\nВторой вызов\")\n",
    "f.backward(retain_graph=True)\n",
    "print(\"Производная по x: \", x.grad)\n",
    "print(\"Производная по x: \", y.grad)"
   ]
  },
  {
   "cell_type": "markdown",
   "metadata": {},
   "source": [
    "После второго вызова градиенты удвоились, но здесь нет ошибки: градиенты накапливаются в поле `.grad`, и если мы хотим избавиться от истории прошлых вычислений, это стоит сделать явно"
   ]
  },
  {
   "cell_type": "code",
   "execution_count": 5,
   "metadata": {},
   "outputs": [
    {
     "name": "stdout",
     "output_type": "stream",
     "text": [
      "Первый вызов\n",
      "Производная по x:  tensor(14.)\n",
      "Производная по x:  tensor(10.)\n",
      "\n",
      "Второй вызов\n",
      "Производная по x:  tensor(14.)\n",
      "Производная по x:  tensor(10.)\n"
     ]
    }
   ],
   "source": [
    "x = torch.tensor(2.0, requires_grad=True)\n",
    "y = torch.tensor(2.0, requires_grad=True)\n",
    "a = x**2\n",
    "b = x * y\n",
    "c = x + y\n",
    "d = a + b\n",
    "e = c**2\n",
    "f = d + e\n",
    "\n",
    "# вызовем backward дважды и посмотрим на градиенты:\n",
    "print(\"Первый вызов\")\n",
    "f.backward(retain_graph=True)\n",
    "print(\"Производная по x: \", x.grad)\n",
    "print(\"Производная по x: \", y.grad)\n",
    "# обнулим градиенты, можно сделать двумя способами\n",
    "x.grad = None\n",
    "y.grad = torch.tensor(0.0)\n",
    "\n",
    "print(\"\\nВторой вызов\")\n",
    "f.backward(retain_graph=True)\n",
    "print(\"Производная по x: \", x.grad)\n",
    "print(\"Производная по x: \", y.grad)"
   ]
  },
  {
   "cell_type": "markdown",
   "metadata": {},
   "source": [
    "Иногда мы можем захотеть посмотреть на градиенты не только в листовых вершинах графа, но и во внутренних. По умолчанию Pytorch эти данные не сохраняет:"
   ]
  },
  {
   "cell_type": "code",
   "execution_count": 6,
   "metadata": {},
   "outputs": [
    {
     "name": "stderr",
     "output_type": "stream",
     "text": [
      "/var/folders/gz/zq5l18116xzf83g88xv7jqnr0000gp/T/ipykernel_62713/541772334.py:5: UserWarning: The .grad attribute of a Tensor that is not a leaf Tensor is being accessed. Its .grad attribute won't be populated during autograd.backward(). If you indeed want the .grad field to be populated for a non-leaf Tensor, use .retain_grad() on the non-leaf Tensor. If you access the non-leaf Tensor by mistake, make sure you access the leaf Tensor instead. See github.com/pytorch/pytorch/pull/30531 for more informations. (Triggered internally at /Users/runner/work/pytorch/pytorch/pytorch/build/aten/src/ATen/core/TensorBody.h:494.)\n",
      "  y.grad\n"
     ]
    }
   ],
   "source": [
    "x = torch.tensor(1.0, requires_grad=True)\n",
    "y = x + 1\n",
    "z = y**2\n",
    "z.backward()\n",
    "y.grad"
   ]
  },
  {
   "cell_type": "markdown",
   "metadata": {},
   "source": [
    "Но если очень нужно, то мы можем пометить любой тензор, где хочется узнать значение производной, вызвав метод `.retain_grad()`"
   ]
  },
  {
   "cell_type": "code",
   "execution_count": 7,
   "metadata": {},
   "outputs": [
    {
     "data": {
      "text/plain": [
       "tensor(4.)"
      ]
     },
     "execution_count": 7,
     "metadata": {},
     "output_type": "execute_result"
    }
   ],
   "source": [
    "x = torch.tensor(1.0, requires_grad=True)\n",
    "y = x + 1\n",
    "# помечаем y\n",
    "y.retain_grad()\n",
    "z = y**2\n",
    "z.backward(retain_graph=True)\n",
    "y.grad"
   ]
  },
  {
   "cell_type": "markdown",
   "metadata": {},
   "source": [
    "#### 2. Отключение расчёта градиентов\n",
    "\n",
    "https://pytorch.org/docs/stable/notes/autograd.html#locally-disable-grad-doc\n",
    "\n",
    "Иногда мы хотим локально отключить расчёт градиентов: это может пригодится, когда мы хотим изменить значения каких-то параметров и не сломать при этом вычислительный граф (о том, что может происходить, если в нужном месте не отключить трекинг градиентов, см ниже в разделе $2.3$)"
   ]
  },
  {
   "cell_type": "markdown",
   "metadata": {},
   "source": [
    "Несколько способов:\n",
    "1. Изменить значение атрибута тензора `requires_grad` напрямую"
   ]
  },
  {
   "cell_type": "code",
   "execution_count": 8,
   "metadata": {},
   "outputs": [
    {
     "name": "stdout",
     "output_type": "stream",
     "text": [
      "True\n",
      "False\n"
     ]
    }
   ],
   "source": [
    "x = torch.tensor(1.0, requires_grad=True)\n",
    "y = x + 1\n",
    "print(y.requires_grad)  # True\n",
    "x.requires_grad = False\n",
    "y = x + 1\n",
    "print(y.requires_grad)  # False"
   ]
  },
  {
   "cell_type": "markdown",
   "metadata": {},
   "source": [
    "2. Использовать `torch.no_grad()` (как менеджер контекста или как декоратор)"
   ]
  },
  {
   "cell_type": "code",
   "execution_count": 9,
   "metadata": {},
   "outputs": [
    {
     "name": "stdout",
     "output_type": "stream",
     "text": [
      "True\n",
      "False\n"
     ]
    }
   ],
   "source": [
    "x = torch.tensor(1.0, requires_grad=True)\n",
    "y = x + 1\n",
    "print(x.requires_grad)  # True\n",
    "\n",
    "# локально отключаем трекинг градиентов\n",
    "with torch.no_grad():\n",
    "    y = x + 1\n",
    "print(y.requires_grad)  # False"
   ]
  },
  {
   "cell_type": "code",
   "execution_count": 10,
   "metadata": {},
   "outputs": [
    {
     "name": "stdout",
     "output_type": "stream",
     "text": [
      "True\n",
      "False\n"
     ]
    }
   ],
   "source": [
    "# декоратор\n",
    "def add_one(t: torch.Tensor) -> torch.Tensor:\n",
    "    return t + 1\n",
    "\n",
    "\n",
    "@torch.no_grad()\n",
    "def add_two(t: torch.Tensor) -> torch.Tensor:\n",
    "    return t + 1\n",
    "\n",
    "\n",
    "x = torch.tensor(1.0, requires_grad=True)\n",
    "y = add_one(x)\n",
    "print(y.requires_grad)  # True\n",
    "z = add_two(x)\n",
    "print(z.requires_grad)  # False"
   ]
  },
  {
   "cell_type": "markdown",
   "metadata": {},
   "source": [
    "3. Получить копию тензора с помощью метода `.detach()`"
   ]
  },
  {
   "cell_type": "code",
   "execution_count": 11,
   "metadata": {},
   "outputs": [
    {
     "name": "stdout",
     "output_type": "stream",
     "text": [
      "True\n",
      "False\n"
     ]
    }
   ],
   "source": [
    "x = torch.tensor(1.0, requires_grad=True)\n",
    "y = x + 1\n",
    "print(x.requires_grad)  # True\n",
    "z = y.detach()\n",
    "print(z.requires_grad)  # False"
   ]
  },
  {
   "cell_type": "markdown",
   "metadata": {},
   "source": [
    "#### 3. Некоторые распространённые ошибки\n",
    "\n",
    "1. Обновление параметра на месте вне контекста `torch.no_grad()` вызовет ошибку. PyTorch такое явно запрещает"
   ]
  },
  {
   "cell_type": "code",
   "execution_count": 12,
   "metadata": {},
   "outputs": [
    {
     "ename": "RuntimeError",
     "evalue": "a leaf Variable that requires grad is being used in an in-place operation.",
     "output_type": "error",
     "traceback": [
      "\u001b[31m---------------------------------------------------------------------------\u001b[39m",
      "\u001b[31mRuntimeError\u001b[39m                              Traceback (most recent call last)",
      "\u001b[36mCell\u001b[39m\u001b[36m \u001b[39m\u001b[32mIn[12]\u001b[39m\u001b[32m, line 5\u001b[39m\n\u001b[32m      3\u001b[39m f = w + \u001b[32m1\u001b[39m\n\u001b[32m      4\u001b[39m f.backward()\n\u001b[32m----> \u001b[39m\u001b[32m5\u001b[39m \u001b[43mw\u001b[49m\u001b[43m \u001b[49m\u001b[43m-\u001b[49m\u001b[43m=\u001b[49m\u001b[43m \u001b[49m\u001b[43mw\u001b[49m\u001b[43m.\u001b[49m\u001b[43mgrad\u001b[49m\n",
      "\u001b[31mRuntimeError\u001b[39m: a leaf Variable that requires grad is being used in an in-place operation."
     ]
    }
   ],
   "source": [
    "w = torch.tensor(1.0, requires_grad=True)\n",
    "# x = torch.tensor(1.0)\n",
    "f = w + 1\n",
    "f.backward()\n",
    "w -= w.grad"
   ]
  },
  {
   "cell_type": "markdown",
   "metadata": {},
   "source": [
    "2. Обновление параметра через присваивание приводит к тому, что параметр больше не является листом графа, и следующая итерация приведёт к ошибке:"
   ]
  },
  {
   "cell_type": "code",
   "execution_count": 13,
   "metadata": {},
   "outputs": [
    {
     "name": "stderr",
     "output_type": "stream",
     "text": [
      "/var/folders/gz/zq5l18116xzf83g88xv7jqnr0000gp/T/ipykernel_62713/963600647.py:11: UserWarning: The .grad attribute of a Tensor that is not a leaf Tensor is being accessed. Its .grad attribute won't be populated during autograd.backward(). If you indeed want the .grad field to be populated for a non-leaf Tensor, use .retain_grad() on the non-leaf Tensor. If you access the non-leaf Tensor by mistake, make sure you access the leaf Tensor instead. See github.com/pytorch/pytorch/pull/30531 for more informations. (Triggered internally at /Users/runner/work/pytorch/pytorch/pytorch/build/aten/src/ATen/core/TensorBody.h:494.)\n",
      "  w = w - w.grad  # здесь w.grad is None!\n"
     ]
    },
    {
     "ename": "TypeError",
     "evalue": "unsupported operand type(s) for -: 'Tensor' and 'NoneType'",
     "output_type": "error",
     "traceback": [
      "\u001b[31m---------------------------------------------------------------------------\u001b[39m",
      "\u001b[31mTypeError\u001b[39m                                 Traceback (most recent call last)",
      "\u001b[36mCell\u001b[39m\u001b[36m \u001b[39m\u001b[32mIn[13]\u001b[39m\u001b[32m, line 11\u001b[39m\n\u001b[32m      9\u001b[39m \u001b[38;5;66;03m# вторая итерация - оказывается, что не ок\u001b[39;00m\n\u001b[32m     10\u001b[39m f.backward()\n\u001b[32m---> \u001b[39m\u001b[32m11\u001b[39m w = \u001b[43mw\u001b[49m\u001b[43m \u001b[49m\u001b[43m-\u001b[49m\u001b[43m \u001b[49m\u001b[43mw\u001b[49m\u001b[43m.\u001b[49m\u001b[43mgrad\u001b[49m  \u001b[38;5;66;03m# здесь w.grad is None!\u001b[39;00m\n",
      "\u001b[31mTypeError\u001b[39m: unsupported operand type(s) for -: 'Tensor' and 'NoneType'"
     ]
    }
   ],
   "source": [
    "w = torch.tensor(1.0, requires_grad=True)\n",
    "# x = torch.tensor(1.0)\n",
    "f = w + 1\n",
    "# первая итерация - всё как будто ок\n",
    "f.backward()\n",
    "w = w - w.grad  # на этом моменте `w` - больше не лист графа\n",
    "f = w + 1\n",
    "\n",
    "# вторая итерация - оказывается, что не ок\n",
    "f.backward()\n",
    "w = w - w.grad  # здесь w.grad is None!"
   ]
  },
  {
   "cell_type": "markdown",
   "metadata": {},
   "source": [
    "3. Внутри контекста `torch.no_grad()` параметр обновляем не на месте, а через переназначение, после этого он более не ожидает градиентов, всё ломается при вызове `.backward()`"
   ]
  },
  {
   "cell_type": "code",
   "execution_count": 14,
   "metadata": {},
   "outputs": [
    {
     "ename": "RuntimeError",
     "evalue": "element 0 of tensors does not require grad and does not have a grad_fn",
     "output_type": "error",
     "traceback": [
      "\u001b[31m---------------------------------------------------------------------------\u001b[39m",
      "\u001b[31mRuntimeError\u001b[39m                              Traceback (most recent call last)",
      "\u001b[36mCell\u001b[39m\u001b[36m \u001b[39m\u001b[32mIn[14]\u001b[39m\u001b[32m, line 10\u001b[39m\n\u001b[32m      7\u001b[39m f = w + \u001b[32m1\u001b[39m\n\u001b[32m      9\u001b[39m \u001b[38;5;66;03m# вторая итерация\u001b[39;00m\n\u001b[32m---> \u001b[39m\u001b[32m10\u001b[39m \u001b[43mf\u001b[49m\u001b[43m.\u001b[49m\u001b[43mbackward\u001b[49m\u001b[43m(\u001b[49m\u001b[43m)\u001b[49m\n",
      "\u001b[36mFile \u001b[39m\u001b[32m~/projects/dl-mcs/.venv/lib/python3.13/site-packages/torch/_tensor.py:647\u001b[39m, in \u001b[36mTensor.backward\u001b[39m\u001b[34m(self, gradient, retain_graph, create_graph, inputs)\u001b[39m\n\u001b[32m    637\u001b[39m \u001b[38;5;28;01mif\u001b[39;00m has_torch_function_unary(\u001b[38;5;28mself\u001b[39m):\n\u001b[32m    638\u001b[39m     \u001b[38;5;28;01mreturn\u001b[39;00m handle_torch_function(\n\u001b[32m    639\u001b[39m         Tensor.backward,\n\u001b[32m    640\u001b[39m         (\u001b[38;5;28mself\u001b[39m,),\n\u001b[32m   (...)\u001b[39m\u001b[32m    645\u001b[39m         inputs=inputs,\n\u001b[32m    646\u001b[39m     )\n\u001b[32m--> \u001b[39m\u001b[32m647\u001b[39m \u001b[43mtorch\u001b[49m\u001b[43m.\u001b[49m\u001b[43mautograd\u001b[49m\u001b[43m.\u001b[49m\u001b[43mbackward\u001b[49m\u001b[43m(\u001b[49m\n\u001b[32m    648\u001b[39m \u001b[43m    \u001b[49m\u001b[38;5;28;43mself\u001b[39;49m\u001b[43m,\u001b[49m\u001b[43m \u001b[49m\u001b[43mgradient\u001b[49m\u001b[43m,\u001b[49m\u001b[43m \u001b[49m\u001b[43mretain_graph\u001b[49m\u001b[43m,\u001b[49m\u001b[43m \u001b[49m\u001b[43mcreate_graph\u001b[49m\u001b[43m,\u001b[49m\u001b[43m \u001b[49m\u001b[43minputs\u001b[49m\u001b[43m=\u001b[49m\u001b[43minputs\u001b[49m\n\u001b[32m    649\u001b[39m \u001b[43m\u001b[49m\u001b[43m)\u001b[49m\n",
      "\u001b[36mFile \u001b[39m\u001b[32m~/projects/dl-mcs/.venv/lib/python3.13/site-packages/torch/autograd/__init__.py:354\u001b[39m, in \u001b[36mbackward\u001b[39m\u001b[34m(tensors, grad_tensors, retain_graph, create_graph, grad_variables, inputs)\u001b[39m\n\u001b[32m    349\u001b[39m     retain_graph = create_graph\n\u001b[32m    351\u001b[39m \u001b[38;5;66;03m# The reason we repeat the same comment below is that\u001b[39;00m\n\u001b[32m    352\u001b[39m \u001b[38;5;66;03m# some Python versions print out the first line of a multi-line function\u001b[39;00m\n\u001b[32m    353\u001b[39m \u001b[38;5;66;03m# calls in the traceback and some print out the last line\u001b[39;00m\n\u001b[32m--> \u001b[39m\u001b[32m354\u001b[39m \u001b[43m_engine_run_backward\u001b[49m\u001b[43m(\u001b[49m\n\u001b[32m    355\u001b[39m \u001b[43m    \u001b[49m\u001b[43mtensors\u001b[49m\u001b[43m,\u001b[49m\n\u001b[32m    356\u001b[39m \u001b[43m    \u001b[49m\u001b[43mgrad_tensors_\u001b[49m\u001b[43m,\u001b[49m\n\u001b[32m    357\u001b[39m \u001b[43m    \u001b[49m\u001b[43mretain_graph\u001b[49m\u001b[43m,\u001b[49m\n\u001b[32m    358\u001b[39m \u001b[43m    \u001b[49m\u001b[43mcreate_graph\u001b[49m\u001b[43m,\u001b[49m\n\u001b[32m    359\u001b[39m \u001b[43m    \u001b[49m\u001b[43minputs_tuple\u001b[49m\u001b[43m,\u001b[49m\n\u001b[32m    360\u001b[39m \u001b[43m    \u001b[49m\u001b[43mallow_unreachable\u001b[49m\u001b[43m=\u001b[49m\u001b[38;5;28;43;01mTrue\u001b[39;49;00m\u001b[43m,\u001b[49m\n\u001b[32m    361\u001b[39m \u001b[43m    \u001b[49m\u001b[43maccumulate_grad\u001b[49m\u001b[43m=\u001b[49m\u001b[38;5;28;43;01mTrue\u001b[39;49;00m\u001b[43m,\u001b[49m\n\u001b[32m    362\u001b[39m \u001b[43m\u001b[49m\u001b[43m)\u001b[49m\n",
      "\u001b[36mFile \u001b[39m\u001b[32m~/projects/dl-mcs/.venv/lib/python3.13/site-packages/torch/autograd/graph.py:829\u001b[39m, in \u001b[36m_engine_run_backward\u001b[39m\u001b[34m(t_outputs, *args, **kwargs)\u001b[39m\n\u001b[32m    827\u001b[39m     unregister_hooks = _register_logging_hooks_on_whole_graph(t_outputs)\n\u001b[32m    828\u001b[39m \u001b[38;5;28;01mtry\u001b[39;00m:\n\u001b[32m--> \u001b[39m\u001b[32m829\u001b[39m     \u001b[38;5;28;01mreturn\u001b[39;00m \u001b[43mVariable\u001b[49m\u001b[43m.\u001b[49m\u001b[43m_execution_engine\u001b[49m\u001b[43m.\u001b[49m\u001b[43mrun_backward\u001b[49m\u001b[43m(\u001b[49m\u001b[43m  \u001b[49m\u001b[38;5;66;43;03m# Calls into the C++ engine to run the backward pass\u001b[39;49;00m\n\u001b[32m    830\u001b[39m \u001b[43m        \u001b[49m\u001b[43mt_outputs\u001b[49m\u001b[43m,\u001b[49m\u001b[43m \u001b[49m\u001b[43m*\u001b[49m\u001b[43margs\u001b[49m\u001b[43m,\u001b[49m\u001b[43m \u001b[49m\u001b[43m*\u001b[49m\u001b[43m*\u001b[49m\u001b[43mkwargs\u001b[49m\n\u001b[32m    831\u001b[39m \u001b[43m    \u001b[49m\u001b[43m)\u001b[49m  \u001b[38;5;66;03m# Calls into the C++ engine to run the backward pass\u001b[39;00m\n\u001b[32m    832\u001b[39m \u001b[38;5;28;01mfinally\u001b[39;00m:\n\u001b[32m    833\u001b[39m     \u001b[38;5;28;01mif\u001b[39;00m attach_logging_hooks:\n",
      "\u001b[31mRuntimeError\u001b[39m: element 0 of tensors does not require grad and does not have a grad_fn"
     ]
    }
   ],
   "source": [
    "w = torch.tensor(1.0, requires_grad=True)\n",
    "f = w + 1\n",
    "# первая итерация\n",
    "f.backward()\n",
    "with torch.no_grad():\n",
    "    w = w - w.grad  # упс, для w теперь requires_grad = False!\n",
    "f = w + 1\n",
    "\n",
    "# вторая итерация\n",
    "f.backward()"
   ]
  }
 ],
 "metadata": {
  "kernelspec": {
   "display_name": ".venv",
   "language": "python",
   "name": "python3"
  },
  "language_info": {
   "codemirror_mode": {
    "name": "ipython",
    "version": 3
   },
   "file_extension": ".py",
   "mimetype": "text/x-python",
   "name": "python",
   "nbconvert_exporter": "python",
   "pygments_lexer": "ipython3",
   "version": "3.13.5"
  },
  "orig_nbformat": 4
 },
 "nbformat": 4,
 "nbformat_minor": 2
}
