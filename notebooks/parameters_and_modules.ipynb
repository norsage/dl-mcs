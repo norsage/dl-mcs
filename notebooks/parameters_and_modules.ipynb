{
 "cells": [
  {
   "cell_type": "markdown",
   "metadata": {},
   "source": [
    "### Оптимизаторы, параметры и модули"
   ]
  },
  {
   "cell_type": "markdown",
   "metadata": {},
   "source": [
    "$\\hat{y} = \\sigma(w^T x + b)$\n",
    "\n",
    "$\\sigma(t) = \\frac{1}{1 + \\exp(-t)}$\n",
    "\n",
    "$\\text{CE}(y, \\hat{y}) = -y \\cdot \\log \\hat{y} - (1 - y) \\log (1 - \\hat{y})$"
   ]
  },
  {
   "cell_type": "markdown",
   "metadata": {},
   "source": [
    "<img src=\"https://pytorch.org/tutorials/_images/comp-graph.png\" style=\"background:white\" width=\"600\"/>"
   ]
  },
  {
   "cell_type": "code",
   "execution_count": 1,
   "metadata": {},
   "outputs": [],
   "source": [
    "import torch"
   ]
  },
  {
   "cell_type": "code",
   "execution_count": 2,
   "metadata": {},
   "outputs": [],
   "source": [
    "torch.manual_seed(42)\n",
    "n_samples = 16\n",
    "n_features = 5\n",
    "x = torch.randn(n_samples, n_features)  # входной тензор\n",
    "y = torch.randint(2, size=(n_samples, 1)).float()  # выходной тензор\n",
    "w = torch.randn(\n",
    "    n_features, 1, requires_grad=True\n",
    ")  # параметр, хотим обновлять градиентным спуском\n",
    "b = torch.randn(1, requires_grad=True)  # параметр, хотим обновлять градиентным спуском"
   ]
  },
  {
   "cell_type": "code",
   "execution_count": 3,
   "metadata": {},
   "outputs": [
    {
     "name": "stdout",
     "output_type": "stream",
     "text": [
      "Начальное значение ошибки: 0.8950\n"
     ]
    }
   ],
   "source": [
    "loss = torch.nn.functional.binary_cross_entropy_with_logits(x @ w + b, y)\n",
    "print(f\"Начальное значение ошибки: {loss:.4f}\")"
   ]
  },
  {
   "cell_type": "markdown",
   "metadata": {},
   "source": [
    "#### 1. Добавляем оптимизатор"
   ]
  },
  {
   "cell_type": "code",
   "execution_count": 4,
   "metadata": {},
   "outputs": [],
   "source": [
    "optimizer = torch.optim.SGD([w, b], lr=0.1)"
   ]
  },
  {
   "cell_type": "code",
   "execution_count": 5,
   "metadata": {},
   "outputs": [
    {
     "name": "stdout",
     "output_type": "stream",
     "text": [
      "tensor(0.3861, grad_fn=<BinaryCrossEntropyWithLogitsBackward0>)\n"
     ]
    }
   ],
   "source": [
    "n_iter = 1000\n",
    "step = 0.1\n",
    "for i in range(n_iter):\n",
    "    z = x @ w + b\n",
    "    loss = torch.nn.functional.binary_cross_entropy_with_logits(z, y)\n",
    "    # посчитаем производные\n",
    "    loss.backward()\n",
    "    # обновим значения параметров\n",
    "    optimizer.step()\n",
    "    # обнулим градиенты, мы не хотим их накапливать в данном случае\n",
    "    optimizer.zero_grad()\n",
    "\n",
    "# посмотрим, уменьшилось ли значение ошибки\n",
    "print(loss)"
   ]
  },
  {
   "cell_type": "markdown",
   "metadata": {},
   "source": [
    "#### 2. Прячем параметры модели внутрь `torch.nn.Module`"
   ]
  },
  {
   "cell_type": "code",
   "execution_count": 6,
   "metadata": {},
   "outputs": [],
   "source": [
    "class LogReg(torch.nn.Module):\n",
    "    def __init__(self, in_features: int, n_classes: int) -> None:\n",
    "        super().__init__()\n",
    "        self.weight = torch.nn.Parameter(torch.randn(in_features, n_classes))\n",
    "        self.bias = torch.nn.Parameter(torch.randn(n_classes))\n",
    "\n",
    "    def forward(self, x: torch.Tensor) -> torch.Tensor:\n",
    "        return x @ self.weight + self.bias"
   ]
  },
  {
   "cell_type": "code",
   "execution_count": 7,
   "metadata": {},
   "outputs": [],
   "source": [
    "torch.manual_seed(42)\n",
    "n_samples = 16\n",
    "n_features = 5\n",
    "x = torch.randn(n_samples, n_features)  # входной тензор\n",
    "y = torch.randint(2, size=(n_samples, 1)).float()  # выходной тензор\n",
    "\n",
    "logreg = LogReg(n_features, 1)\n",
    "optimizer = torch.optim.SGD(logreg.parameters(), lr=0.1)"
   ]
  },
  {
   "cell_type": "code",
   "execution_count": 8,
   "metadata": {},
   "outputs": [
    {
     "name": "stdout",
     "output_type": "stream",
     "text": [
      "tensor(0.3861, grad_fn=<BinaryCrossEntropyWithLogitsBackward0>)\n"
     ]
    }
   ],
   "source": [
    "n_iter = 1000\n",
    "step = 0.1\n",
    "for i in range(n_iter):\n",
    "    z = logreg.forward(x)\n",
    "    loss = torch.nn.functional.binary_cross_entropy_with_logits(z, y)\n",
    "    # посчитаем производные\n",
    "    loss.backward()\n",
    "    # обновим значения параметров\n",
    "    optimizer.step()\n",
    "    # обнулим градиенты, мы не хотим их накапливать в данном случае\n",
    "    optimizer.zero_grad()\n",
    "\n",
    "# посмотрим, уменьшилось ли значение ошибки\n",
    "print(loss)"
   ]
  },
  {
   "cell_type": "markdown",
   "metadata": {},
   "source": [
    "#### 3. Как учить на GPU"
   ]
  },
  {
   "cell_type": "code",
   "execution_count": null,
   "metadata": {},
   "outputs": [
    {
     "name": "stdout",
     "output_type": "stream",
     "text": [
      "cpu\n",
      "mps:0\n"
     ]
    }
   ],
   "source": [
    "accelerator = \"cuda\"  # 'cuda' для NVIDIA GPU или 'mps' для Macbook серии M\n",
    "print(x.device)\n",
    "x = x.to(device=accelerator)\n",
    "print(x.device)"
   ]
  },
  {
   "cell_type": "code",
   "execution_count": 10,
   "metadata": {},
   "outputs": [
    {
     "name": "stdout",
     "output_type": "stream",
     "text": [
      "tensor(0.3833, device='mps:0', grad_fn=<BinaryCrossEntropyWithLogitsBackward0>)\n"
     ]
    }
   ],
   "source": [
    "x = x.to(device=accelerator)\n",
    "y = y.to(device=accelerator)\n",
    "logreg.to(device=accelerator)\n",
    "\n",
    "for i in range(n_iter):\n",
    "    z = logreg.forward(x)\n",
    "    loss = torch.nn.functional.binary_cross_entropy_with_logits(z, y)\n",
    "    # посчитаем производные\n",
    "    loss.backward()\n",
    "    # обновим значения параметров\n",
    "    optimizer.step()\n",
    "    # обнулим градиенты, мы не хотим их накапливать в данном случае\n",
    "    optimizer.zero_grad()\n",
    "\n",
    "# посмотрим, уменьшилось ли значение ошибки\n",
    "print(loss)"
   ]
  },
  {
   "cell_type": "markdown",
   "metadata": {},
   "source": [
    "#### 4. Как сохранять и загружать веса модели"
   ]
  },
  {
   "cell_type": "markdown",
   "metadata": {},
   "source": [
    "Способ 1 (предпочтительный): сохраняем только веса"
   ]
  },
  {
   "cell_type": "code",
   "execution_count": 11,
   "metadata": {},
   "outputs": [
    {
     "name": "stdout",
     "output_type": "stream",
     "text": [
      "tensor(0.3833, grad_fn=<BinaryCrossEntropyWithLogitsBackward0>)\n"
     ]
    }
   ],
   "source": [
    "# сохраняем состояние модуля\n",
    "torch.save(logreg.state_dict(), \"logreg.pt\")\n",
    "\n",
    "# загружаем\n",
    "new_model = LogReg(n_features, 1)\n",
    "new_model.load_state_dict(torch.load(\"logreg.pt\", weights_only=True))\n",
    "z = new_model.forward(x.to(device=\"cpu\"))\n",
    "loss = torch.nn.functional.binary_cross_entropy_with_logits(z, y.to(device=\"cpu\"))\n",
    "print(loss)"
   ]
  },
  {
   "cell_type": "markdown",
   "metadata": {},
   "source": [
    "Способ 2: сохраняем вместе со структурой класса (использует `pickle`)"
   ]
  },
  {
   "cell_type": "code",
   "execution_count": 12,
   "metadata": {},
   "outputs": [
    {
     "name": "stdout",
     "output_type": "stream",
     "text": [
      "tensor(0.3833, device='mps:0', grad_fn=<BinaryCrossEntropyWithLogitsBackward0>)\n"
     ]
    }
   ],
   "source": [
    "# сохраняем состояние модуля\n",
    "torch.save(logreg, \"logreg.pt\")\n",
    "\n",
    "# загружаем\n",
    "new_model = torch.load(\"logreg.pt\", weights_only=False)\n",
    "z = new_model.forward(x)\n",
    "loss = torch.nn.functional.binary_cross_entropy_with_logits(z, y)\n",
    "print(loss)"
   ]
  }
 ],
 "metadata": {
  "kernelspec": {
   "display_name": ".venv",
   "language": "python",
   "name": "python3"
  },
  "language_info": {
   "codemirror_mode": {
    "name": "ipython",
    "version": 3
   },
   "file_extension": ".py",
   "mimetype": "text/x-python",
   "name": "python",
   "nbconvert_exporter": "python",
   "pygments_lexer": "ipython3",
   "version": "3.13.5"
  },
  "orig_nbformat": 4
 },
 "nbformat": 4,
 "nbformat_minor": 2
}
