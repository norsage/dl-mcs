{
 "cells": [
  {
   "cell_type": "markdown",
   "metadata": {},
   "source": [
    "### Пример: логистическая регрессия на Pytorch"
   ]
  },
  {
   "cell_type": "markdown",
   "metadata": {},
   "source": [
    "$\\hat{y} = \\sigma(w^T x + b)$\n",
    "\n",
    "$\\sigma(t) = \\frac{1}{1 + \\exp(-t)}$\n",
    "\n",
    "$\\text{CE}(y, \\hat{y}) = -y \\cdot \\log \\hat{y} - (1 - y) \\log (1 - \\hat{y})$"
   ]
  },
  {
   "cell_type": "markdown",
   "metadata": {},
   "source": [
    "<img src=\"https://pytorch.org/tutorials/_images/comp-graph.png\" style=\"background:white\" width=\"600\"/>"
   ]
  },
  {
   "cell_type": "code",
   "execution_count": 1,
   "metadata": {},
   "outputs": [],
   "source": [
    "import torch"
   ]
  },
  {
   "cell_type": "code",
   "execution_count": 2,
   "metadata": {},
   "outputs": [
    {
     "data": {
      "text/plain": [
       "tensor(0.8950, grad_fn=<MeanBackward0>)"
      ]
     },
     "execution_count": 2,
     "metadata": {},
     "output_type": "execute_result"
    }
   ],
   "source": [
    "torch.manual_seed(42)\n",
    "n_samples = 16\n",
    "n_features = 5\n",
    "x = torch.randn(n_samples, n_features)  # входной тензор\n",
    "y = torch.randint(2, size=(n_samples, 1)).float()  # выходной тензор\n",
    "w = torch.randn(\n",
    "    n_features, 1, requires_grad=True\n",
    ")  # параметр, хотим обновлять градиентным спуском\n",
    "b = torch.randn(1, requires_grad=True)  # параметр, хотим обновлять градиентным спуском\n",
    "z = torch.matmul(x, w) + b\n",
    "y_hat = torch.sigmoid(z)\n",
    "loss = (-y * y_hat.log() - (1 - y) * (1 - y_hat).log()).mean()\n",
    "# loss = torch.nn.functional.binary_cross_entropy_with_logits(z, y)  # функция потерь, хотим минимизировать\n",
    "loss"
   ]
  },
  {
   "cell_type": "code",
   "execution_count": 3,
   "metadata": {},
   "outputs": [
    {
     "name": "stdout",
     "output_type": "stream",
     "text": [
      "Gradient function for z = <AddBackward0 object at 0x10dd07e80>\n",
      "Gradient function for loss = <MeanBackward0 object at 0x10dd07c10>\n"
     ]
    }
   ],
   "source": [
    "print(f\"Gradient function for z = {z.grad_fn}\")\n",
    "print(f\"Gradient function for loss = {loss.grad_fn}\")"
   ]
  },
  {
   "cell_type": "markdown",
   "metadata": {},
   "source": [
    "Напишем цикл для поиска параметров, минимизирующих функцию ошибки"
   ]
  },
  {
   "cell_type": "code",
   "execution_count": 4,
   "metadata": {},
   "outputs": [
    {
     "name": "stdout",
     "output_type": "stream",
     "text": [
      "tensor(0.3861, grad_fn=<BinaryCrossEntropyWithLogitsBackward0>)\n"
     ]
    }
   ],
   "source": [
    "n_iter = 1000\n",
    "step = 0.1\n",
    "for i in range(n_iter):\n",
    "    z = x @ w + b\n",
    "    loss = torch.nn.functional.binary_cross_entropy_with_logits(z, y)\n",
    "    # посчитаем производные\n",
    "    loss.backward()\n",
    "\n",
    "    # обновим значения параметров внутри менеджера контекста `no_grad`\n",
    "    with torch.no_grad():\n",
    "        w -= w.grad * step\n",
    "        b -= b.grad * step\n",
    "\n",
    "    # обнулим градиенты, мы не хотим их накапливать в данном случае\n",
    "    w.grad = None\n",
    "    b.grad = None\n",
    "\n",
    "# посмотрим, уменьшилось ли значение ошибки\n",
    "print(loss)"
   ]
  }
 ],
 "metadata": {
  "kernelspec": {
   "display_name": ".venv",
   "language": "python",
   "name": "python3"
  },
  "language_info": {
   "codemirror_mode": {
    "name": "ipython",
    "version": 3
   },
   "file_extension": ".py",
   "mimetype": "text/x-python",
   "name": "python",
   "nbconvert_exporter": "python",
   "pygments_lexer": "ipython3",
   "version": "3.13.5"
  },
  "orig_nbformat": 4
 },
 "nbformat": 4,
 "nbformat_minor": 2
}
