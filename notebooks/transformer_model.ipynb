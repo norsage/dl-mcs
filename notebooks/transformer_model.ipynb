{
 "cells": [
  {
   "cell_type": "markdown",
   "metadata": {},
   "source": [
    "## Трансформер. Варианты архитектур"
   ]
  },
  {
   "cell_type": "markdown",
   "metadata": {},
   "source": [
    "План на сегодня:\n",
    "- Encoder-only архитектура: BERT\n",
    "- Decoder-only архитектура: GPT\n",
    "- Стратегии семплирования при генерации\n",
    "- Перекрёстное внимание\n",
    "- Encoder-decoder: T5\n",
    "- Мультимодальные трансформеры"
   ]
  },
  {
   "cell_type": "code",
   "execution_count": 1,
   "metadata": {},
   "outputs": [],
   "source": [
    "import matplotlib.pyplot as plt\n",
    "import torch\n",
    "from torch import Tensor, nn"
   ]
  },
  {
   "cell_type": "markdown",
   "metadata": {},
   "source": [
    "### 1. Encoder-only"
   ]
  },
  {
   "cell_type": "markdown",
   "metadata": {},
   "source": [
    "Bidirectional encoder representations from transformers (BERT)"
   ]
  },
  {
   "cell_type": "markdown",
   "metadata": {},
   "source": [
    "Обозначения:\n",
    "- `<class>` — специальный токен класса\n",
    "- $x_i$ — токены\n",
    "- embedding — слой эмбеддинга токенов\n",
    "- positional encoding — позиционное кодирование\n",
    "- transformer layer — слой трансформера (multi-head attention + layer norm + skip connection + MLP)\n",
    "- **с** - метка класса\n",
    "- LSM — linear softmax\n",
    "- $y_i$ — вероятности скрытых токенов\n",
    "\n",
    "<img src=\"../assets/images/bert.png\" style=\"background:white\" width=\"500\"/>"
   ]
  },
  {
   "cell_type": "markdown",
   "metadata": {},
   "source": [
    "Обучение идёт в два этапа:\n",
    "1. pre-training: выбирается 15% токенов предложения, задача модели — угадать их; из этих токенов\n",
    "   - 80% заменяются на специальный токен `<mask>`\n",
    "   - 10% заменяются на случайный токен из словаря\n",
    "   - 10% остаются неизменными\n",
    "2. fine-tuning: донастройка под нужную задачу\n",
    "   - классификация предложений: обучение MLP поверх выхода для `<class>` токена\n",
    "   - классификация токенов: обучение MLP, общего для всех токенов"
   ]
  },
  {
   "cell_type": "markdown",
   "metadata": {},
   "source": [
    "### 2. Decoder-only"
   ]
  },
  {
   "cell_type": "markdown",
   "metadata": {},
   "source": [
    "Generative pretrained transformer (GPT): $p(\\mathbf{x_n} | \\mathbf{x_1}, ..., \\mathbf{x_{n-1}})$"
   ]
  },
  {
   "cell_type": "markdown",
   "metadata": {},
   "source": [
    "Обозначения:\n",
    "- `<start>` — специальный токен начала генерации\n",
    "- $x_i$ — токены\n",
    "- embedding — слой эмбеддинга токенов\n",
    "- positional encoding — позиционное кодирование\n",
    "- masked transformer layer — слой трансформера с маской на будущие токены\n",
    "- LSM — linear softmax\n",
    "- $y_i$ — вероятности токенов\n",
    "\n",
    "<img src=\"../assets/images/gpt.png\" style=\"background:white\" width=\"500\"/>"
   ]
  },
  {
   "cell_type": "markdown",
   "metadata": {},
   "source": [
    "Эти модели обучаются в *self-supervised* режиме, обрабатывая токены параллельно, но без подглядывания вперёд — для этого нужно наложить маску на матрицу внимания (*masked*, или *causal attention*):\n",
    "\n",
    "<img src=\"../assets/images/masked_attention.png\" style=\"background:white\" width=\"300\"/>"
   ]
  },
  {
   "cell_type": "code",
   "execution_count": 2,
   "metadata": {},
   "outputs": [],
   "source": [
    "def create_causal_mask(token_ids: Tensor, pad_token_id: int = 0) -> Tensor:\n",
    "    B, T = token_ids.shape\n",
    "    # маска для <pad> токенов\n",
    "    pad_mask = (token_ids != pad_token_id).unsqueeze(1)  # B x 1 x T\n",
    "    # маска нижнетреугольной матрицы\n",
    "    causal_mask = torch.tril(\n",
    "        torch.ones((T, T), device=token_ids.device)\n",
    "    ).bool()  # T x T\n",
    "    return pad_mask & causal_mask  # B x T x T"
   ]
  },
  {
   "cell_type": "code",
   "execution_count": 3,
   "metadata": {},
   "outputs": [
    {
     "data": {
      "image/png": "[encoded data removed]",
      "text/plain": [
       "<Figure size 1100x300 with 3 Axes>"
      ]
     },
     "metadata": {},
     "output_type": "display_data"
    }
   ],
   "source": [
    "# токены предложения\n",
    "tokens = [\"<start>\", r\"$x_1$\", r\"$x_2$\", r\"$x_3$\", \"<end>\"]\n",
    "token_ids = torch.tensor([1, 3, 4, 5, 2])\n",
    "input_ids = token_ids[:-1].view(1, -1)\n",
    "target_ids = token_ids[1:].view(1, -1)\n",
    "\n",
    "# создаём маску\n",
    "causal_mask = create_causal_mask(target_ids)\n",
    "\n",
    "# получаем эмбеддинги токенов (без позиционного кодирования для простоты)\n",
    "embedding_layer = nn.Embedding(num_embeddings=7, embedding_dim=5)\n",
    "h = embedding_layer.forward(token_ids.view(1, -1))\n",
    "\n",
    "# внимание между входными и выходными токенами\n",
    "attention = (\n",
    "    torch.bmm(embedding_layer(input_ids), embedding_layer(target_ids).permute(0, 2, 1))\n",
    "    / 5**0.5\n",
    ")\n",
    "# накладываем маску\n",
    "masked_attention = attention.masked_fill(causal_mask == 0, float(\"-inf\")).softmax(-1)\n",
    "\n",
    "\n",
    "colormap = \"gist_gray\"\n",
    "fig, axes = plt.subplots(1, 3, figsize=(11, 3))\n",
    "axes[0].imshow(attention.squeeze().detach().softmax(-1), cmap=colormap)\n",
    "axes[1].imshow(causal_mask.squeeze(), cmap=colormap)\n",
    "axes[2].imshow(masked_attention.squeeze().detach(), cmap=colormap)\n",
    "\n",
    "axes[0].set_ylabel(\"Выходные токены\")\n",
    "for ax, title in zip(axes, [\"Исходные веса\", \"Маска\", \"Веса с маской\"]):\n",
    "    ax.set_title(title)\n",
    "    ax.set_xlabel(\"Входные токены\")\n",
    "    ax.set_xticks(torch.arange(len(tokens) - 1), tokens[:-1])\n",
    "    ax.set_yticks(torch.arange(len(tokens) - 1), tokens[1:])\n",
    "\n",
    "plt.show()"
   ]
  },
  {
   "cell_type": "code",
   "execution_count": 4,
   "metadata": {},
   "outputs": [
    {
     "data": {
      "text/plain": [
       "torch.Size([1, 4, 5])"
      ]
     },
     "execution_count": 4,
     "metadata": {},
     "output_type": "execute_result"
    }
   ],
   "source": [
    "class MaskedSelfAttention(nn.Module):\n",
    "    def __init__(self, input_dim: int, hidden_dim: int) -> None:\n",
    "        super().__init__()\n",
    "        self.W_q = nn.Linear(input_dim, hidden_dim)\n",
    "        self.W_k = nn.Linear(input_dim, hidden_dim)\n",
    "        self.W_v = nn.Linear(input_dim, input_dim)\n",
    "\n",
    "    def forward(self, x: Tensor, mask: Tensor) -> Tensor:\n",
    "        q = self.W_q(x)\n",
    "        k = self.W_k(x)\n",
    "        v = self.W_v(x)\n",
    "        _, _, D_k = k.shape\n",
    "\n",
    "        attention: Tensor = torch.bmm(q, k.permute(0, 2, 1)) / D_k**0.5\n",
    "        # apply mask\n",
    "        if mask is not None:\n",
    "            attention = attention.masked_fill(mask == 0, float(\"-inf\"))\n",
    "        attention_weights = attention.softmax(-1)\n",
    "        return torch.bmm(attention_weights, v)\n",
    "\n",
    "\n",
    "MaskedSelfAttention(5, 3).forward(\n",
    "    embedding_layer(input_ids), mask=create_causal_mask(input_ids)\n",
    ").shape"
   ]
  },
  {
   "cell_type": "markdown",
   "metadata": {},
   "source": [
    "### 3. Encoder-decoder и перекрёстное внимание"
   ]
  },
  {
   "cell_type": "markdown",
   "metadata": {},
   "source": [
    "Энкодер обрабатывает входной контекст, предоставляя надбор ключей и значений для декодера.\n",
    "\n",
    "Декодер, помимо *masked self-attention*, теперь имеет второе внимание, направленное на контекст из энкодера — *cross-attention*"
   ]
  },
  {
   "cell_type": "markdown",
   "metadata": {},
   "source": [
    "<img src=\"../assets/images/seq2seq.png\" style=\"background:white\" width=\"600\"/>\n",
    "<img src=\"../assets/images/cross-attention.png\" style=\"background:white\" width=\"174\"/>"
   ]
  },
  {
   "cell_type": "code",
   "execution_count": 5,
   "metadata": {},
   "outputs": [
    {
     "data": {
      "text/plain": [
       "torch.Size([4, 12, 32])"
      ]
     },
     "execution_count": 5,
     "metadata": {},
     "output_type": "execute_result"
    }
   ],
   "source": [
    "class MaskedAttention(nn.Module):\n",
    "    def __init__(self, input_dim: int, hidden_dim: int) -> None:\n",
    "        super().__init__()\n",
    "        self.W_q = nn.Linear(input_dim, hidden_dim)\n",
    "        self.W_k = nn.Linear(input_dim, hidden_dim)\n",
    "        self.W_v = nn.Linear(input_dim, input_dim)\n",
    "\n",
    "    def forward(\n",
    "        self, q: Tensor,\n",
    "        k: Tensor,\n",
    "        v: Tensor,\n",
    "        mask: Tensor\n",
    "    ) -> Tensor:\n",
    "        q = self.W_q(q)\n",
    "        k = self.W_k(k)\n",
    "        v = self.W_v(v)\n",
    "        _, _, D_k = k.shape\n",
    "        attention: Tensor = torch.bmm(\n",
    "            q, k.permute(0, 2, 1)\n",
    "        ) / D_k**0.5\n",
    "        # apply mask\n",
    "        attention = attention.masked_fill(\n",
    "            mask == 0, float(\"-inf\")\n",
    "        )\n",
    "        attention_weights = attention.softmax(-1)\n",
    "        return torch.bmm(attention_weights, v)\n",
    "\n",
    "\n",
    "class DecoderLayer(nn.Module):\n",
    "    def __init__(self, input_dim: int, hidden_dim: int) -> None:\n",
    "        super().__init__()\n",
    "        self.self_attention = MaskedAttention(input_dim, hidden_dim)\n",
    "        self.cross_attention = MaskedAttention(input_dim, hidden_dim)\n",
    "        self.mlp = nn.Sequential(\n",
    "            nn.Linear(input_dim, input_dim),\n",
    "            nn.ReLU(inplace=True),\n",
    "            nn.Linear(input_dim, input_dim),\n",
    "        )\n",
    "        self.norm1 = nn.LayerNorm(input_dim)\n",
    "        self.norm2 = nn.LayerNorm(input_dim)\n",
    "        self.norm3 = nn.LayerNorm(input_dim)\n",
    "\n",
    "    def forward(\n",
    "        self, x: Tensor,\n",
    "        x_mask: Tensor,\n",
    "        z: Tensor,\n",
    "        z_mask: Tensor\n",
    "    ) -> Tensor:\n",
    "        # x — embedded targets\n",
    "        # z — embedded inputs\n",
    "        # 1. masked self-attention\n",
    "        h = self.norm1(self.self_attention.forward(\n",
    "            q=x, k=x, v=x, mask=x_mask) + x\n",
    "        )\n",
    "        # 2. cross-attention\n",
    "        h = self.norm1(self.cross_attention.forward(\n",
    "            q=h, k=z, v=z, mask=z_mask) + x\n",
    "        )\n",
    "        # 3. cross-attention\n",
    "        return self.norm3(self.mlp(h) + h)\n",
    "\n",
    "DecoderLayer(32, 32).forward(torch.randn(4, 12, 32), torch.ones(4, 1, 12), torch.randn(4, 10, 32), torch.ones(4, 1, 10)).shape"
   ]
  },
  {
   "cell_type": "code",
   "execution_count": 6,
   "metadata": {},
   "outputs": [
    {
     "name": "stdout",
     "output_type": "stream",
     "text": [
      "torch.Size([4, 12, 32])\n",
      "torch.Size([4, 12, 32])\n"
     ]
    }
   ],
   "source": [
    "x = torch.randn(4, 12, 32)\n",
    "mask = torch.ones(4, 1, 12)\n",
    "z = torch.randn(4, 10, 32)\n",
    "z_mask = torch.ones(4, 1, 10)\n",
    "print(MaskedAttention(32, 32).forward(x, x, x, mask).shape)\n",
    "print(MaskedAttention(32, 32).forward(x, z, z, z_mask).shape)"
   ]
  },
  {
   "cell_type": "markdown",
   "metadata": {},
   "source": [
    "Посмотрим на реализацию этого типа архитектуры на примере модели `T5` из библиотеки `transformers`.\n",
    "\n",
    "`T5Block` — основной строительный блок как энкодера, так и декодера.\n",
    "\n",
    "В энкодере он принимает эмбеддинги токенов `hidden_states` с предыдущего блока и маску для внимания `attention_mask` — она скрывает `<pad>` токены.\n",
    "\n",
    "В декодере помимо эмбеддингов токенов `hidden_states` и маски `attention_mask` (она теперь также скрывает будущие токены) блоку нужно два дополнительных входа: эмбеддинги из энкодера `encoder_hidden_states` и соответствующую маску внимания `encoder_attention_mask`."
   ]
  },
  {
   "cell_type": "markdown",
   "metadata": {},
   "source": [
    "**Упражнение**. В T5 есть несколько модификаций по сравнению с архитектурой оригинального трансформера. В частности, эмбеддинг позиции токена теперь не абсолютный, а относительный. Разберите код класса `transformers.models.t5.modeling_t5.T5Attention`, чтобы понять, как это работает."
   ]
  },
  {
   "cell_type": "code",
   "execution_count": 7,
   "metadata": {},
   "outputs": [],
   "source": [
    "from transformers.models.t5.modeling_t5 import T5Block"
   ]
  },
  {
   "cell_type": "markdown",
   "metadata": {},
   "source": [
    "### 4. Мультимодальные трансформеры"
   ]
  },
  {
   "cell_type": "markdown",
   "metadata": {},
   "source": [
    "В токены можно превращать что угодно: фрагменты изображения, участки аудиофайлов, атомы молекул\n",
    "\n",
    "А значит, можно даже передавать в трансформер токены, полученные и из разных модальностей\n",
    "\n",
    "Примеры задач:\n",
    "- ответы на вопросы по картинке\n",
    "- суммаризация видео\n",
    "- speech-to-speech между языками"
   ]
  },
  {
   "cell_type": "markdown",
   "metadata": {},
   "source": [
    "<img src=\"../assets/images/vit.png\" style=\"background:white\" width=\"500\"/>"
   ]
  }
 ],
 "metadata": {
  "kernelspec": {
   "display_name": ".venv",
   "language": "python",
   "name": "python3"
  },
  "language_info": {
   "codemirror_mode": {
    "name": "ipython",
    "version": 3
   },
   "file_extension": ".py",
   "mimetype": "text/x-python",
   "name": "python",
   "nbconvert_exporter": "python",
   "pygments_lexer": "ipython3",
   "version": "3.13.5"
  }
 },
 "nbformat": 4,
 "nbformat_minor": 2
}
