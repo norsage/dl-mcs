{
 "cells": [
  {
   "cell_type": "markdown",
   "metadata": {},
   "source": [
    "### Работа с данными\n",
    "\n",
    "https://pytorch.org/tutorials/beginner/basics/data_tutorial.html"
   ]
  },
  {
   "cell_type": "markdown",
   "metadata": {},
   "source": [
    "#### 1. Организуем доступ к данным с `torch.utils.data.Dataset`"
   ]
  },
  {
   "cell_type": "markdown",
   "metadata": {},
   "source": [
    "Датасет в pytorch - это объект класса, в котором реализовано два обязательных метода: `__getitem__(self, index: int)` (получение одиночного примера по индексу) и `__len__(self)` (получение общего количества примеров). Этих методов достаточно, чтобы разбивать датасет на мини-батчи — эту работу делает класс `torch.utils.DataLoader` с помощью различных семплеров, с ними мы познакомимся позже"
   ]
  },
  {
   "cell_type": "code",
   "execution_count": 1,
   "metadata": {},
   "outputs": [
    {
     "data": {
      "text/plain": [
       "<torch._C.Generator at 0x10c3774d0>"
      ]
     },
     "execution_count": 1,
     "metadata": {},
     "output_type": "execute_result"
    }
   ],
   "source": [
    "import torch\n",
    "\n",
    "torch.manual_seed(42)"
   ]
  },
  {
   "cell_type": "code",
   "execution_count": 2,
   "metadata": {},
   "outputs": [
    {
     "name": "stdout",
     "output_type": "stream",
     "text": [
      "(tensor([0, 1, 2]), tensor(2))\n",
      "10\n"
     ]
    }
   ],
   "source": [
    "from torch.utils.data import Dataset\n",
    "\n",
    "\n",
    "class MyDataset(Dataset):\n",
    "    def __init__(self, n: int) -> None:\n",
    "        super().__init__()\n",
    "        self.data = torch.arange(n * 3).view((n, 3))\n",
    "        self.labels = torch.randint(0, 5, size=(n,))\n",
    "\n",
    "    def __getitem__(self, index: int) -> tuple[torch.Tensor, torch.Tensor]:\n",
    "        return self.data[index], self.labels[index]\n",
    "\n",
    "    def __len__(self) -> int:\n",
    "        return len(self.data)\n",
    "\n",
    "\n",
    "dataset = MyDataset(n=10)\n",
    "print(dataset[0])\n",
    "print(len(dataset))"
   ]
  },
  {
   "cell_type": "markdown",
   "metadata": {},
   "source": [
    "Итерируемся по датасету:"
   ]
  },
  {
   "cell_type": "code",
   "execution_count": 3,
   "metadata": {},
   "outputs": [
    {
     "name": "stdout",
     "output_type": "stream",
     "text": [
      "(tensor([0, 1, 2]), tensor(3))\n",
      "(tensor([3, 4, 5]), tensor(4))\n",
      "(tensor([6, 7, 8]), tensor(0))\n",
      "(tensor([ 9, 10, 11]), tensor(4))\n",
      "(tensor([12, 13, 14]), tensor(1))\n",
      "(tensor([15, 16, 17]), tensor(2))\n",
      "(tensor([18, 19, 20]), tensor(0))\n",
      "(tensor([21, 22, 23]), tensor(0))\n",
      "(tensor([24, 25, 26]), tensor(2))\n",
      "(tensor([27, 28, 29]), tensor(1))\n"
     ]
    }
   ],
   "source": [
    "dataset = MyDataset(10)\n",
    "for i in range(len(dataset)):\n",
    "    print(dataset[i])"
   ]
  },
  {
   "cell_type": "markdown",
   "metadata": {},
   "source": [
    "#### 2. Пакуем данные в батчи с `torch.utils.data.Dataloader`"
   ]
  },
  {
   "cell_type": "markdown",
   "metadata": {},
   "source": [
    "У `torch.utils.data.Dataloader` много аргументов, на практике чаще всего используются\n",
    "- `dataset` - объект, поддерживающий методы `__getitem__` и `__len__` (вопрос: можно ли передать список? словарь? множество?)\n",
    "- `batch_size` - размер мини-батча\n",
    "- `shuffle` - нужно ли перетасовать индексы перед нарезкой на мини-батчи (это всегда стоит делать с обучающими данными, почему?)\n",
    "- `num_workers` - количество процессов, которые будут загружать данные - иногда позволяет ускорить обучение (подумайте, в каком случае?)"
   ]
  },
  {
   "cell_type": "code",
   "execution_count": 4,
   "metadata": {},
   "outputs": [],
   "source": [
    "from torch.utils.data import DataLoader\n",
    "\n",
    "my_loader = DataLoader(\n",
    "    dataset=dataset,\n",
    "    batch_size=4,\n",
    "    shuffle=True,\n",
    "    # drop_last=\n",
    ")"
   ]
  },
  {
   "cell_type": "code",
   "execution_count": 5,
   "metadata": {},
   "outputs": [
    {
     "name": "stdout",
     "output_type": "stream",
     "text": [
      "tensor([[24, 25, 26],\n",
      "        [ 6,  7,  8],\n",
      "        [21, 22, 23],\n",
      "        [15, 16, 17]])\n",
      "tensor([2, 0, 0, 2])\n"
     ]
    }
   ],
   "source": [
    "for i, batch in enumerate(my_loader):\n",
    "    x, y = batch\n",
    "    if i == 0:\n",
    "        print(x)\n",
    "        print(y)"
   ]
  }
 ],
 "metadata": {
  "kernelspec": {
   "display_name": ".venv",
   "language": "python",
   "name": "python3"
  },
  "language_info": {
   "codemirror_mode": {
    "name": "ipython",
    "version": 3
   },
   "file_extension": ".py",
   "mimetype": "text/x-python",
   "name": "python",
   "nbconvert_exporter": "python",
   "pygments_lexer": "ipython3",
   "version": "3.13.5"
  },
  "orig_nbformat": 4
 },
 "nbformat": 4,
 "nbformat_minor": 2
}
