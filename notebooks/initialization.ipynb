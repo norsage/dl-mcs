{
 "cells": [
  {
   "cell_type": "markdown",
   "metadata": {},
   "source": [
    "### Важность инициализации"
   ]
  },
  {
   "cell_type": "markdown",
   "metadata": {},
   "source": [
    "План на сегодня: разбираем проблемы инициализации весов\n",
    "1. Диагностика проблем:\n",
    "   - начальное распределение выхода\n",
    "   - значения промежуточных активаций и нелинейности с насыщением\n",
    "2. Настраиваем инициализацию весов"
   ]
  },
  {
   "cell_type": "markdown",
   "metadata": {},
   "source": [
    "Впереди нас ждут разные сложные архитектуры, но перед этим задержимся подольше на MLP, чтобы получить большьше интуитивного понимания об активациях и градиентах в нейронных сетях в процессе обучения\n",
    "\n"
   ]
  },
  {
   "cell_type": "code",
   "execution_count": 1,
   "metadata": {},
   "outputs": [],
   "source": [
    "import torch\n",
    "from torch import nn, Tensor\n",
    "from torch.nn import functional as F\n",
    "import matplotlib.pyplot as plt"
   ]
  },
  {
   "cell_type": "markdown",
   "metadata": {},
   "source": [
    "#### 1. Подготовим данные, модель и функции для обучения"
   ]
  },
  {
   "cell_type": "markdown",
   "metadata": {},
   "source": [
    "Загружаем MNIST и создаём загрузчики данных:"
   ]
  },
  {
   "cell_type": "code",
   "execution_count": 2,
   "metadata": {},
   "outputs": [],
   "source": [
    "from torch.utils.data import DataLoader\n",
    "from torchvision import datasets, transforms\n",
    "\n",
    "train_dataset = datasets.MNIST(\n",
    "    'data', \n",
    "    train=True, \n",
    "    download=True,    \n",
    "    transform=transforms.ToTensor(),\n",
    ")\n",
    "test_dataset = datasets.MNIST(\n",
    "    'data', \n",
    "    train=False, \n",
    "    download=True,\n",
    "    transform=transforms.ToTensor(),\n",
    ")\n",
    "\n",
    "batch_size = 32\n",
    "train_loader = DataLoader(train_dataset, batch_size=batch_size, shuffle=True)\n",
    "test_loader = DataLoader(test_dataset, batch_size=batch_size, shuffle=False)"
   ]
  },
  {
   "cell_type": "markdown",
   "metadata": {},
   "source": [
    "Определим функции обучения:\n",
    "1. градиенты обновляем вручную — для большей прозрачности того, что происходит\n",
    "2. эпоху ограничиваем сотней батчей — просто для скорости"
   ]
  },
  {
   "cell_type": "code",
   "execution_count": 3,
   "metadata": {},
   "outputs": [],
   "source": [
    "def training_step(batch: tuple[Tensor, Tensor], model: nn.Module, lr: float = 0.01) -> Tensor:\n",
    "    # прогоняем батч через модель\n",
    "    x, y = batch\n",
    "    logits, *_ = model(x)\n",
    "    # оцениваем значение ошибки\n",
    "    loss = F.cross_entropy(logits, y)\n",
    "    # обновляем параметры\n",
    "    loss.backward()\n",
    "\n",
    "    with torch.no_grad():\n",
    "        for param in model.parameters():\n",
    "            param.data -= lr * param.grad\n",
    "            param.grad = None\n",
    "    # возвращаем значение функции ошибки для логирования\n",
    "    return loss\n",
    "\n",
    "def train_epoch(dataloader: DataLoader, model: nn.Module, lr: float = 0.01, max_batches: int = 100) -> Tensor:\n",
    "    loss_values: list[float] = []\n",
    "    for i, batch in enumerate(dataloader):\n",
    "        loss = training_step(batch, model, lr)\n",
    "        loss_values.append(loss.item())\n",
    "        if i == max_batches:\n",
    "            break\n",
    "    return torch.tensor(loss_values).mean()\n",
    "\n",
    "def test_epoch(dataloader: DataLoader, model: nn.Module, max_batches: int = 100) -> Tensor:\n",
    "    loss_values: list[float] = []\n",
    "    for i, batch in enumerate(dataloader):\n",
    "        x, y = batch\n",
    "        with torch.no_grad():\n",
    "            logits, *_ = model(x)\n",
    "        # оцениваем значение ошибки\n",
    "        loss = F.cross_entropy(logits, y)\n",
    "        loss_values.append(loss.item())\n",
    "        if i == max_batches:\n",
    "            break\n",
    "    return torch.tensor(loss_values).mean()"
   ]
  },
  {
   "cell_type": "markdown",
   "metadata": {},
   "source": [
    "Теперь создадим архитектуру модели — двуслойный перцептрон с `tanh` в качестве нелинейности."
   ]
  },
  {
   "cell_type": "code",
   "execution_count": 4,
   "metadata": {},
   "outputs": [],
   "source": [
    "class MLP(nn.Module):\n",
    "    def __init__(self, input_dim: int, hidden_dim: int, output_dim: int) -> None:\n",
    "        super().__init__()\n",
    "        # параметры первого слоя\n",
    "        self.w1 = nn.Parameter(torch.randn((input_dim, hidden_dim)))\n",
    "        self.b1 = nn.Parameter(torch.randn(hidden_dim))\n",
    "\n",
    "        # параметры второго слоя\n",
    "        self.w2 = nn.Parameter(torch.randn((hidden_dim, output_dim)))\n",
    "        self.b2 = nn.Parameter(torch.randn(output_dim))\n",
    "\n",
    "    def forward(self, x: Tensor) -> tuple[Tensor, Tensor, Tensor]:\n",
    "        h = x.flatten(1) @ self.w1 + self.b1\n",
    "        h_act = F.tanh(h)\n",
    "        logits = h_act @ self.w2 + self.b2\n",
    "        # помимо логитов, вернём ещё промежуточные активации - они нам понадобятся\n",
    "        return logits, h_act, h\n"
   ]
  },
  {
   "cell_type": "markdown",
   "metadata": {},
   "source": [
    "#### 2. Начальное распределение классов"
   ]
  },
  {
   "cell_type": "markdown",
   "metadata": {},
   "source": [
    "Запустим обучение на несколько эпох и понаблюдаем за изменением ошибки:"
   ]
  },
  {
   "cell_type": "code",
   "execution_count": 5,
   "metadata": {},
   "outputs": [
    {
     "name": "stdout",
     "output_type": "stream",
     "text": [
      "Initial loss: 12.6718\n"
     ]
    }
   ],
   "source": [
    "torch.manual_seed(42)\n",
    "x, y = next(iter(train_loader))\n",
    "input_dim = 784\n",
    "hidden_dim = 128\n",
    "output_dim = len(train_dataset.classes)\n",
    "# создадим модель и выведем значение ошибки после инициализации\n",
    "model = MLP(input_dim, hidden_dim, output_dim)\n",
    "logits, h_act, h = model(x)\n",
    "loss = F.cross_entropy(logits, y)\n",
    "print(f\"Initial loss: {loss:.4f}\")"
   ]
  },
  {
   "cell_type": "code",
   "execution_count": 6,
   "metadata": {},
   "outputs": [
    {
     "name": "stdout",
     "output_type": "stream",
     "text": [
      "Epoch 0 loss = 6.2169\n",
      "Epoch 1 loss = 2.9442\n",
      "Epoch 2 loss = 2.0792\n",
      "Epoch 3 loss = 1.8158\n",
      "Epoch 4 loss = 1.4292\n",
      "Epoch 5 loss = 1.2592\n",
      "Epoch 6 loss = 1.2597\n",
      "Epoch 7 loss = 1.0403\n",
      "Epoch 8 loss = 1.0188\n",
      "Epoch 9 loss = 0.9762\n",
      "Test loss: 1.2467\n"
     ]
    }
   ],
   "source": [
    "n_epochs = 10\n",
    "batches_per_epoch = 100\n",
    "for i in range(n_epochs):\n",
    "    loss = train_epoch(train_loader, model, lr=0.1, max_batches=batches_per_epoch)\n",
    "    print(f\"Epoch {i} loss = {loss:.4f}\")\n",
    "\n",
    "print(f\"Test loss: {test_epoch(test_loader, model, max_batches=batches_per_epoch):.4f}\")"
   ]
  },
  {
   "cell_type": "markdown",
   "metadata": {},
   "source": [
    "Мы стартовали с очень высокого значения ошибки, но уже к третьей эпохе модель сошлась к значению около 2, после чего ошибка уже изменялась понемногу. Почему так?"
   ]
  },
  {
   "cell_type": "markdown",
   "metadata": {},
   "source": [
    "Модель очень неоптимально сконфигурирована на этапе инициализации.\n",
    "Начальный лосс очень далёк от ожидаемого - значит, инициализация точно плохая."
   ]
  },
  {
   "cell_type": "markdown",
   "metadata": {},
   "source": [
    "А какое ожидаемое значение ошибки?\n",
    "\n",
    "$$CrossEntropy(\\hat{\\mathbf{y}}, \\mathbf{y}) = - \\sum_i \\mathbf{y}_i \\log \\hat{\\mathbf{y}}_i$$\n",
    "\n",
    "Поскольку в нашем случае $\\mathbf{y}_j = 1$ только для верного класса $j$ и $\\mathbf{y}_i = 0$ для остальных классов, то формула упрощается:\n",
    "\n",
    "$$CrossEntropy(\\hat{\\mathbf{y}}, \\mathbf{y}) = - \\log \\hat{\\mathbf{y}}_j$$"
   ]
  },
  {
   "cell_type": "code",
   "execution_count": 7,
   "metadata": {},
   "outputs": [
    {
     "data": {
      "text/plain": [
       "tensor(2.3026)"
      ]
     },
     "execution_count": 7,
     "metadata": {},
     "output_type": "execute_result"
    }
   ],
   "source": [
    "n_classes = 10\n",
    "-torch.tensor(1/n_classes).log()"
   ]
  },
  {
   "cell_type": "markdown",
   "metadata": {},
   "source": [
    "Что же пошло не так?\n",
    "\n",
    "Посмотрим, что происходит с ошибкой в зависимости от значений логитов:"
   ]
  },
  {
   "cell_type": "code",
   "execution_count": 8,
   "metadata": {},
   "outputs": [
    {
     "data": {
      "text/plain": [
       "(tensor([0., 0., 0.]), tensor([0.3333, 0.3333, 0.3333]), tensor(1.0986))"
      ]
     },
     "execution_count": 8,
     "metadata": {},
     "output_type": "execute_result"
    }
   ],
   "source": [
    "logit = torch.tensor([0., 0., 0.])\n",
    "# logit = torch.randn(3) * 10\n",
    "probs = F.softmax(logit, dim=0)\n",
    "correct = 2\n",
    "\n",
    "logit, probs, -probs[correct].log()\n"
   ]
  },
  {
   "cell_type": "markdown",
   "metadata": {},
   "source": [
    "А теперь посмотрим на наши логиты из модели. Что можно сказать о распределении над классами? Что это говорит о нашей инициализации?"
   ]
  },
  {
   "cell_type": "code",
   "execution_count": 9,
   "metadata": {},
   "outputs": [
    {
     "data": {
      "text/plain": [
       "tensor([  4.1134,   2.9905, -12.1505,  12.8240,  -8.0046,  -2.2303,  -8.9362,\n",
       "        -15.0341,  15.1311,  15.6911], grad_fn=<SelectBackward0>)"
      ]
     },
     "execution_count": 9,
     "metadata": {},
     "output_type": "execute_result"
    }
   ],
   "source": [
    "logits[0]"
   ]
  },
  {
   "cell_type": "markdown",
   "metadata": {},
   "source": [
    "Как нам добиться близости к нулю для логитов?"
   ]
  },
  {
   "cell_type": "markdown",
   "metadata": {},
   "source": [
    "**Упражнение**: Вернёмся в `__init__` модели и зададим инициализацию нулями для `b2` и маленькое стандартное отклонение для `w2`, которое обеспечит нам +- равномерное начальное распределение классов.\n",
    "\n",
    "Изменилось ли значение ошибки, когда мы убрали \"лёгкую часть\" задачи?"
   ]
  },
  {
   "cell_type": "markdown",
   "metadata": {},
   "source": [
    "#### 3. Значения промежуточных активаций"
   ]
  },
  {
   "cell_type": "markdown",
   "metadata": {},
   "source": [
    "<img src=\"../assets/images/activation_functions.png\" style=\"background:white\" width=\"700\"/>"
   ]
  },
  {
   "cell_type": "markdown",
   "metadata": {},
   "source": [
    "В нашей модели мы используем нелинейность `tanh` между линейными слоями.\n",
    "\n",
    "$$\\tanh z = \\frac{e^z - e^{-z}}{e^z + e^{-z}}$$\n",
    "\n",
    "$$\\frac{d(\\tanh z)}{dz} = 1 - \\tanh^2 z$$\n",
    "\n",
    "Что происходит с градиентами при значениях активации близких к $0$? Близких к $1$ и $-1$?"
   ]
  },
  {
   "cell_type": "markdown",
   "metadata": {},
   "source": [
    "Посмотрим на активации после нелинейности, применённой на выходы из первого слоя:"
   ]
  },
  {
   "cell_type": "code",
   "execution_count": 10,
   "metadata": {},
   "outputs": [
    {
     "data": {
      "image/png": "[encoded data removed]",
      "text/plain": [
       "<Figure size 640x480 with 1 Axes>"
      ]
     },
     "metadata": {},
     "output_type": "display_data"
    }
   ],
   "source": [
    "plt.hist(h_act.flatten().tolist(), 20, density=True)\n",
    "plt.show()"
   ]
  },
  {
   "cell_type": "markdown",
   "metadata": {},
   "source": [
    "<!-- Это тот самый \"vanishing gradient\", о котором мы ещё услышим позже, когда будем говорить про рекуррентные сети -->"
   ]
  },
  {
   "cell_type": "markdown",
   "metadata": {},
   "source": [
    "Посмотрим на масштаб проблемы:"
   ]
  },
  {
   "cell_type": "code",
   "execution_count": 11,
   "metadata": {},
   "outputs": [
    {
     "data": {
      "text/plain": [
       "<matplotlib.image.AxesImage at 0x136dfc440>"
      ]
     },
     "execution_count": 11,
     "metadata": {},
     "output_type": "execute_result"
    },
    {
     "data": {
      "image/png": "[encoded data removed]",
      "text/plain": [
       "<Figure size 1000x2000 with 1 Axes>"
      ]
     },
     "metadata": {},
     "output_type": "display_data"
    }
   ],
   "source": [
    "plt.figure(figsize=(10, 20))\n",
    "plt.imshow(h_act.abs() > 0.99, cmap=\"gray\")"
   ]
  },
  {
   "cell_type": "markdown",
   "metadata": {},
   "source": [
    "Вспоминаем, что градиент по параметрам глубоко в вычислительном графе — это длинная цепочка произведений.\n",
    "\n",
    "Везде, где пиксел белый, частная производная — одно из звеньев в цепочке — почти равна нулю.\n",
    "\n",
    "Градиент будет уничтожен везде, где у нас белый пиксел.\n",
    "\n",
    "А если найдётся целиком белый столбец — мы получим \"мёртвый нейрон\"!"
   ]
  },
  {
   "cell_type": "markdown",
   "metadata": {},
   "source": [
    "**Упражнение**: Вернёмся в `__init__` модели и подберём стандартное отклонение для `w1`, которое даст нам красивое значение для гистограммы активаций (+- равномерно на интервале (-1, 1) с небольшими пиками около границ интервала) и картинку для активаций батча, где будет совсем немного белых пикселей."
   ]
  },
  {
   "cell_type": "markdown",
   "metadata": {},
   "source": [
    "#### 4. А как правильно?"
   ]
  },
  {
   "cell_type": "markdown",
   "metadata": {},
   "source": [
    "Посмотрим, что происходит с распределением значений, когда мы перемножаем две матрицы, инициализированные стандартным нормальным распределением:"
   ]
  },
  {
   "cell_type": "code",
   "execution_count": 12,
   "metadata": {},
   "outputs": [
    {
     "name": "stdout",
     "output_type": "stream",
     "text": [
      "tensor(0.0068) tensor(1.0001)\n",
      "tensor(0.0030) tensor(3.1896)\n"
     ]
    },
    {
     "data": {
      "image/png": "[encoded data removed]",
      "text/plain": [
       "<Figure size 700x300 with 2 Axes>"
      ]
     },
     "metadata": {},
     "output_type": "display_data"
    }
   ],
   "source": [
    "x = torch.randn(1000, 10)\n",
    "w = torch.randn(10, 200)\n",
    "y =  x @ w\n",
    "print(x.mean(), x.std())\n",
    "print(y.mean(), y.std())\n",
    "fig, (ax1, ax2) = plt.subplots(1, 2, figsize=(7, 3))\n",
    "ax1.hist(x.flatten().tolist(), 20, density=True)\n",
    "ax2.hist(y.flatten().tolist(), 20, density=True)\n",
    "plt.show()\n"
   ]
  },
  {
   "cell_type": "markdown",
   "metadata": {},
   "source": [
    "Распределение расползлось, как исправить?"
   ]
  },
  {
   "cell_type": "markdown",
   "metadata": {},
   "source": [
    "\n",
    "Ответ: Оказывается, нужно разделить на $\\sqrt{d_{input}}$"
   ]
  },
  {
   "cell_type": "markdown",
   "metadata": {},
   "source": [
    "На практике этого достаточно, но если хочется предельной точности: https://pytorch.org/docs/stable/nn.init.html\n",
    "   $$\\text{std} = \\frac{\\text{gain}(f_{act})}{\\sqrt{\\text{fan mode}}}$$"
   ]
  },
  {
   "cell_type": "code",
   "execution_count": 13,
   "metadata": {},
   "outputs": [
    {
     "data": {
      "text/plain": [
       "0.1473139127471974"
      ]
     },
     "execution_count": 13,
     "metadata": {},
     "output_type": "execute_result"
    }
   ],
   "source": [
    "torch.nn.init.calculate_gain('tanh') / hidden_dim**0.5"
   ]
  },
  {
   "cell_type": "markdown",
   "metadata": {},
   "source": [
    "Посмотрим, есть ли проблемы с встроенным слоем `torch.nn.Linear`"
   ]
  },
  {
   "cell_type": "code",
   "execution_count": 14,
   "metadata": {},
   "outputs": [],
   "source": [
    "class MLP(nn.Module):\n",
    "    def __init__(self, input_dim: int, hidden_dim: int, output_dim: int) -> None:\n",
    "        super().__init__()\n",
    "        self.l1 = nn.Linear(input_dim, hidden_dim)\n",
    "        self.l2 = nn.Linear(hidden_dim, output_dim)\n",
    "\n",
    "    def forward(self, x: Tensor) -> tuple[Tensor, Tensor, Tensor]:\n",
    "        h = self.l1(x.flatten(1))\n",
    "        h_act = F.tanh(h)\n",
    "        logits = self.l2(h_act)\n",
    "        return logits, h_act, h"
   ]
  },
  {
   "cell_type": "code",
   "execution_count": 15,
   "metadata": {},
   "outputs": [
    {
     "name": "stdout",
     "output_type": "stream",
     "text": [
      "Initial loss: 2.3116\n",
      "Epoch 0 loss = 1.1166\n",
      "Epoch 1 loss = 0.5111\n",
      "Epoch 2 loss = 0.4220\n",
      "Epoch 3 loss = 0.3741\n",
      "Epoch 4 loss = 0.3784\n",
      "Epoch 5 loss = 0.3524\n",
      "Epoch 6 loss = 0.3013\n",
      "Epoch 7 loss = 0.3255\n",
      "Epoch 8 loss = 0.3155\n",
      "Epoch 9 loss = 0.3043\n",
      "Test loss: 0.3521\n"
     ]
    }
   ],
   "source": [
    "torch.manual_seed(42)\n",
    "x, y = next(iter(train_loader))\n",
    "# создадим модель и выведем значение ошибки после инициализации\n",
    "model = MLP(input_dim, hidden_dim, output_dim)\n",
    "logits, h_act, h = model(x)\n",
    "loss = F.cross_entropy(logits, y)\n",
    "print(f\"Initial loss: {loss:.4f}\")\n",
    "\n",
    "n_epochs = 10\n",
    "batches_per_epoch = 100\n",
    "for i in range(n_epochs):\n",
    "    loss = train_epoch(train_loader, model, lr=0.1, max_batches=batches_per_epoch)\n",
    "    print(f\"Epoch {i} loss = {loss:.4f}\")\n",
    "\n",
    "print(f\"Test loss: {test_epoch(test_loader, model, max_batches=batches_per_epoch):.4f}\")"
   ]
  },
  {
   "cell_type": "markdown",
   "metadata": {},
   "source": [
    "Явных проблем нет: инициализация по умолчанию настроена хорошо!"
   ]
  },
  {
   "cell_type": "markdown",
   "metadata": {},
   "source": [
    "#### Резюме\n",
    "1. Проблемы с внутренними активациями возникают не только на инициализации, но и в процессе оптимизации - один большой шаг в неправильную сторону может убить нейрон (в случае с функцией активации ReLU - навсегда)\n",
    "2. В маленьких моделях проблемы инициализации не так критичны - сеть в итоге обучится, просто потребуется больше времени.\n",
    "3. Чем глубже сеть (больше слоёв) - тем больше проблем\n",
    "4. Некоторые приёмы позволяют сгладить негативный эффект неудачной инициализации:\n",
    "   1. residual connections\n",
    "   2. normalization layers (`nn.BatchNorm`, `nn.LayerNorm`, `nn.GroupNorm`)\n",
    "   3. лучшие оптимизаторы (RMSProp, Adam)"
   ]
  }
 ],
 "metadata": {
  "kernelspec": {
   "display_name": ".venv",
   "language": "python",
   "name": "python3"
  },
  "language_info": {
   "codemirror_mode": {
    "name": "ipython",
    "version": 3
   },
   "file_extension": ".py",
   "mimetype": "text/x-python",
   "name": "python",
   "nbconvert_exporter": "python",
   "pygments_lexer": "ipython3",
   "version": "3.13.5"
  },
  "orig_nbformat": 4
 },
 "nbformat": 4,
 "nbformat_minor": 2
}
