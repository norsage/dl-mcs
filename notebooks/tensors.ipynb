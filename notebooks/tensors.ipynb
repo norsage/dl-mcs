{
 "cells": [
  {
   "cell_type": "markdown",
   "metadata": {},
   "source": [
    "### Тензоры, способы создания и атрибуты"
   ]
  },
  {
   "cell_type": "markdown",
   "metadata": {},
   "source": [
    "Многомерный массив элементов одного типа.\n",
    "\n",
    "Будем использовать обозначение $X \\sim (s_1, s_2, ..., s_n)$ для формы тензора.\n",
    "\n",
    "Примеры:\n",
    "- $x \\sim (d)$ — $d$-мерный вектор\n",
    "- $X \\sim (n, m)$ — матрица $n \\times m$\n",
    "- $X \\sim (b, 3, h, w)$ — тензор, представляющий батч из b RGB-изображений размера $h \\times w$"
   ]
  },
  {
   "cell_type": "markdown",
   "metadata": {},
   "source": [
    "Всё очень похоже на `numpy`, поэтому будет полезно повторить:\n",
    "- Индексация: https://numpy.org/doc/stable/user/basics.indexing.html\n",
    "- Broadcasting (о нём будет речь ниже): https://numpy.org/doc/stable/user/basics.broadcasting.html\n",
    "\n",
    "Про тензоры в Pytorch:\n",
    "- https://pytorch.org/tutorials/beginner/basics/tensorqs_tutorial.html\n",
    "- https://pytorch.org/tutorials/beginner/introyt/tensors_deeper_tutorial.html"
   ]
  },
  {
   "cell_type": "markdown",
   "metadata": {},
   "source": [
    "Основные атрибуты: ранг (`dim`), размерности (`shape`), тип значений (`type`), место размещения (`device`)"
   ]
  },
  {
   "cell_type": "code",
   "execution_count": 1,
   "metadata": {},
   "outputs": [
    {
     "name": "stdout",
     "output_type": "stream",
     "text": [
      "2.8.0\n",
      "CUDA available: False\n"
     ]
    }
   ],
   "source": [
    "import torch\n",
    "\n",
    "print(torch.__version__)\n",
    "print(f\"CUDA available: {torch.cuda.is_available()}\")"
   ]
  },
  {
   "cell_type": "code",
   "execution_count": 2,
   "metadata": {},
   "outputs": [
    {
     "name": "stdout",
     "output_type": "stream",
     "text": [
      "tensor([[1, 2, 3],\n",
      "        [4, 5, 6]])\n",
      "\n",
      "Rank:  2 \n",
      "Shape:  torch.Size([2, 3]) \n",
      "Device:  cpu \n",
      "type:  torch.LongTensor\n"
     ]
    }
   ],
   "source": [
    "# из списка\n",
    "x = torch.tensor([[1, 2, 3], [4, 5, 6]])\n",
    "# посмотрим сам тензор и его атрибуты\n",
    "print(x)\n",
    "print(\n",
    "    \"\\nRank: \", x.dim(),\n",
    "    \"\\nShape: \", x.shape,\n",
    "    \"\\nDevice: \", x.device,\n",
    "    \"\\ntype: \", x.type(),\n",
    ")"
   ]
  },
  {
   "cell_type": "code",
   "execution_count": 3,
   "metadata": {},
   "outputs": [
    {
     "name": "stdout",
     "output_type": "stream",
     "text": [
      "tensor([[ 2.,  0.,  6.],\n",
      "        [ 0., 10.,  0.]])\n",
      "tensor([[0.5000, 1.0000, 1.5000],\n",
      "        [2.0000, 2.5000, 3.0000]])\n",
      "tensor([-1.5000,  1.5000, -1.5000])\n",
      "tensor([[  6., -12.],\n",
      "        [ 12., -27.]])\n"
     ]
    }
   ],
   "source": [
    "# примеры: сложение, умножение на скаляр, агрегация, матричное умножение\n",
    "y = torch.tensor([[1, -2, 3], [-4, 5, -6]]).float()\n",
    "print(x + y)\n",
    "print(0.5 * x)\n",
    "print(y.mean(dim=0))\n",
    "print(x.float() @ y.T)"
   ]
  },
  {
   "cell_type": "markdown",
   "metadata": {},
   "source": [
    "Ещё пример: линейная регрессия"
   ]
  },
  {
   "cell_type": "code",
   "execution_count": 4,
   "metadata": {},
   "outputs": [
    {
     "name": "stdout",
     "output_type": "stream",
     "text": [
      "Форма тензора с предсказаниями: torch.Size([5])\n",
      "Форма тензора с предсказаниями: torch.Size([10, 5])\n"
     ]
    }
   ],
   "source": [
    "# случай с 1 наблюдением\n",
    "x = torch.randn(4)\n",
    "w = torch.randn(4, 5)\n",
    "b = torch.randn(5)\n",
    "y = x @ w + b  # тут всё ок, x @ w: [5], b: [5], формы совпадают\n",
    "print(\"Форма тензора с предсказаниями:\", y.shape)\n",
    "\n",
    "# случай с 10 наблюдениями\n",
    "X = torch.randn(10, 4)\n",
    "Y = X @ w + b\n",
    "# Z = X @ w: [10, 4] x [4, 5] -> [10, 5]\n",
    "# Y = Z + b: [10, 5] + [5] -> [10, 5] ???\n",
    "print(\"Форма тензора с предсказаниями:\", Y.shape)"
   ]
  },
  {
   "cell_type": "markdown",
   "metadata": {},
   "source": [
    "#### 1.2. Broadcasting\n",
    "\n",
    "https://pytorch.org/tutorials/beginner/introyt/tensors_deeper_tutorial.html#in-brief-tensor-broadcasting"
   ]
  },
  {
   "cell_type": "markdown",
   "metadata": {},
   "source": [
    "Некоторые операции поддерживают `broadcast`, то есть размерности аргументов автоматически расширяются до нужного размера без копирования данных\n",
    "Благодаря `broadcast` многие вещи получается описать лаконично.\n",
    "\n",
    "<img src=\"../assets/images/02.05-broadcasting.png\" />"
   ]
  },
  {
   "cell_type": "markdown",
   "metadata": {},
   "source": [
    "\n",
    "Общие правила, когда это работает:\n",
    "1. Все тензоры не пустые\n",
    "2. При сравнении размеров тензоров, начиная с последней:\n",
    "   1. Размерности совпадают, или\n",
    "   2. Одна из размерностей равна $1$, или\n",
    "   3. Размерность отсутствует в одном из тензоров"
   ]
  },
  {
   "cell_type": "markdown",
   "metadata": {},
   "source": [
    "Возможно ли сложить тензоры `x` и `y` в примерах снизу?"
   ]
  },
  {
   "cell_type": "code",
   "execution_count": 5,
   "metadata": {},
   "outputs": [],
   "source": [
    "# x=torch.empty(5,7,3)\n",
    "# y=torch.empty(5,7,3)\n",
    "\n",
    "# x=torch.empty((0,))\n",
    "# y=torch.empty(2,2)\n",
    "\n",
    "# x=torch.empty(5,3,4,1)\n",
    "# y=torch.empty(  3,1,1)\n",
    "\n",
    "# x=torch.empty(5,2,4,1)\n",
    "# y=torch.empty(  3,1,1)\n",
    "\n",
    "# (x + y).shape"
   ]
  },
  {
   "cell_type": "markdown",
   "metadata": {},
   "source": [
    "Пример: посчитаем матрицу попарных разностей между элементами пары векторов"
   ]
  },
  {
   "cell_type": "code",
   "execution_count": 6,
   "metadata": {},
   "outputs": [
    {
     "name": "stdout",
     "output_type": "stream",
     "text": [
      "tensor([0, 1, 2, 3, 4, 5])\n",
      "tensor([0, 1, 2, 3])\n"
     ]
    },
    {
     "data": {
      "text/plain": [
       "tensor([[ 0, -1, -2, -3],\n",
       "        [ 1,  0, -1, -2],\n",
       "        [ 2,  1,  0, -1],\n",
       "        [ 3,  2,  1,  0],\n",
       "        [ 4,  3,  2,  1],\n",
       "        [ 5,  4,  3,  2]])"
      ]
     },
     "execution_count": 6,
     "metadata": {},
     "output_type": "execute_result"
    }
   ],
   "source": [
    "x = torch.arange(6)\n",
    "y = torch.arange(4)\n",
    "print(x)\n",
    "print(y)\n",
    "# преобразуем форму x к (6, 1) и попробуем вычесть y\n",
    "x.view(-1, 1) - y\n",
    "# формы тензоров x: (6, 1), y: (4,), последняя размерность в x равна 1,\n",
    "# а следующая отсутствует в y, значит работает broadcast\n",
    "# x (6, 1)\n",
    "# y (   4)"
   ]
  }
 ],
 "metadata": {
  "kernelspec": {
   "display_name": ".venv",
   "language": "python",
   "name": "python3"
  },
  "language_info": {
   "codemirror_mode": {
    "name": "ipython",
    "version": 3
   },
   "file_extension": ".py",
   "mimetype": "text/x-python",
   "name": "python",
   "nbconvert_exporter": "python",
   "pygments_lexer": "ipython3",
   "version": "3.13.5"
  },
  "orig_nbformat": 4
 },
 "nbformat": 4,
 "nbformat_minor": 2
}
