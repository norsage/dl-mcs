{
 "cells": [
  {
   "cell_type": "markdown",
   "metadata": {},
   "source": [
    "### Стабилизация обучения и регуляризация"
   ]
  },
  {
   "cell_type": "markdown",
   "metadata": {},
   "source": [
    "Сегодня мы хотим понаблюдать за ***переобучением***: ситуацией, когда модель в процессе обучения  начинает реагировать на шумовую составляющую обучающей выборки, а не извлекать полезный сигнал, из-за чего плохо обобщается на новые данные.\n",
    "\n",
    "В этой практике вы попробуете избавиться от этой проблемы, применив несколько техник регуляризации.\n",
    "\n",
    "Кроме этого мы также немного коснёмся других архитектурных модификаций, которые позволяют сделать процесс обучения более стабильным и ускорить сходимость модели к низким значениям ошибки.\n",
    "\n",
    "Значительная часть вспомогательного кода для запуска обучения модели уже реализована и доступна в `training_utils.py`, вам потребуется только реализовать несколько архитектур нейронных сетей и сравнить их с базовой моделью."
   ]
  },
  {
   "cell_type": "code",
   "execution_count": 1,
   "metadata": {},
   "outputs": [],
   "source": [
    "import torch\n",
    "import torch.nn as nn\n",
    "import torch.nn.functional as F\n",
    "from torch import Tensor\n",
    "from torch.utils.data import DataLoader, random_split\n",
    "from torchvision import datasets, transforms\n",
    "from training_utils import create_report, run_experiment"
   ]
  },
  {
   "cell_type": "markdown",
   "metadata": {},
   "source": [
    "Проверять наши гипотезы будем на датасете MNIST.\n",
    "\n",
    "Вызвать переобучение можно двумя способами: усложнить модель (увеличить кол-во обучаемых параметров) или уменьшить обучающую выборку, мы для скорости экспериментов пойдём вторым путём и оставим в обучающей выборке 1920 наблюдений:"
   ]
  },
  {
   "cell_type": "code",
   "execution_count": 2,
   "metadata": {},
   "outputs": [],
   "source": [
    "torch.manual_seed(42)\n",
    "\n",
    "train_dataset = datasets.MNIST(\n",
    "    \"data\",\n",
    "    train=True,\n",
    "    download=True,\n",
    "    transform=transforms.ToTensor(),\n",
    ")\n",
    "test_dataset = datasets.MNIST(\n",
    "    \"data\",\n",
    "    train=False,\n",
    "    download=True,\n",
    "    transform=transforms.ToTensor(),\n",
    ")\n",
    "\n",
    "batch_size = 64\n",
    "# сделаем случайную подвыборку из обучающего датасета\n",
    "subset_size = batch_size * 30\n",
    "train_dataset, _ = random_split(\n",
    "    train_dataset, lengths=[subset_size, len(train_dataset) - subset_size]\n",
    ")\n",
    "test_dataset, _ = random_split(\n",
    "    test_dataset, lengths=[subset_size, len(test_dataset) - subset_size]\n",
    ")\n",
    "\n",
    "train_loader = DataLoader(train_dataset, batch_size=batch_size, shuffle=True)\n",
    "test_loader = DataLoader(test_dataset, batch_size=batch_size, shuffle=False)"
   ]
  },
  {
   "cell_type": "code",
   "execution_count": 3,
   "metadata": {},
   "outputs": [],
   "source": [
    "N_EPOCHS = 40  # все модели будем учить 40 эпох, т.е. полных проходов по датасету"
   ]
  },
  {
   "cell_type": "markdown",
   "metadata": {},
   "source": [
    "#### Baseline: модель с проблемами инициализации"
   ]
  },
  {
   "cell_type": "markdown",
   "metadata": {},
   "source": [
    "В качестве стартовой точки возьмём модель, состоящую из трёх полносвязных слоёв с функцией активации `tanh`, значения параметров которой инициализированы значениями из стандартного нормального распределения. Такая инициализация является проблематичной, так как приводит к насыщению функции `tanh`, при котором значения активаций попадают в пологие хвосты этой функции, где градиент практически нулевой, из-за чего обучение ранних слоёв модели сильно затрудняется или становится невозможным."
   ]
  },
  {
   "cell_type": "code",
   "execution_count": 4,
   "metadata": {},
   "outputs": [],
   "source": [
    "class Baseline(nn.Module):\n",
    "    def __init__(self, input_dim: int, hidden_dim: int, output_dim: int) -> None:\n",
    "        super().__init__()\n",
    "        # три линейных слоя\n",
    "        self.fc1 = nn.Linear(input_dim, hidden_dim)\n",
    "        self.fc2 = nn.Linear(hidden_dim, hidden_dim)\n",
    "        self.fc3 = nn.Linear(hidden_dim, output_dim)\n",
    "\n",
    "        # инициализируем параметры значениями из стандартного нормального распределения\n",
    "        for param in self.parameters():\n",
    "            torch.nn.init.normal_(param.data, mean=0, std=1)\n",
    "\n",
    "    def forward(self, x: Tensor) -> tuple[Tensor, Tensor, Tensor]:\n",
    "        h = self.fc1(x.flatten(start_dim=1))  # h = x @ w_1 + b_1\n",
    "        h = F.tanh(h)\n",
    "        h = self.fc2(h)\n",
    "        h = F.tanh(h)\n",
    "        logits = self.fc3(h)\n",
    "        return logits"
   ]
  },
  {
   "cell_type": "markdown",
   "metadata": {},
   "source": [
    "Запустим эксперимент с использованием `Baseline` и сгенерируем отчёт, в котором выведены графики значений ошибки и точности классификации."
   ]
  },
  {
   "cell_type": "code",
   "execution_count": 5,
   "metadata": {},
   "outputs": [
    {
     "name": "stdout",
     "output_type": "stream",
     "text": [
      "Число параметров в модели: 269322\n",
      "\n",
      "Минимальная ошибка:        6.7992\n",
      "Максимальная точность:     0.4875\n",
      "\n",
      "Ошибка в конце обучения:   6.7992\n",
      "Точность в конце обучения: 0.4875\n"
     ]
    },
    {
     "data": {
      "image/png": "[encoded data removed]",
      "text/plain": [
       "<Figure size 1200x250 with 2 Axes>"
      ]
     },
     "metadata": {},
     "output_type": "display_data"
    }
   ],
   "source": [
    "metrics = run_experiment(\n",
    "    model_gen=lambda: Baseline(784, 256, 10),\n",
    "    optim_gen=lambda x: torch.optim.Adam(x.parameters(), lr=0.001),\n",
    "    train_loader=train_loader,\n",
    "    test_loader=test_loader,\n",
    "    seed=42,\n",
    "    n_epochs=N_EPOCHS,\n",
    "    verbose=False,\n",
    "    # здесь и ниже можно поменять `device`\n",
    "    # на cuda (если у вас есть nvidia GPU или запускаете в Google Colab)\n",
    "    # или mps (если у вас Mac M1-4)\n",
    "    device=\"cpu\",\n",
    ")\n",
    "\n",
    "create_report(metrics)"
   ]
  },
  {
   "cell_type": "markdown",
   "metadata": {},
   "source": [
    "Мы видим, что наша базовая модель учится крайне неохотно и плохо обобщается на новые данные: точность классификации не достигает даже 50%. Попробуем это исправить, и начнём с самого важного: исправления плохой инициализации."
   ]
  },
  {
   "cell_type": "markdown",
   "metadata": {},
   "source": [
    "#### Исправленная инициализация"
   ]
  },
  {
   "cell_type": "markdown",
   "metadata": {},
   "source": [
    "Теперь посмотрим, как хорошая инициализация значений параметров модели повлияет на динамику обучения и точность классификации.\n",
    "\n",
    "В модуле `nn.Linear` уже настроена неплохо работающая инициализация (она реализована в методе `nn.Linear.reset_parameters`, загляните туда), так что мы просто не будем менять значения весов после создания линейных слоёв."
   ]
  },
  {
   "cell_type": "markdown",
   "metadata": {},
   "source": [
    "**NOTE:** Здесь мы познакомимся с альтернативным способом описания архитектуры модели — `nn.Sequential`.\n",
    "\n",
    "Пользоваться таким способом очень удобно, когда в нашей модели нет никаких ветвлений, и все блоки модели идут последовательно; наша простая многослойная сеть как раз такая (пока что)."
   ]
  },
  {
   "cell_type": "code",
   "execution_count": 6,
   "metadata": {},
   "outputs": [],
   "source": [
    "# первый способ: универсальный, через наследование от nn.Module\n",
    "\n",
    "\n",
    "class SimpleMLP(nn.Module):\n",
    "    def __init__(self, input_dim: int, hidden_dim: int, output_dim: int) -> None:\n",
    "        super().__init__()\n",
    "        # три линейных слоя\n",
    "        self.fc1 = nn.Linear(input_dim, hidden_dim)\n",
    "        self.fc2 = nn.Linear(hidden_dim, hidden_dim)\n",
    "        self.fc3 = nn.Linear(hidden_dim, output_dim)\n",
    "\n",
    "    def forward(self, x: Tensor) -> tuple[Tensor, Tensor, Tensor]:\n",
    "        h = self.fc1(x.flatten(start_dim=1))  # h = x @ w_1 + b_1\n",
    "        h = F.tanh(h)\n",
    "        h = self.fc2(h)\n",
    "        h = F.tanh(h)\n",
    "        logits = self.fc3(h)\n",
    "        return logits\n",
    "\n",
    "\n",
    "# второй способ: через nn.Sequential\n",
    "def create_simple_model(hidden_dim: int) -> nn.Module:\n",
    "    input_dim = 784\n",
    "    output_dim = 10\n",
    "    return nn.Sequential(\n",
    "        nn.Flatten(1),\n",
    "        nn.Linear(input_dim, hidden_dim),\n",
    "        nn.Tanh(),\n",
    "        nn.Linear(hidden_dim, hidden_dim),\n",
    "        nn.Tanh(),\n",
    "        nn.Linear(hidden_dim, output_dim),\n",
    "    )"
   ]
  },
  {
   "cell_type": "markdown",
   "metadata": {},
   "source": [
    "Обратите внимание, что при создании `nn.Sequential` мы должны использовать только наследников `nn.Module`, мы не можем передавать туда функции вроде `F.tanh`. К счастью, для большинства функций активаций есть аналог, реализованный как модуль:"
   ]
  },
  {
   "cell_type": "code",
   "execution_count": 7,
   "metadata": {},
   "outputs": [],
   "source": [
    "assert torch.allclose(\n",
    "    F.tanh(torch.tensor([-1, 1])),  # функция\n",
    "    nn.Tanh()(torch.tensor([-1, 1])),  # модуль\n",
    ")"
   ]
  },
  {
   "cell_type": "markdown",
   "metadata": {},
   "source": [
    "Проверим нашу модель в работе:"
   ]
  },
  {
   "cell_type": "code",
   "execution_count": 8,
   "metadata": {},
   "outputs": [
    {
     "name": "stdout",
     "output_type": "stream",
     "text": [
      "Число параметров в модели: 269322\n",
      "\n",
      "Минимальная ошибка:        0.3433\n",
      "Максимальная точность:     0.9068\n",
      "\n",
      "Ошибка в конце обучения:   0.4952\n",
      "Точность в конце обучения: 0.9016\n"
     ]
    },
    {
     "data": {
      "image/png": "[encoded data removed]",
      "text/plain": [
       "<Figure size 1200x250 with 2 Axes>"
      ]
     },
     "metadata": {},
     "output_type": "display_data"
    }
   ],
   "source": [
    "metrics = run_experiment(\n",
    "    model_gen=lambda: create_simple_model(256),\n",
    "    optim_gen=lambda x: torch.optim.Adam(x.parameters(), lr=0.001),\n",
    "    train_loader=train_loader,\n",
    "    test_loader=test_loader,\n",
    "    seed=42,\n",
    "    n_epochs=N_EPOCHS,\n",
    "    verbose=False,\n",
    "    device=\"cpu\",\n",
    ")\n",
    "\n",
    "create_report(metrics)"
   ]
  },
  {
   "cell_type": "markdown",
   "metadata": {},
   "source": [
    "Уже значительно лучше, правда теперь график значений ошибки на тестовой выборке довольно быстро начинает расти — это значит, наша модель переобучается. Пока это не сказывается на точности классификации — она стабилизируется около 90% — но часто при переобучении следом за значением ошибки на тестовой выборке начинают ухудшаться и метрики.\n",
    "\n",
    "Перед началом работы над переобучением модели сделаем ещё одно изменение в нашей архитектуре: изменим функцию активации для внутренних слоёв."
   ]
  },
  {
   "cell_type": "markdown",
   "metadata": {},
   "source": [
    "#### ReLU"
   ]
  },
  {
   "cell_type": "markdown",
   "metadata": {},
   "source": [
    "У функции активации `tanh` есть проблема: на её хвостах значение производной быстро стремится к нулю. Есть риск помножить пришедший градиент на ноль, из-за чего более ранние слои сети не будут обучаться.\n",
    "\n",
    "При правильной инициализации эта проблема обычно не возникает, но всё же давайте проверим, как себя поведёт обучение модели, где вместо `tanh` мы используем другую, наиболее популярную функцию активации для скрытых слоёв — `ReLU` (Rectified Linear Unit):\n",
    "\n",
    "$$\\text{ReLU}(x) = \\max(0, x)$$"
   ]
  },
  {
   "cell_type": "markdown",
   "metadata": {},
   "source": [
    "**Задание 1.**\n",
    "\n",
    "Реализуйте функцию `create_model_with_relu`, которая создаёт модель с треня линейными слоями и функцией активации `ReLU`. Вам потребуется либо `F.relu` (если реализуете модель через создание класса-наследника `nn.Module`), либо `nn.ReLU` (если реализуете модель как `nn.Sequential`)."
   ]
  },
  {
   "cell_type": "code",
   "execution_count": null,
   "metadata": {},
   "outputs": [],
   "source": [
    "def create_model_with_relu(hidden_dim: int) -> nn.Module:\n",
    "    raise NotImplementedError\n",
    "\n",
    "\n",
    "metrics = run_experiment(\n",
    "    model_gen=lambda: create_model_with_relu(256),\n",
    "    optim_gen=lambda x: torch.optim.Adam(x.parameters(), lr=0.001),\n",
    "    train_loader=train_loader,\n",
    "    test_loader=test_loader,\n",
    "    seed=42,\n",
    "    n_epochs=N_EPOCHS,\n",
    "    verbose=False,\n",
    "    device=\"cpu\",\n",
    ")\n",
    "\n",
    "create_report(metrics)"
   ]
  },
  {
   "cell_type": "markdown",
   "metadata": {},
   "source": [
    "Использование другой функции активации позволило выжать из нашей модели ещё пару процентов точности.\n",
    "\n",
    "А теперь займёмся переобучением."
   ]
  },
  {
   "cell_type": "markdown",
   "metadata": {},
   "source": [
    "#### Weight decay"
   ]
  },
  {
   "cell_type": "markdown",
   "metadata": {},
   "source": [
    "Начнём с, пожалуй, самого простого и в то же время самого действенного метода регуляризации, когда к оптимизируемой ошибке мы добавляем слагаемое с нормой весов модели (вспоминаем ridge-регрессию и lasso-регрессию):\n",
    "\n",
    "$\\mathcal{L}_{WD}(w) = \\mathcal{L}(w) + \\lambda \\Vert w \\Vert_2^2$\n",
    "\n",
    "Технически реализовано это очень просто: достаточно указать значение аргумента `weight_decay` при создании оптимизатора."
   ]
  },
  {
   "cell_type": "markdown",
   "metadata": {},
   "source": [
    "**Задание 2.**\n",
    "\n",
    "Подберите значение `weight_decay` для оптимизатора, при котором:\n",
    "1. Значение ошибки на тестовой выборке **в конце обучения** будет ниже той, что вы получили в предыдущем пункте, то есть без применения `weight_decay`\n",
    "2. Максимальная точность классификации вырастет (в идеале) либо снизится в пределах 1%.\n",
    "\n",
    "Попробуйте выставить очень маленькие (`weight_decay=1e-6`) и сравнительно большие (`weight_decay=1.0`) значения, понаблюдайте за тем, как себя ведёт обучение модели.\n",
    "\n",
    "Запустите эксперимент с подобранным значением `weight_decay`."
   ]
  },
  {
   "cell_type": "code",
   "execution_count": null,
   "metadata": {},
   "outputs": [],
   "source": [
    "metrics = run_experiment(\n",
    "    model_gen=lambda: create_model_with_relu(256),\n",
    "    optim_gen=lambda x: torch.optim.Adam(x.parameters(), lr=0.001, weight_decay=0.0),\n",
    "    train_loader=train_loader,\n",
    "    test_loader=test_loader,\n",
    "    seed=42,\n",
    "    n_epochs=N_EPOCHS,\n",
    "    verbose=False,\n",
    "    device=\"cpu\",\n",
    ")\n",
    "\n",
    "create_report(metrics)"
   ]
  },
  {
   "cell_type": "markdown",
   "metadata": {},
   "source": [
    "#### Dropout"
   ]
  },
  {
   "cell_type": "markdown",
   "metadata": {},
   "source": [
    "Этот приём уже является специфичным для нейронных сетей способом регуляризации.\n",
    "\n",
    "Идея следующая: на каждом шаге обучения мы случайным образом зануляем часть нейронов. В таких условиях каждый нейрон в следующем за dropout слое должен адаптироваться к меняющемуся набору нейронов, посылающих свои активации, и учится извлекать более устойчивые к меняющемуся контексту признаки.\n",
    "\n",
    "Dropout может применяться к входным или скрытым нейронам.\n",
    "\n",
    "<img src=\"../assets/images/dropout.png\" width=\"800\">"
   ]
  },
  {
   "cell_type": "markdown",
   "metadata": {},
   "source": [
    "**Задание 3.**\n",
    "\n",
    "Добавьте в архитектуру ниже модули `nn.Dropout` перед вторым и третьим (выходным) линейным слоем, и подберите для них значения `p` (вероятность выбросить нейрон), при которых максимальная точность модели окажется выше 93%."
   ]
  },
  {
   "cell_type": "code",
   "execution_count": null,
   "metadata": {},
   "outputs": [],
   "source": [
    "def create_model_with_dropout(hidden_dim: int) -> nn.Module:\n",
    "    input_dim = 784\n",
    "    output_dim = 10\n",
    "    return nn.Sequential(\n",
    "        nn.Flatten(1),\n",
    "        nn.Linear(input_dim, hidden_dim),\n",
    "        nn.ReLU(),\n",
    "        nn.Linear(hidden_dim, hidden_dim),\n",
    "        nn.ReLU(),\n",
    "        nn.Linear(hidden_dim, output_dim),\n",
    "    )\n",
    "\n",
    "\n",
    "metrics = run_experiment(\n",
    "    model_gen=lambda: create_model_with_dropout(256),\n",
    "    optim_gen=lambda x: torch.optim.Adam(x.parameters(), lr=0.001),\n",
    "    train_loader=train_loader,\n",
    "    test_loader=test_loader,\n",
    "    seed=42,\n",
    "    n_epochs=N_EPOCHS,\n",
    "    verbose=False,\n",
    "    device=\"cpu\",\n",
    ")\n",
    "\n",
    "create_report(metrics)"
   ]
  },
  {
   "cell_type": "markdown",
   "metadata": {},
   "source": [
    "#### Нормализация активаций: BatchNorm"
   ]
  },
  {
   "cell_type": "markdown",
   "metadata": {},
   "source": [
    "По аналогии с тем, как в классическом машинном обучении нам иногда требуется нормализовать входные признаки, в глубоком обучении для стабильной работы внутренних слоёв сети необходимо, чтобы разброс активаций был небольшим и относительно постоянным.\n",
    "\n",
    "Идея такая: мы стандартизуем значения активаций (т.е. делаем среднее значение 0 и дисперсию 1), и назначаем новые значения среднего и дисперсии с помощью обучаемых параметров масштаба и сдвига:\n",
    "$$y = \\frac{x - \\mathrm{E}[x]}{\\sqrt{\\mathrm{Var}[x] + \\epsilon}} \\cdot \\gamma + \\beta$$\n",
    "\n",
    "Обозначения:\n",
    "- $y$ — результат применения нормализации к входным активациям $x$\n",
    "- $\\mathrm{E}[x]$ — среднее значение активаций.\n",
    "- $\\mathrm{Var}[x]$ — дисперсия значений активаций.\n",
    "- $\\gamma$ и $\\beta$ — обучаемые градиентным спуском параметры масштаба и сдвига соответственно (позволяют адаптивно сдвигать новое среднее и дисперсию активаций)\n",
    "- $\\epsilon$ — маленькое положительное число, чтобы избежать деления на 0 при нулевой дисперсии активаций."
   ]
  },
  {
   "cell_type": "markdown",
   "metadata": {},
   "source": [
    "Для этой операции нам нужно оценить среднее значение и дисперсию входных активаций, а это в нашем случае можно сделать двумя разными способами:\n",
    "\n",
    "- Batch Normalization: нормализация активаций вдоль размерности батча (на картинке слева)\n",
    "- Layer Normalization: нормализация активаций вдоль размерности признаков (на картинке справа)"
   ]
  },
  {
   "cell_type": "markdown",
   "metadata": {},
   "source": [
    "<img src=\"../assets/images/norm.png\" width=\"600\">"
   ]
  },
  {
   "cell_type": "markdown",
   "metadata": {},
   "source": [
    "В первую очередь BatchNorm используют для исправления распределения активаций, которые могут возникнуть в том числе из-за неправильной инициализации.\n",
    "\n",
    "Но у него есть ещё одно полезное свойство: раз наши активации зависят от других примеров в батче (т.к. мы считаем среднее и дисперсию по ним), а батч формируется случайным образом, то мы как-будто добавляем небольшой шум к активациям и учим модель быть к нему устойчивой. Это работает как своеобразная регуляризация."
   ]
  },
  {
   "cell_type": "markdown",
   "metadata": {},
   "source": [
    "**Задание 4.**\n",
    "\n",
    "Добавьте в архитектуру ниже модули `nn.BatchNorm1d` после первого и второго линейного слоя, до функции активации. Значения необязательным параметров `nn.BatchNorm1d` оставьте дефолтными. \n",
    "\n",
    "NB: В модели ниже в линейных слоях, непосредственно следующих перед нормализациями, мы убрали параметры свободных членов (`bias=False`). Утверждается, что результат от этого не изменится. Как вы думаете, почему?"
   ]
  },
  {
   "cell_type": "code",
   "execution_count": null,
   "metadata": {},
   "outputs": [],
   "source": [
    "def create_model_with_batchnorm(hidden_dim: int) -> nn.Module:\n",
    "    input_dim = 784\n",
    "    output_dim = 10\n",
    "    return nn.Sequential(\n",
    "        nn.Flatten(1),\n",
    "        nn.Linear(input_dim, hidden_dim, bias=False),\n",
    "        nn.ReLU(),\n",
    "        nn.Linear(hidden_dim, hidden_dim, bias=False),\n",
    "        nn.ReLU(),\n",
    "        nn.Linear(hidden_dim, output_dim),\n",
    "    )"
   ]
  },
  {
   "cell_type": "code",
   "execution_count": null,
   "metadata": {},
   "outputs": [],
   "source": [
    "metrics = run_experiment(\n",
    "    model_gen=lambda: create_model_with_batchnorm(256),\n",
    "    optim_gen=lambda x: torch.optim.Adam(x.parameters(), lr=0.001),\n",
    "    train_loader=train_loader,\n",
    "    test_loader=test_loader,\n",
    "    seed=42,\n",
    "    n_epochs=N_EPOCHS,\n",
    "    verbose=False,\n",
    "    device=\"cpu\",\n",
    ")\n",
    "\n",
    "create_report(metrics)"
   ]
  },
  {
   "cell_type": "markdown",
   "metadata": {},
   "source": [
    "#### Использование инвариантностей в данных: CNN"
   ]
  },
  {
   "cell_type": "markdown",
   "metadata": {},
   "source": [
    "Одна из основных причин переобучения — большое количество параметров модели. Можем ли мы его уменьшить, сохранив выразительную силу модели?\n",
    "\n",
    "Можем, если заложим в саму архитектуру модели что-то взамен, какой-то [inductive bias](https://en.wikipedia.org/wiki/Inductive_bias).\n",
    "\n",
    "Некоторые преобразования входных данных не меняют их определённые свойства. Иногда инвариантность к таким преобразованиям можно внедрить в архитектуру модели.\n",
    "\n",
    "Сейчас за обработку каждого участка изображения у нас отвечает свой набор параметров. Что если мы вместо этого будем применять один и тот же набор параметров к каждому кусочку изображения?"
   ]
  },
  {
   "cell_type": "markdown",
   "metadata": {},
   "source": [
    "<img src=\"../assets/images/conv-pad.svg\" style=\"background:white\" width=\"400\"/>"
   ]
  },
  {
   "cell_type": "markdown",
   "metadata": {},
   "source": [
    "Устройство свёрточных сетей (и блоков `nn.Conv2d` и `nn.MaxPool2d` в частности) мы рассмотрим в следующий раз, а пока просто посмотрим, насколько лучшего результата они позволяют добиться:"
   ]
  },
  {
   "cell_type": "code",
   "execution_count": null,
   "metadata": {},
   "outputs": [],
   "source": [
    "def create_convnet_model(hidden_dim: int) -> nn.Module:\n",
    "    output_dim = 10\n",
    "    return nn.Sequential(\n",
    "        nn.Conv2d(1, hidden_dim // 4, kernel_size=3, stride=1),\n",
    "        nn.ReLU(),\n",
    "        nn.MaxPool2d(2, 2),\n",
    "        nn.Conv2d(hidden_dim // 4, hidden_dim // 2, kernel_size=3, stride=1),\n",
    "        nn.ReLU(),\n",
    "        nn.MaxPool2d(2, 2),\n",
    "        nn.Conv2d(hidden_dim // 2, hidden_dim, kernel_size=3, stride=1),\n",
    "        nn.ReLU(),\n",
    "        nn.MaxPool2d(2, 2),\n",
    "        nn.Flatten(1),\n",
    "        nn.Linear(hidden_dim, output_dim),\n",
    "    )\n",
    "\n",
    "\n",
    "metrics = run_experiment(\n",
    "    model_gen=lambda: create_convnet_model(128),\n",
    "    optim_gen=lambda x: torch.optim.Adam(x.parameters(), lr=0.001),\n",
    "    train_loader=train_loader,\n",
    "    test_loader=test_loader,\n",
    "    seed=42,\n",
    "    n_epochs=N_EPOCHS,\n",
    "    verbose=False,\n",
    "    device=\"cuda\",  # или mps, если у вас Mac M1-4\n",
    ")\n",
    "\n",
    "create_report(metrics)"
   ]
  }
 ],
 "metadata": {
  "kernelspec": {
   "display_name": ".venv",
   "language": "python",
   "name": "python3"
  },
  "language_info": {
   "codemirror_mode": {
    "name": "ipython",
    "version": 3
   },
   "file_extension": ".py",
   "mimetype": "text/x-python",
   "name": "python",
   "nbconvert_exporter": "python",
   "pygments_lexer": "ipython3",
   "version": "3.13.5"
  }
 },
 "nbformat": 4,
 "nbformat_minor": 2
}
