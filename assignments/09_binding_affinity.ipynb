{
 "cells": [
  {
   "cell_type": "markdown",
   "metadata": {},
   "source": [
    "## Предсказание свободной энергии связывания"
   ]
  },
  {
   "cell_type": "markdown",
   "metadata": {},
   "source": [
    "В этой практике вы реализуете собственную графовую архитектуру для предсказания свободной энергии связывания двух белков, которая будет более точно учитывать их геометрию, но сохранит инвариантность относительно движений в пространстве.\n",
    "\n",
    "На практике сделали всю подготовительную работу для проведения экспериментов, а также обнаружили, что в случае простой графовой модели лучший результат дал граф, построенный на атомной структуре интерфейса, но лишённый внутримолекулярных связей, т.е. рёбер, соединяющих атомы одной и той же молекулы.\n",
    "\n",
    "Однако, наша модель была крайне простой, и в своих экспериментах вы можете обнаружить, что другой представление входных данных в сочетании с более сложной архитектурой сработает ещё лучше. В качестве бонусного задания вы сможете провести любые эксперименты с архитектурой и способом представления данных."
   ]
  },
  {
   "cell_type": "markdown",
   "metadata": {},
   "source": [
    "#### Подготовка данных (с практики по GNN)"
   ]
  },
  {
   "cell_type": "code",
   "execution_count": 1,
   "metadata": {},
   "outputs": [],
   "source": [
    "import json\n",
    "from pathlib import Path\n",
    "from typing import Any, Protocol, Type\n",
    "\n",
    "import torch\n",
    "import torch.nn.functional as F\n",
    "from torch import Tensor, nn\n",
    "from torch.optim import Adam\n",
    "from torch.utils.data import Dataset\n",
    "from torch_geometric.data import Data\n",
    "from torch_geometric.loader import DataLoader\n",
    "from torch_geometric.nn import radius_graph\n",
    "from torch_geometric.nn.conv import (\n",
    "    GATConv,\n",
    "    GatedGraphConv,\n",
    "    GCNConv,\n",
    "    GraphConv,\n",
    "    MessagePassing,\n",
    ")\n",
    "from torch_geometric.nn.pool import global_add_pool, global_max_pool, global_mean_pool\n",
    "from torch_geometric.utils import to_undirected"
   ]
  },
  {
   "cell_type": "code",
   "execution_count": 2,
   "metadata": {},
   "outputs": [],
   "source": [
    "# fmt: off\n",
    "ATOM_NAMES = [\n",
    "    \"C\", \"CA\", \"CB\", \"CD\", \"CD1\", \"CD2\", \"CE\", \"CE1\", \"CE2\", \"CE3\", \"CG\", \"CG1\", \"CG2\", \"CH2\", \"CZ\", \"CZ2\", \"CZ3\",\n",
    "    \"H\", \"H2\", \"H3\", \"HA\", \"HA2\", \"HA3\", \"HB\", \"HB1\", \"HB2\", \"HB3\", \"HD1\", \"HD11\", \"HD12\", \"HD13\",\n",
    "    \"HD2\", \"HD21\", \"HD22\", \"HD23\", \"HD3\", \"HE\", \"HE1\", \"HE2\", \"HE21\", \"HE22\", \"HE3\",\n",
    "    \"HG\", \"HG1\", \"HG11\", \"HG12\", \"HG13\", \"HG2\", \"HG21\", \"HG22\", \"HG23\", \"HG3\", \"HH\", \"HH11\", \"HH12\",\n",
    "    \"HH2\", \"HH21\", \"HH22\", \"HZ\", \"HZ1\", \"HZ2\", \"HZ3\",\n",
    "    \"N\", \"ND1\", \"ND2\", \"NE\", \"NE1\", \"NE2\", \"NH1\", \"NH2\", \"NZ\",\n",
    "    \"O\", \"OD1\", \"OD2\", \"OE1\", \"OE2\", \"OG\", \"OG1\", \"OH\", \"OXT\", \"SD\", \"SG\",\n",
    "]\n",
    "# fmt: on\n",
    "ATOMS_INDICES = {x: i for i, x in enumerate(ATOM_NAMES)}\n",
    "RESIDUES = \"ACDEFGHIKLMNPQRSTVWY\"\n",
    "RESIDUE_INDICES = {c: i for i, c in enumerate(RESIDUES)}\n",
    "ATOM_COLORS = {\n",
    "    \"C\": \"gray\",\n",
    "    \"N\": \"blue\",\n",
    "    \"O\": \"red\",\n",
    "    \"H\": \"black\",\n",
    "    \"S\": \"yellow\",\n",
    "}"
   ]
  },
  {
   "cell_type": "code",
   "execution_count": 3,
   "metadata": {},
   "outputs": [],
   "source": [
    "class AtomicInterfaceGraph(Protocol):\n",
    "    atoms: Tensor  # (N): идентификаторы типов атомов\n",
    "    residues: Tensor  # (N): идентификаторы аминокислот\n",
    "    is_receptor: Tensor  # (N): 1 для атомов рецептора, 0 для атомов лиганда\n",
    "    coordinates: Tensor  # (N x 3): координаты атомов\n",
    "    edge_index: Tensor  # (2 x E) список рёбер между атомами\n",
    "    distances: Tensor  # (E): расстояния между атомами, соединёнными ребром\n",
    "    affinity: Tensor | None  # (n): свободная энергия связывания\n",
    "    batch: Tensor | None  # (N): идентификаторы подграфов в батче, [0, n-1]"
   ]
  },
  {
   "cell_type": "code",
   "execution_count": 4,
   "metadata": {},
   "outputs": [],
   "source": [
    "def create_interface_graph(\n",
    "    interface_structure: dict[str, Any],\n",
    "    graph_radius: float = 4.0,\n",
    "    n_neighbors: int = 10,\n",
    ") -> AtomicInterfaceGraph:\n",
    "    # преобразуем названия атомов в индексы\n",
    "    encoded_atoms = torch.tensor(\n",
    "        [\n",
    "            ATOMS_INDICES.get(atom, len(ATOMS_INDICES))\n",
    "            for atom in interface_structure[\"atoms\"]\n",
    "        ]\n",
    "    )\n",
    "    # то же для аминокислот\n",
    "    encoded_residues = torch.tensor(\n",
    "        [\n",
    "            RESIDUE_INDICES.get(res, len(RESIDUE_INDICES))\n",
    "            for res in interface_structure[\"residues\"]\n",
    "        ]\n",
    "    )\n",
    "\n",
    "    is_receptor = torch.tensor(interface_structure[\"is_receptor\"])\n",
    "\n",
    "    # тензор с координатами атомов\n",
    "    coordinates = torch.tensor(interface_structure[\"coords\"]).float()\n",
    "\n",
    "    # используем координаты для построения радиус-графа:\n",
    "    # NB: модели torch geometric обычно интерпретируют рёбра как направленные,\n",
    "    # так что мы добавляем обратные рёбра с помощью функции `to_undirected`,\n",
    "    # если хотим работать с неориентированными графами\n",
    "    edge_index = to_undirected(\n",
    "        radius_graph(coordinates, r=graph_radius, max_num_neighbors=n_neighbors)\n",
    "    )\n",
    "    # посчитаем расстояния\n",
    "    src, tgt = edge_index\n",
    "    distances = torch.linalg.norm(coordinates[src] - coordinates[tgt], dim=1)\n",
    "\n",
    "    return Data(\n",
    "        atoms=encoded_atoms,\n",
    "        residues=encoded_residues,\n",
    "        is_receptor=is_receptor,\n",
    "        coordinates=coordinates,\n",
    "        edge_index=edge_index,\n",
    "        distances=distances,\n",
    "        num_nodes=len(encoded_atoms),\n",
    "    )"
   ]
  },
  {
   "cell_type": "code",
   "execution_count": null,
   "metadata": {},
   "outputs": [],
   "source": [
    "from torch_geometric.transforms.remove_isolated_nodes import RemoveIsolatedNodes\n",
    "\n",
    "\n",
    "class AtomicGraphDataset(Dataset):\n",
    "    def __init__(\n",
    "        self,\n",
    "        data_json: Path,\n",
    "        graph_radius: float = 4.0,\n",
    "        n_neighbors: int = 10,\n",
    "        remove_intermolecular_edges: bool = False,\n",
    "    ) -> None:\n",
    "        self.data: list[AtomicInterfaceGraph] = []\n",
    "        for x in json.loads(data_json.read_text()):\n",
    "            item = create_interface_graph(\n",
    "                x[\"interface_graph\"], graph_radius, n_neighbors\n",
    "            )\n",
    "            item.affinity = x[\"affinity\"]\n",
    "            if remove_intermolecular_edges:\n",
    "                item = self.remove_intermolecular_edges(item)\n",
    "            self.data.append(item)\n",
    "\n",
    "    def __getitem__(self, index: int) -> Data:\n",
    "        return self.data[index]\n",
    "\n",
    "    def __len__(self) -> int:\n",
    "        return len(self.data)\n",
    "\n",
    "    @staticmethod\n",
    "    def remove_intermolecular_edges(\n",
    "        interface_graph: AtomicInterfaceGraph,\n",
    "    ) -> AtomicInterfaceGraph:\n",
    "        interface_bigraph = interface_graph.clone()\n",
    "        src, tgt = interface_bigraph.edge_index\n",
    "        intermolecular_edges = (\n",
    "            (interface_graph.is_receptor[src] - interface_graph.is_receptor[tgt])\n",
    "            .abs()\n",
    "            .bool()\n",
    "        )\n",
    "        interface_bigraph.edge_index = interface_bigraph.edge_index[\n",
    "            :, intermolecular_edges\n",
    "        ]\n",
    "\n",
    "        interface_bigraph = RemoveIsolatedNodes().forward(interface_bigraph)\n",
    "        src, tgt = interface_bigraph.edge_index\n",
    "        interface_bigraph.distances = torch.linalg.norm(\n",
    "            interface_bigraph.coordinates[src] - interface_bigraph.coordinates[tgt],\n",
    "            dim=1,\n",
    "        )\n",
    "        return interface_bigraph"
   ]
  },
  {
   "cell_type": "markdown",
   "metadata": {},
   "source": [
    "Функция для расчёта метрик"
   ]
  },
  {
   "cell_type": "code",
   "execution_count": 6,
   "metadata": {},
   "outputs": [],
   "source": [
    "from scipy.stats import pearsonr, spearmanr\n",
    "\n",
    "\n",
    "@torch.no_grad()\n",
    "def validate(loader: DataLoader, model: nn.Module) -> tuple[list[float], list[float]]:\n",
    "    model.eval()\n",
    "    ys = []\n",
    "    yhats = []\n",
    "    loss = 0.0\n",
    "    for batch in loader:\n",
    "        yhat = model.forward(batch)\n",
    "        yhats.extend(yhat.flatten().tolist())\n",
    "        ys.extend(batch.affinity.tolist())\n",
    "        loss += F.mse_loss(yhat.flatten(), batch.affinity).item()\n",
    "\n",
    "    print(f\"Loss: {loss / len(ys):.4f}, \", end=\"\")\n",
    "    print(f\"Pearson R: {pearsonr(ys, yhats).statistic:.4f}, \", end=\"\")\n",
    "    print(f\"Spearman R: {spearmanr(ys, yhats).statistic:.4f}\")\n",
    "    model.train()\n",
    "    return yhats, ys"
   ]
  },
  {
   "cell_type": "markdown",
   "metadata": {},
   "source": [
    "#### Задание 1 (5 баллов). Реализация E(3)-инвариантной графовой сети"
   ]
  },
  {
   "cell_type": "markdown",
   "metadata": {},
   "source": [
    "В нашей простой модели мы использовали межатомные расстояния, чтобы построить граф, но далее никакую информацию о геометрии интерфейса не использовали.\n",
    "\n",
    "Тем не менее, точное относительное положение атомов может существенно определять силу и характер физических взаимодействий.\n",
    "\n",
    "В этом задании вы реализуете архитектуру графовой сети, которая использует межатомные расстояния при создании сообщений, которыми обмениваются вершины графа. Тем самым результат не будет зависеть от положения и ориентации белкового комплекса в пространстве, но будет явным образом зависеть от геометрии атомных контактов.\n",
    "\n",
    "Благодаря `pytorch-geometric` реализация таких моделей сравнительно простая, но чтобы не возникло впечатления, что фреймворк делает совсем какую-то магию, перед выполнением задания ознакомьтесь с туториалом по реализации message-passing neural networks: https://pytorch-geometric.readthedocs.io/en/2.5.1/tutorial/create_gnn.html"
   ]
  },
  {
   "cell_type": "markdown",
   "metadata": {},
   "source": [
    "##### Задание 1.1 (2 балла). E(3)-инвариантный слой графовой сети"
   ]
  },
  {
   "cell_type": "markdown",
   "metadata": {},
   "source": [
    "Наш слой будет обновлять эмбеддинги вершин в соответствии с уравнением\n",
    "\n",
    "$h_i^{(t+1)} = \\sum_{j \\in \\mathcal{N}(i)} \\text{MLP}^{(t)} \\left( \\text{concat} (h_i^{(t)}, h_j^{(t)}, e_{ij}) \\right)$\n",
    "\n",
    "т.е. сообщение между вершинами $i$ и $j$ будет формироваться перцептроном, который принимает на вход эмбеддинги вершин и эмбеддинг соединяющего их ребра\n",
    "\n",
    "Всю работу по распространению сообщений сделает метод `propagate`, вам нужно только реализовать метод `message`, который эти сообщения сформирует"
   ]
  },
  {
   "cell_type": "code",
   "execution_count": null,
   "metadata": {},
   "outputs": [],
   "source": [
    "class InvariantLayer(MessagePassing):\n",
    "    def __init__(\n",
    "        self, edge_dim: int, node_dim: int, hidden_dim: int, aggr: str = \"sum\"\n",
    "    ) -> None:\n",
    "        super().__init__(aggr)\n",
    "        self.message_mlp = nn.Sequential(\n",
    "            nn.Linear(2 * node_dim + edge_dim, hidden_dim),\n",
    "            nn.SiLU(),\n",
    "            nn.Linear(hidden_dim, node_dim),\n",
    "        )\n",
    "\n",
    "    def forward(self, h: Tensor, edge_index: Tensor, edge_attr: Tensor) -> Tensor:\n",
    "        return self.propagate(edge_index, h=h, edge_attr=edge_attr)\n",
    "\n",
    "    # Ваше решение\n",
    "    # def message(self, ...) -> ...:\n",
    "    #     ..."
   ]
  },
  {
   "cell_type": "markdown",
   "metadata": {},
   "source": [
    "Минимальный тест на работоспособность:"
   ]
  },
  {
   "cell_type": "code",
   "execution_count": null,
   "metadata": {},
   "outputs": [],
   "source": [
    "h = torch.randn(4, 8)\n",
    "edge_index = torch.tensor([\n",
    "    [0, 0, 1, 1, 2],\n",
    "    [1, 3, 2, 3, 3],\n",
    "])\n",
    "edge_attr = torch.randn(5, 6)\n",
    "\n",
    "assert InvariantLayer(6, 8, 10).forward(h, edge_index, edge_attr).shape == torch.Size(\n",
    "    [4, 8]\n",
    ")"
   ]
  },
  {
   "cell_type": "markdown",
   "metadata": {},
   "source": [
    "##### Задание 1.2 (3 балла). E(3)-инвариантная графовая сеть"
   ]
  },
  {
   "cell_type": "markdown",
   "metadata": {},
   "source": [
    "Реализуйте модель на основе реализованного вами слоя, которая принимает на вход `AtomicInterfaceGraph` и возвращает предсказанную свободную энергию связывания\n",
    "\n",
    "Отличия от модели с практики минимальны: нужно только преобразовать расстояния с помощью модуля `RadialBasisExpansion` и передать их в каждый `InvariantLayer` вместе с очередными эмбеддингами вершин.\n",
    "\n",
    "Модуль `RadialBasisExpansion` преобразует значения межатомных расстояний в вектор со значениями в [0, 1] с помощью набора радиальных базисных функций. Подумайте, почему такой способ обработки количественных признаков может работать лучше?"
   ]
  },
  {
   "cell_type": "code",
   "execution_count": null,
   "metadata": {},
   "outputs": [
    {
     "data": {
      "text/plain": [
       "tensor([[0.9970, 0.6550, 0.1580, 0.0140, 0.0000],\n",
       "        [0.5340, 0.9930, 0.6790, 0.1710, 0.0160],\n",
       "        [0.2130, 0.7490, 0.9720, 0.4640, 0.0810],\n",
       "        [0.0200, 0.1980, 0.7260, 0.9800, 0.4870],\n",
       "        [0.0020, 0.0420, 0.3150, 0.8740, 0.8910]])"
      ]
     },
     "metadata": {},
     "output_type": "display_data"
    }
   ],
   "source": [
    "class RadialBasisExpansion(nn.Module):\n",
    "    offset: Tensor\n",
    "\n",
    "    def __init__(\n",
    "        self,\n",
    "        start: float = 0.0,\n",
    "        stop: float = 5.0,\n",
    "        num_gaussians: int = 32,\n",
    "    ):\n",
    "        super().__init__()\n",
    "        offset = torch.linspace(start, stop, num_gaussians)\n",
    "        self.coeff = -0.5 / (offset[1] - offset[0]).item() ** 2\n",
    "        self.register_buffer(\"offset\", offset)\n",
    "\n",
    "    def forward(self, dist: Tensor) -> Tensor:\n",
    "        dist = dist.view(-1, 1) - self.offset.view(1, -1)\n",
    "        return torch.exp(self.coeff * torch.pow(dist, 2))\n",
    "\n",
    "\n",
    "# пример использования\n",
    "dist = torch.tensor([0.1, 1.4, 2.2, 3.5, 4.4])\n",
    "RadialBasisExpansion(num_gaussians=5).forward(dist).round(decimals=3)"
   ]
  },
  {
   "cell_type": "code",
   "execution_count": null,
   "metadata": {},
   "outputs": [],
   "source": [
    "class InvariantGNN(nn.Module):\n",
    "    def __init__(\n",
    "        self,\n",
    "        node_vocab_size: int,  # кол-во типов вершин, например атомов\n",
    "        node_dim: int,  # размерность эмбеддинга вершины\n",
    "        edge_dim: int,  # размерность эмбеддинга ребра\n",
    "        n_layers: int,  # кол-во графовых слоёв\n",
    "        dropout: float = 0.0,  # dropout rate\n",
    "    ) -> None:\n",
    "        super().__init__()\n",
    "        ...\n",
    "\n",
    "    def forward(self, batch: AtomicInterfaceGraph) -> Tensor:\n",
    "        ..."
   ]
  },
  {
   "cell_type": "markdown",
   "metadata": {},
   "source": [
    "Минимальный тест:"
   ]
  },
  {
   "cell_type": "code",
   "execution_count": 11,
   "metadata": {},
   "outputs": [],
   "source": [
    "graph = Data(\n",
    "    atoms=torch.randint(10, size=(4,)),\n",
    "    coordinates=torch.randn(4, 3),\n",
    "    edge_index=edge_index,\n",
    "    is_receptor=torch.tensor([0, 0, 1, 1]),\n",
    "    batch=torch.tensor(\n",
    "        [0, 0, 1, 1]\n",
    "    ),  # у нас 2 графа — значит, должно быть 2 числа на выходе\n",
    ")\n",
    "assert InvariantGNN(10, 4, 4, 2, 0.1).forward(graph).shape == torch.Size([2, 1])"
   ]
  },
  {
   "cell_type": "markdown",
   "metadata": {},
   "source": [
    "#### Задание 2 (4 балла + бонусы за точность). Обучение модели"
   ]
  },
  {
   "cell_type": "markdown",
   "metadata": {},
   "source": [
    "Обучите реализованную модель, выведите в конце обучения метрики на тестовой выборке (корреляции Пирсона и Спирмена).\n",
    "\n",
    "Ваша задача: добиться корреляции Пирсона не ниже 0.4\n",
    "\n",
    "Бонусы:\n",
    "-  4 балла: за корреляцию Пирсона не ниже 0.5\n",
    "-  0.5 балла за каждые следующие 0.01, т.е. за корреляцию Пирсона 0.6 вы получите 5 + 4 + 0.5 * 10 = 14 баллов\n",
    "\n",
    "\n",
    "Вы можете использовать любые параметры построения графа (`graph_radius`, `n_neighbors`, `remove_intermolecular_edges`), любой размер модели и способ и настройки регуляризации, любой оптимизатор"
   ]
  },
  {
   "cell_type": "code",
   "execution_count": 12,
   "metadata": {},
   "outputs": [],
   "source": [
    "train_dataset = AtomicGraphDataset(\n",
    "    Path(\"../datasets/affinity_train.json\"),\n",
    "    graph_radius=6.0,\n",
    "    n_neighbors=12,\n",
    "    remove_intermolecular_edges=True,\n",
    ")\n",
    "test_dataset = AtomicGraphDataset(\n",
    "    Path(\"../datasets/affinity_test.json\"),\n",
    "    graph_radius=6.0,\n",
    "    n_neighbors=12,\n",
    "    remove_intermolecular_edges=True,\n",
    ")\n",
    "train_loader = DataLoader(train_dataset, batch_size=64, shuffle=True)\n",
    "test_loader = DataLoader(test_dataset, batch_size=64, shuffle=False)"
   ]
  },
  {
   "cell_type": "code",
   "execution_count": 13,
   "metadata": {},
   "outputs": [],
   "source": [
    "torch.manual_seed(42)\n",
    "\n",
    "model = InvariantGNN(\n",
    "    node_vocab_size=len(ATOMS_INDICES) + 1,\n",
    "    node_dim=32,\n",
    "    edge_dim=32,\n",
    "    n_layers=3,\n",
    "    dropout=0.3,\n",
    ")\n",
    "optim = Adam(model.parameters(), lr=0.001, weight_decay=1.0, betas=(0.9, 0.999))"
   ]
  },
  {
   "cell_type": "code",
   "execution_count": 14,
   "metadata": {},
   "outputs": [
    {
     "name": "stdout",
     "output_type": "stream",
     "text": [
      "Loss: 0.3043, Pearson R: 0.3637, Spearman R: 0.3359\n",
      "Loss: 0.1240, Pearson R: 0.3859, Spearman R: 0.3583\n",
      "Loss: 0.2321, Pearson R: 0.4041, Spearman R: 0.3773\n",
      "Loss: 0.1667, Pearson R: 0.4272, Spearman R: 0.3851\n",
      "Loss: 0.1610, Pearson R: 0.4406, Spearman R: 0.3937\n",
      "Loss: 0.2147, Pearson R: 0.4588, Spearman R: 0.4030\n",
      "Loss: 0.1087, Pearson R: 0.4621, Spearman R: 0.4070\n",
      "Loss: 0.1406, Pearson R: 0.4710, Spearman R: 0.4091\n",
      "Loss: 0.2007, Pearson R: 0.4852, Spearman R: 0.4166\n",
      "Loss: 0.1427, Pearson R: 0.4911, Spearman R: 0.4285\n"
     ]
    }
   ],
   "source": [
    "for i in range(50):\n",
    "    model.train()\n",
    "    for batch in train_loader:\n",
    "        yhat = model.forward(batch)\n",
    "        loss = F.mse_loss(yhat.flatten(), batch.affinity)\n",
    "        # loss = F.huber_loss(yhat.flatten(), batch.affinity)\n",
    "        loss.backward()\n",
    "        optim.step()\n",
    "        optim.zero_grad()\n",
    "\n",
    "    if (i + 1) % 5 == 0:\n",
    "        validate(test_loader, model)"
   ]
  },
  {
   "cell_type": "markdown",
   "metadata": {},
   "source": [
    "#### Задание 3 (3 балла + бонусы за точность). В погоне за точностью"
   ]
  },
  {
   "cell_type": "markdown",
   "metadata": {},
   "source": [
    "Используйте любую графовую архитектуру (кроме реализованной в задании 2 и полной копии модели с практики!), чтобы добиться корреляции Пирсона больше 0.55.\n",
    "\n",
    "Баллы за задание:\n",
    "- 3 балла — за корреляцию Пирсона выше 0.55\n",
    "- +3 балла — за корреляцию Пирсона выше 0.6\n",
    "- +1 балл за каждые следующие 0.01\n",
    "\n",
    "Задание с полной свободой творчества, можно менять и архитектуру модели, и использовать любые модули из `pytorch-geometric`, и менять способ представления данных. Вот лишь некоторые идеи, которые можно тестировать:\n",
    "1. **Использование аминокислотного графа**: скорее всего, если использовать только аминокислотный граф вместо полноатомного, точность существенно просядет, но не исключено, что его использование в качестве дополнительного набора признаков позволит несколько улучшить качество. Например, у вас может быть две графовых сети: олна обрабатывает полноатомный интерфейс, вторая — аминокислотный граф всей структуры, в конце вы получаете эмбеддинги этих двух графов и на их основе предсказываете изменение свободной энергии\n",
    "2. **Модификация реализованной модели**: тут много вариантов, например\n",
    "   - добавить линейный слой / перцептрон, который будет в каждом графовом слое преобразовывать эмбеддинг рёбер\n",
    "   - изменить метод `message`, чтобы иначе формировать сообщения\n",
    "   - изменить метод `update`, чтобы использовать более гибкий метод агрегации сообщений от соседей; например, реализовать механизм внимания, как в `torch_geometric.nn.conv.GATConv` \n",
    "   - добавление эмбеддингов аминокислот к эмбеддингам атомов\n",
    "3. **Модификация модели с практики**: она является достаточно сильным бейзлайном, поэтому может иметь смысл поколдовать над ней: поменять гиперпараметры, функции активации, используемую функцию ошибки (например huber loss или log-cosh)"
   ]
  }
 ],
 "metadata": {
  "kernelspec": {
   "display_name": "dl-mcs",
   "language": "python",
   "name": "python3"
  },
  "language_info": {
   "codemirror_mode": {
    "name": "ipython",
    "version": 3
   },
   "file_extension": ".py",
   "mimetype": "text/x-python",
   "name": "python",
   "nbconvert_exporter": "python",
   "pygments_lexer": "ipython3",
   "version": "3.12.5"
  }
 },
 "nbformat": 4,
 "nbformat_minor": 2
}
