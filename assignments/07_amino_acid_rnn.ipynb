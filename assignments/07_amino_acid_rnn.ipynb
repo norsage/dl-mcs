{
 "cells": [
  {
   "cell_type": "markdown",
   "metadata": {},
   "source": [
    "## Аминокислотные последовательности антител"
   ]
  },
  {
   "cell_type": "markdown",
   "metadata": {},
   "source": [
    "<img src=\"https://i0.wp.com/www.blopig.com/blog/wp-content/uploads/2013/07/Antibody1.png?ssl=1\" style=\"background:white\" width=\"600\"/>"
   ]
  },
  {
   "cell_type": "markdown",
   "metadata": {},
   "source": [
    "Как и любые белки́, [антитела](https://ru.wikipedia.org/wiki/%D0%90%D0%BD%D1%82%D0%B8%D1%82%D0%B5%D0%BB%D0%B0) состоят из [аминокислот](https://shorturl.at/Wc6V4), соединённых пептидными связями.\n",
    "\n",
    "Каждой аминокислоте соответствует однобуквенный код (A - аланин, C - цистеин, D - аспартат, и т.д.), поэтому мы можем компактно записывать первичную структуру белков (то есть просто цепочку аминокислот) в виде строк.\n",
    "\n",
    "Сегодня нам предстоит решить две задачи:\n",
    "1. Обучить модель-классификатор, позволяющую по аминокислотной последовательности понять, из какого животного было получено антитело\n",
    "2. Обучить модель-генератор новых антител с условием на биологический вид"
   ]
  },
  {
   "cell_type": "markdown",
   "metadata": {},
   "source": [
    "#### Подготовим данные"
   ]
  },
  {
   "cell_type": "markdown",
   "metadata": {},
   "source": [
    "В нашем наборе данных присутствуют антитела (точнее - небольшие фрагменты тяжелых цепей антител, VH-домены, непосредственно участвующие в связывании инородных молекул - антигенов), полученные из образцов пяти биологических видов: человек, макака-резус, мышь, кролик и верблюд."
   ]
  },
  {
   "cell_type": "code",
   "execution_count": 1,
   "metadata": {},
   "outputs": [
    {
     "data": {
      "text/html": [
       "<div>\n",
       "<style scoped>\n",
       "    .dataframe tbody tr th:only-of-type {\n",
       "        vertical-align: middle;\n",
       "    }\n",
       "\n",
       "    .dataframe tbody tr th {\n",
       "        vertical-align: top;\n",
       "    }\n",
       "\n",
       "    .dataframe thead th {\n",
       "        text-align: right;\n",
       "    }\n",
       "</style>\n",
       "<table border=\"1\" class=\"dataframe\">\n",
       "  <thead>\n",
       "    <tr style=\"text-align: right;\">\n",
       "      <th></th>\n",
       "      <th>sequence</th>\n",
       "      <th>species</th>\n",
       "    </tr>\n",
       "  </thead>\n",
       "  <tbody>\n",
       "    <tr>\n",
       "      <th>1737</th>\n",
       "      <td>DVQLVESGGGSVQAGGSLRLSCALSGYTYSRNCQGWFRQAPGKERE...</td>\n",
       "      <td>Camel</td>\n",
       "    </tr>\n",
       "    <tr>\n",
       "      <th>1678</th>\n",
       "      <td>HVQPVESGGGSAQAGGSLRLSCAASGGTPRSYCMGWFRQTPGQARE...</td>\n",
       "      <td>Camel</td>\n",
       "    </tr>\n",
       "    <tr>\n",
       "      <th>1924</th>\n",
       "      <td>HVQLVESGGGSVQAGGSLRLSCVQSGHTYSSYCLAWFREAPGKERE...</td>\n",
       "      <td>Camel</td>\n",
       "    </tr>\n",
       "    <tr>\n",
       "      <th>1424</th>\n",
       "      <td>VQLVESGGGLVQPGGSLRLSCAASGFTFSSDDMSWVRQAPGKGLEW...</td>\n",
       "      <td>Camel</td>\n",
       "    </tr>\n",
       "    <tr>\n",
       "      <th>2319</th>\n",
       "      <td>SVKVSCKTSGYSFSSSDMHWVRQAPGQRLEWMGWINSGNDNSRYSQ...</td>\n",
       "      <td>Mouse</td>\n",
       "    </tr>\n",
       "    <tr>\n",
       "      <th>2731</th>\n",
       "      <td>SVKVSCKAYGYTFMGHGISWLRQAPGQRLEWMGWISGYNGQTSYAQ...</td>\n",
       "      <td>Mouse</td>\n",
       "    </tr>\n",
       "    <tr>\n",
       "      <th>2026</th>\n",
       "      <td>SVKVSCKASGYTFTSYDLNWVRQAPGQGLECLGWINPDSNNKGYPQ...</td>\n",
       "      <td>Mouse</td>\n",
       "    </tr>\n",
       "    <tr>\n",
       "      <th>275</th>\n",
       "      <td>QVTLKESGPGILQSSQTLSLTCSFSGFSLSTSGMGVSWIRQPSGKG...</td>\n",
       "      <td>Human</td>\n",
       "    </tr>\n",
       "    <tr>\n",
       "      <th>1488</th>\n",
       "      <td>VQLVESGGGSVQAGGSLKLSCRVSRYAIGTYCMGWFRQTPGKEREG...</td>\n",
       "      <td>Camel</td>\n",
       "    </tr>\n",
       "    <tr>\n",
       "      <th>4603</th>\n",
       "      <td>QEQLVESGGGLVQPGGSLTLSCTASGFSFSSSDYMCWVRQAPGKGL...</td>\n",
       "      <td>Rabbit</td>\n",
       "    </tr>\n",
       "  </tbody>\n",
       "</table>\n",
       "</div>"
      ],
      "text/plain": [
       "                                               sequence species\n",
       "1737  DVQLVESGGGSVQAGGSLRLSCALSGYTYSRNCQGWFRQAPGKERE...   Camel\n",
       "1678  HVQPVESGGGSAQAGGSLRLSCAASGGTPRSYCMGWFRQTPGQARE...   Camel\n",
       "1924  HVQLVESGGGSVQAGGSLRLSCVQSGHTYSSYCLAWFREAPGKERE...   Camel\n",
       "1424  VQLVESGGGLVQPGGSLRLSCAASGFTFSSDDMSWVRQAPGKGLEW...   Camel\n",
       "2319  SVKVSCKTSGYSFSSSDMHWVRQAPGQRLEWMGWINSGNDNSRYSQ...   Mouse\n",
       "2731  SVKVSCKAYGYTFMGHGISWLRQAPGQRLEWMGWISGYNGQTSYAQ...   Mouse\n",
       "2026  SVKVSCKASGYTFTSYDLNWVRQAPGQGLECLGWINPDSNNKGYPQ...   Mouse\n",
       "275   QVTLKESGPGILQSSQTLSLTCSFSGFSLSTSGMGVSWIRQPSGKG...   Human\n",
       "1488  VQLVESGGGSVQAGGSLKLSCRVSRYAIGTYCMGWFRQTPGKEREG...   Camel\n",
       "4603  QEQLVESGGGLVQPGGSLTLSCTASGFSFSSSDYMCWVRQAPGKGL...  Rabbit"
      ]
     },
     "execution_count": 1,
     "metadata": {},
     "output_type": "execute_result"
    }
   ],
   "source": [
    "import pandas as pd\n",
    "\n",
    "antibodies = pd.read_csv(\"../datasets/antibodies.csv\").sample(frac=1.0)\n",
    "antibodies.head(10)"
   ]
  },
  {
   "cell_type": "markdown",
   "metadata": {},
   "source": [
    "Создадим словари для аминокислот, специальных токенов и биологических видов:"
   ]
  },
  {
   "cell_type": "code",
   "execution_count": 2,
   "metadata": {},
   "outputs": [
    {
     "data": {
      "text/plain": [
       "{'Camel': 0, 'Human': 1, 'Mouse': 2, 'Rabbit': 3, 'Rhesus': 4}"
      ]
     },
     "execution_count": 2,
     "metadata": {},
     "output_type": "execute_result"
    }
   ],
   "source": [
    "SPECIAL_TOKENS = \"_?\\n\"\n",
    "AMINO_ACIDS = \"ACDEFGHIKLMNPQRSTVWYX\"\n",
    "VOCAB = {char: i for i, char in enumerate(SPECIAL_TOKENS + AMINO_ACIDS)}\n",
    "SPECIES = {name: i for i, name in enumerate(sorted(antibodies[\"species\"].unique()))}\n",
    "SPECIES"
   ]
  },
  {
   "cell_type": "code",
   "execution_count": 3,
   "metadata": {},
   "outputs": [
    {
     "name": "stdout",
     "output_type": "stream",
     "text": [
      "Train size:  4500\n",
      "Test size:  500\n"
     ]
    }
   ],
   "source": [
    "import torch\n",
    "from torch import Tensor, nn\n",
    "from torch.nn import functional as F\n",
    "from torch.utils.data import DataLoader, Dataset, random_split\n",
    "\n",
    "\n",
    "class AntibodiesDataset(Dataset):\n",
    "    def __init__(self, df: pd.DataFrame) -> None:\n",
    "        self.sequences = [\n",
    "            [1] + [VOCAB[char] for char in s] + [2] for s in df[\"sequence\"]\n",
    "        ]\n",
    "        self.labels = [SPECIES[label] for label in df[\"species\"]]\n",
    "\n",
    "    def __getitem__(self, index: int) -> tuple[list[int], int]:\n",
    "        return self.sequences[index], self.labels[index]\n",
    "\n",
    "    def __len__(self) -> int:\n",
    "        return len(self.sequences)\n",
    "\n",
    "    @staticmethod\n",
    "    def collate_fn(batch: list[tuple[list[int], int]]) -> tuple[Tensor, Tensor]:\n",
    "        encoded, lang_ids = zip(*batch)\n",
    "        max_len = max(map(len, encoded))\n",
    "        x = torch.zeros((len(encoded), max_len), dtype=int)\n",
    "        for i, seq in enumerate(encoded):\n",
    "            x[i, : len(seq)] = torch.tensor(seq)\n",
    "\n",
    "        return x, torch.tensor(list(lang_ids))\n",
    "\n",
    "\n",
    "labels = sorted(antibodies[\"species\"].unique())\n",
    "dataset = AntibodiesDataset(antibodies)\n",
    "train_dataset, test_dataset = random_split(\n",
    "    dataset, [4500, 500], torch.Generator().manual_seed(42)\n",
    ")\n",
    "print(\"Train size: \", len(train_dataset))\n",
    "print(\"Test size: \", len(test_dataset))"
   ]
  },
  {
   "cell_type": "code",
   "execution_count": 4,
   "metadata": {},
   "outputs": [],
   "source": [
    "train_loader = DataLoader(\n",
    "    train_dataset, batch_size=32, shuffle=True, collate_fn=dataset.collate_fn\n",
    ")\n",
    "test_loader = DataLoader(\n",
    "    test_dataset, batch_size=32, shuffle=False, collate_fn=dataset.collate_fn\n",
    ")"
   ]
  },
  {
   "cell_type": "markdown",
   "metadata": {},
   "source": [
    "#### Задание 1 (6 баллов). Классификация антител по биологическим видам"
   ]
  },
  {
   "cell_type": "markdown",
   "metadata": {},
   "source": [
    "Мы начнём с нашей рекуррентной ячейки с последней практики:"
   ]
  },
  {
   "cell_type": "code",
   "execution_count": 5,
   "metadata": {},
   "outputs": [],
   "source": [
    "class RNNCell(nn.Module):\n",
    "    \"\"\"\n",
    "    (x_{t}, h_{t-1}) -> h_{t}\n",
    "    \"\"\"\n",
    "\n",
    "    def __init__(self, input_dim: int, hidden_dim: int) -> None:\n",
    "        super().__init__()\n",
    "        self.linear = nn.Linear(input_dim + hidden_dim, hidden_dim)\n",
    "\n",
    "    def forward(self, x: Tensor, h: Tensor) -> Tensor:\n",
    "        # x: B x input_dim\n",
    "        # h: B x hidden_dim\n",
    "        h = torch.cat([x, h], dim=1)\n",
    "        h = self.linear(h)\n",
    "        return F.tanh(h)"
   ]
  },
  {
   "cell_type": "markdown",
   "metadata": {},
   "source": [
    "**1.1. (1 балл)** Реализуйте архитектуру модели, которая по входной последовательности будет давать вероятностное распределение над биологическими видами.\n",
    "Она даже немного проще, чем модель для генерации: линейный блок-классификатор мы применяем только к последнему скрытому состоянию (когда вся последовательность обработана).\n",
    "\n",
    "**1.2. (2 балла)** Обучите модель в течение 10-50 эпох, постройте графики точности классифкации для обучающей и тестовой выборок.\n",
    "\n",
    "**1.3. (3 балла)** Реализуйте другой вид рекуррентной ячейки (GRU или LSTM, см. практику), обучите модель на его основе, выведите графики точности. Как изменилась точность модели и скорость обучения?\n",
    "\n",
    "\n",
    "Указание: используйте небольшие модели, с размером скрытого слоя 64"
   ]
  },
  {
   "cell_type": "code",
   "execution_count": 6,
   "metadata": {},
   "outputs": [],
   "source": [
    "class RNN(nn.Module):\n",
    "    def __init__(\n",
    "        self, vocab_size: int, hidden_dim: int = 64, n_classes: int = 5\n",
    "    ) -> None: ...\n",
    "\n",
    "    def forward(self, x: Tensor) -> Tensor: ..."
   ]
  },
  {
   "cell_type": "markdown",
   "metadata": {},
   "source": [
    "#### Задание 2 (8 баллов + 4 бонусных). Генерация антител"
   ]
  },
  {
   "cell_type": "markdown",
   "metadata": {},
   "source": [
    "Поиграем за B-лимфоцит и попробуем создать новые антитела.\n",
    "\n",
    "Модель - почти полная копия модели с практики, но есть дополнительное условие: теперь кроме текущего токена и предыдущего скрытого состояния пусть наша ячейка принимает ещё метку биологического вида, к которому должно относиться антитело, вроде такого:"
   ]
  },
  {
   "cell_type": "code",
   "execution_count": 7,
   "metadata": {},
   "outputs": [],
   "source": [
    "class ConditionalRNNCell(nn.Module):\n",
    "    \"\"\"\n",
    "    (x_{t}, h_{t-1}, c) -> h_{t}\n",
    "    \"\"\"\n",
    "\n",
    "    def forward(self, x: Tensor, c: Tensor, h: Tensor) -> Tensor:\n",
    "        # x: B x input_dim: эмбеддинг последнего токен\n",
    "        # c: B x class_dim: эмбеддинг биологического вида\n",
    "        # h: B x hidden_dim: последнее скрытое состояние\n",
    "        ...\n",
    "        h = ...\n",
    "        return F.tanh(h)"
   ]
  },
  {
   "cell_type": "markdown",
   "metadata": {},
   "source": [
    "**2.1. (2 балла)** Реализуйте архитектуру модели для генерации антител символ за символом\n",
    "\n",
    "**2.2. (2 балла)** Обучите модель в течение 10-50 эпох, постройте графики функции ошибки.\n",
    "\n",
    "**2.3. (4 балла)** Сгенерируйте с помощью модели по 20 антител для каждого биологического вида в отдельных ячейках, выведите их в ноутбуке. Воспользуйтесь функцией `get_sequence_score` (ниже), чтобы посчитать сходство ваших антител с природными (вернее - очень грубую оценку). Посчитайте, сколько антител из сгенерированных вами имеют оценку 0.55 и выше для каждого биологического вида.\n",
    "\n",
    "**2.4. (Бонус 4 балла)** Повторите пункты 2.2 и 2.3, но используйте другой тип рекуррентной ячейки (GRU или LSTM).\n"
   ]
  },
  {
   "cell_type": "code",
   "execution_count": null,
   "metadata": {},
   "outputs": [],
   "source": [
    "! pip install biopython==1.84"
   ]
  },
  {
   "cell_type": "code",
   "execution_count": 9,
   "metadata": {},
   "outputs": [],
   "source": [
    "from Bio.Align import PairwiseAligner\n",
    "\n",
    "\n",
    "def get_sequence_score(query_sequence: str) -> float:\n",
    "    references = [\n",
    "        \"QVQLQQPGAELVKPGASVKMSCKAS_WITWVKQRPGQGLEWIGDI_TNYNEKFKTKATLTVDTSSSTAYMQLSSLTSEDSAVYYCAR_WGQGTSVTVSS\",\n",
    "        \"EVKLEESGGGLVQPGGSMKLSCAAS_WMDWVRQSPEKGLEWVAEI_TYYAESVKGRFTISRDDSKSSVYLQMNSLRAEDTGIYYCTA_WGQGTLVTVSA\",\n",
    "        \"HVQLVESGGGSVQPGGSLRLSCTVS_CMGWFRRAPGKEREKVATL_TSYADSVKGRFAISQDPAKNTLWLQMNSLKPEDSATYYCAA_SSRGTQVTVS\",\n",
    "        \"QVQLVESGGGSVQAGGSLKLSCAAS_CMGWSRQAPGKGREGVARI_TAYADSVKGRFTISHDSIKNTLYLQMNSLRPEDTAKYYCAA_WGQGTQVTV\",\n",
    "        \"QSLEESGGDLVKPGASLTLTCTAS_YMCWVRQAPGKGLEWIACI_TYYASWAKGRFTISKTSSTTVTLQMTSLTAADTATYFCAS_WGQGTLVTVS\",\n",
    "        \"QEQLVESGGGLVKPGASLTLTCKAS_VMCWVRQAPGKGLEWIACI_SVYASWAKGRSTISRTSSTTVTLQMTSLTAADTATYFCAR_RGPGTLVTVS\",\n",
    "        \"SVKVSCKAS_WIQWVRQAPGQGLEWMGWM_TTYSPKFQGRVSMTSDKSITTAYLELRGLTSDDTAVYSCAR_WGQGTLITVTS\",\n",
    "    ]\n",
    "    max_score = 0.0\n",
    "    for ref in map(lambda s: s.replace(\"_\", \"\"), references):\n",
    "        alignment = PairwiseAligner().align(query_sequence, ref)[0]\n",
    "        n_matches = sum(\n",
    "            1 for i in range(alignment.length) if alignment[0][i] == alignment[1][i]\n",
    "        )\n",
    "        max_score = max(max_score, n_matches / len(ref))\n",
    "\n",
    "    return max_score"
   ]
  },
  {
   "cell_type": "code",
   "execution_count": 10,
   "metadata": {},
   "outputs": [
    {
     "data": {
      "text/plain": [
       "0.3763440860215054"
      ]
     },
     "execution_count": 10,
     "metadata": {},
     "output_type": "execute_result"
    }
   ],
   "source": [
    "get_sequence_score(\"HESGGGAVTVSKETLSLTLTYEDTAIYYCAKDDVGGSSYSPVCWLSWGQGTQVTVS\")"
   ]
  },
  {
   "cell_type": "code",
   "execution_count": 11,
   "metadata": {},
   "outputs": [
    {
     "data": {
      "text/plain": [
       "0.7340425531914894"
      ]
     },
     "execution_count": 11,
     "metadata": {},
     "output_type": "execute_result"
    }
   ],
   "source": [
    "get_sequence_score(\n",
    "    \"EVQLVESGGGLVQPGGSLRLSCAASGFTFSDDGMSWVRQAPGKGLEWVAVISSDGSQKSNADSVRDRFTISKDNSKNMLYLQMNNLRLEDTAVYFCTTFSYWGQGVQVTVSS\"\n",
    ")"
   ]
  }
 ],
 "metadata": {
  "kernelspec": {
   "display_name": "dl-mcs",
   "language": "python",
   "name": "python3"
  },
  "language_info": {
   "codemirror_mode": {
    "name": "ipython",
    "version": 3
   },
   "file_extension": ".py",
   "mimetype": "text/x-python",
   "name": "python",
   "nbconvert_exporter": "python",
   "pygments_lexer": "ipython3",
   "version": "3.12.5"
  }
 },
 "nbformat": 4,
 "nbformat_minor": 2
}
