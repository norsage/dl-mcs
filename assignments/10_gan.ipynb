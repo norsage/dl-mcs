{
 "cells": [
  {
   "cell_type": "markdown",
   "metadata": {},
   "source": [
    "## Generative Adversarial Networks (GANs)"
   ]
  },
  {
   "cell_type": "markdown",
   "metadata": {},
   "source": [
    "Выберите датасет, на котором хотите обучать вашу генеративную модель:\n",
    "- CelebA: https://www.kaggle.com/datasets/jessicali9530/celeba-dataset\n",
    "- PeopleArt: https://www.kaggle.com/datasets/amanagr/people-art-dataset\n",
    "- Best Artworks of All Time: https://www.kaggle.com/datasets/ikarus777/best-artworks-of-all-time\n",
    "- Cartoon Faces (Google's Cartoon Set): https://www.kaggle.com/datasets/brendanartley/cartoon-faces-googles-cartoon-set"
   ]
  },
  {
   "cell_type": "markdown",
   "metadata": {},
   "source": [
    "Перед началом ознакомьтесь с https://github.com/soumith/ganhacks, советы оттуда можно использовать при выполнении заданий, особенно в задании 4"
   ]
  },
  {
   "cell_type": "markdown",
   "metadata": {},
   "source": [
    "#### Задание 1 (2 балла). Завершите реализацию GAN\n",
    "\n",
    "Реализуйте методы `generator_step` и `discriminator_step` в классе `GAN` с последней [практики](../workshops/12_gan.ipynb)"
   ]
  },
  {
   "cell_type": "markdown",
   "metadata": {},
   "source": [
    "#### Задание 2 (4 баллов). Базовое обучение\n",
    "\n",
    "Запустите обучение модели\n",
    "- минимальное кол-во шагов: 50000 (например 50 эпох по 1000 батчей в каждой)\n",
    "- минимальный размер батча: 32 (можете увеличить, если не наблюдаете при этом кратной просадки по скорости)\n",
    "- в конце обучения сгенерируйте 64 изображения"
   ]
  },
  {
   "cell_type": "markdown",
   "metadata": {},
   "source": [
    "#### Задание 3 (3+5 баллов). Более стабильные версии GAN\n",
    "\n",
    "Модифицируйте вычисление ошибки для более стабильного обучения. \n",
    "- (3 балла) LSGAN (https://paperswithcode.com/method/lsgan)\n",
    "- (5 балла) Wasserstein GAN + Gradient penalty (https://paperswithcode.com/method/wgan-gp)\n",
    "\n",
    "Запустите обучение той же длительности, что в задании 2 (>50000 шагов, батч > 32) и сгенерируйте 64 изображения. Сравните результаты с заданием 2"
   ]
  },
  {
   "cell_type": "markdown",
   "metadata": {},
   "source": [
    "#### Задание 4 (6 баллов). Донастройка\n",
    "\n",
    "Выберите любой вариант GAN (vanilla GAN, LSGAN, Wasserstein GAN), но перед запуском длительного обучения поэкспериментируйте с настройками обучения, чтобы найти лучшую конфигурацию.\n",
    "\n",
    "Для этого запустите не менее 3 предварительных сессий обучения на >30000 шагов и сгенерируйте примеры для всех запусков.\n",
    "\n",
    "Главные настройки:\n",
    "- learning rate оптимизаторов\n",
    "- относительная частота обновления весов генератора и дискриминатора (можете изменить реализацию `training_step`, если хотите)\n",
    "- архитектуры моделей: например, можете увеличить размеры моделей или докинуть слоёв\n",
    "\n",
    "По результатам коротких запусков выберите удачную конфигурацию и запустите обучение на >100000 шагов, выведите примеры генерации в конце обучения"
   ]
  },
  {
   "cell_type": "markdown",
   "metadata": {},
   "source": []
  }
 ],
 "metadata": {
  "kernelspec": {
   "display_name": "dl-mcs",
   "language": "python",
   "name": "python3"
  },
  "language_info": {
   "codemirror_mode": {
    "name": "ipython",
    "version": 3
   },
   "file_extension": ".py",
   "mimetype": "text/x-python",
   "name": "python",
   "nbconvert_exporter": "python",
   "pygments_lexer": "ipython3",
   "version": "3.12.5"
  }
 },
 "nbformat": 4,
 "nbformat_minor": 2
}
