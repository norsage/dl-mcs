{
 "cells": [
  {
   "cell_type": "markdown",
   "id": "de2309c1",
   "metadata": {},
   "source": [
    "## Градиентный спуск на NumPy"
   ]
  },
  {
   "cell_type": "markdown",
   "id": "2345f31b",
   "metadata": {},
   "source": [
    "Рассмотрим функцию $f(\\mathbf{x})$, $x \\sim (2)$ на отрезке [0, 10]:\n",
    "\n",
    "$$f(\\mathbf{x}) = \\sin(x_1)\\cos(x_2) + \\sin(0.5x_1)\\cos(0.5 x_2)$$\n",
    "\n",
    "1. Реализуйте функцию в векторизованном виде, т.е. для матрицы $\\mathbf{X} \\sim (n, 2)$ она должна возвращать вектор $f(\\mathbf{X}) \\sim (n)$, где $[f(\\mathbf{X})]_i = f(\\mathbf{X}_i)$\n",
    "2. Реализуйте функцию `grad(X)`, которая будет вычислять градиент функции $f(\\mathbf{X})$\n",
    "3. Напишите процедуру градиентного спуска и визуализируйте траектории процесса оптимизации из нескольких различных начальных точек (используйте то, что ваша функция векторизована!)\n",
    "4. Когда мы перейдём к обучению нейронных сетей, направление наискорейшего спуска для функции ошибки может быть очень шумным, и для ускорения сходимости существует несколько техник для выбора лучшего направления спуска. Одна из самых популярных и простых — добавление инерции (momentum):\n",
    "    $$\n",
    "    \\begin{align*}\n",
    "    \\mathbf{g}_0 &= 0 \\\\\n",
    "    \\mathbf{g}_t &= - \\eta \\nabla f(\\mathbf{x}_{t-1}) + \\lambda \\mathbf{g}_{t-1} \\\\\n",
    "    \\mathbf{x}_{t} &= \\mathbf{x}_{t-1} + \\mathbf{g}_t\n",
    "    \\end{align*}\n",
    "    $$\n",
    "    Сделайте градиентный спуск с инерцией и визуализируйте норму градиентов, она должна сходиться к нулю по мере приближения к стационарным точкам."
   ]
  },
  {
   "cell_type": "code",
   "execution_count": 1,
   "id": "0f4afbfa",
   "metadata": {},
   "outputs": [],
   "source": [
    "import numpy as np\n",
    "import matplotlib.pyplot as plt"
   ]
  }
 ],
 "metadata": {
  "kernelspec": {
   "display_name": ".venv",
   "language": "python",
   "name": "python3"
  },
  "language_info": {
   "codemirror_mode": {
    "name": "ipython",
    "version": 3
   },
   "file_extension": ".py",
   "mimetype": "text/x-python",
   "name": "python",
   "nbconvert_exporter": "python",
   "pygments_lexer": "ipython3",
   "version": "3.13.5"
  }
 },
 "nbformat": 4,
 "nbformat_minor": 5
}
