{
 "cells": [
  {
   "cell_type": "markdown",
   "metadata": {},
   "source": [
    "### Операции над тензорами\n",
    "\n",
    "Выполните небольшие упражнения, которые помогут закрепить ваши навыки манипуляций над тензорами. Вам нужно дописать код в местах с `...` и добиться того, чтобы все тесты проходили."
   ]
  },
  {
   "cell_type": "markdown",
   "metadata": {},
   "source": [
    "Если захочется дополнительной тренировки, в репозитории https://github.com/rougier/numpy-100 есть много упражнений с массивами NumPy, этот опыт отлично транслируется на работу с тензорами в Pytorch и Jax."
   ]
  },
  {
   "cell_type": "code",
   "execution_count": 1,
   "metadata": {},
   "outputs": [],
   "source": [
    "import torch"
   ]
  },
  {
   "cell_type": "markdown",
   "metadata": {},
   "source": [
    "#### 1.1 Среднее значение по столбцам"
   ]
  },
  {
   "cell_type": "code",
   "execution_count": 2,
   "metadata": {},
   "outputs": [
    {
     "data": {
      "text/plain": [
       "tensor([[2., 7., 6.],\n",
       "        [4., 6., 5.]])"
      ]
     },
     "execution_count": 2,
     "metadata": {},
     "output_type": "execute_result"
    }
   ],
   "source": [
    "torch.manual_seed(42)\n",
    "x = torch.randint(10, size=(2, 3)).float()\n",
    "x"
   ]
  },
  {
   "cell_type": "code",
   "execution_count": 3,
   "metadata": {},
   "outputs": [],
   "source": [
    "mean_by_column = ...\n",
    "assert torch.allclose(\n",
    "    mean_by_column, _expected := torch.tensor([3.0, 6.5, 5.5])\n",
    "), f\"{mean_by_column} != {_expected}\""
   ]
  },
  {
   "cell_type": "markdown",
   "metadata": {},
   "source": [
    "#### 1.2. Взвешенное среднее\n",
    "В тензоре `w` находятся веса для расчёта взвешенных средних значений тензора `x` по строкам:\n",
    "\n",
    "$$\\bar{x}_i = \\sum_{j=1}^n x_{ij} w_{ij}$$\n",
    "\n",
    "Найдите эти взвешенные средние.\n",
    "\n",
    "**NB:** Обратите внимание, что веса $w_i$, дающие в сумме по столбцам единицу, мы получили применением функции `torch.softmax` (или метода `.softmax`) к исходным ненормализованным весам. Эта особая функция нам позже пригодится в задаче многоклассовой классификации, чтобы моделировать вероятностное распределение над возможными классами."
   ]
  },
  {
   "cell_type": "code",
   "execution_count": 4,
   "metadata": {},
   "outputs": [
    {
     "name": "stdout",
     "output_type": "stream",
     "text": [
      "tensor([[2., 7., 6.],\n",
      "        [4., 6., 5.]])\n",
      "tensor([[0.0177, 0.9647, 0.0177],\n",
      "        [0.0066, 0.9756, 0.0179]])\n"
     ]
    }
   ],
   "source": [
    "torch.manual_seed(42)\n",
    "x = torch.randint(10, size=(2, 3)).float()\n",
    "w = torch.randint(10, size=(2, 3)).float().softmax(dim=1)\n",
    "print(x)\n",
    "print(w)"
   ]
  },
  {
   "cell_type": "code",
   "execution_count": 5,
   "metadata": {},
   "outputs": [],
   "source": [
    "w_avg = ...\n",
    "assert torch.allclose(\n",
    "    w_avg, _expected := torch.tensor([6.8940, 5.9690])\n",
    "), f\"{w_avg} != {_expected}\""
   ]
  },
  {
   "cell_type": "markdown",
   "metadata": {},
   "source": [
    "#### 1.3. Зануление всех нечётных элементов в наборе векторов\n",
    "\n",
    "В тензоре `x` — 4 вектора размера 7. В каждом векторе сделайте чётные элементы нулевыми.\n",
    "\n",
    "Способов много, попробуйте разные!"
   ]
  },
  {
   "cell_type": "code",
   "execution_count": 6,
   "metadata": {},
   "outputs": [
    {
     "name": "stdout",
     "output_type": "stream",
     "text": [
      "tensor([[ 1,  2,  3,  4,  5,  6,  7],\n",
      "        [ 8,  9, 10, 11, 12, 13, 14],\n",
      "        [15, 16, 17, 18, 19, 20, 21],\n",
      "        [22, 23, 24, 25, 26, 27, 28]])\n"
     ]
    }
   ],
   "source": [
    "x = torch.arange(28).view(4, 7) + 1\n",
    "print(x)"
   ]
  },
  {
   "cell_type": "code",
   "execution_count": 7,
   "metadata": {},
   "outputs": [
    {
     "name": "stdout",
     "output_type": "stream",
     "text": [
      "tensor([1, 0, 1, 0, 1, 0, 1])\n"
     ]
    }
   ],
   "source": [
    "# способ 1: использование broadcasting и маски, которая закрывает чётные элементы\n",
    "mask = torch.tensor([(i+1) % 2 for i in range(7)])\n",
    "print(mask)\n",
    "x = ...\n",
    "\n",
    "assert torch.allclose(\n",
    "    x, _expected := torch.tensor([\n",
    "        [ 1,  0,  3,  0,  5,  0,  7],\n",
    "        [ 8,  0, 10,  0, 12,  0, 14],\n",
    "        [15,  0, 17,  0, 19,  0, 21],\n",
    "        [22,  0, 24,  0, 26,  0, 28]\n",
    "    ])), f\"{x} != {_expected}\""
   ]
  },
  {
   "cell_type": "code",
   "execution_count": 8,
   "metadata": {},
   "outputs": [],
   "source": [
    "# способ 2: изменение на месте с помощью среза\n",
    "x = torch.arange(28).view(4, 7) + 1\n",
    "x[...] = 0  # вставляем нули в нужные места\n",
    "\n",
    "assert torch.allclose(\n",
    "    x, _expected := torch.tensor([\n",
    "        [ 1,  0,  3,  0,  5,  0,  7],\n",
    "        [ 8,  0, 10,  0, 12,  0, 14],\n",
    "        [15,  0, 17,  0, 19,  0, 21],\n",
    "        [22,  0, 24,  0, 26,  0, 28]\n",
    "    ])), f\"{x} != {_expected}\""
   ]
  },
  {
   "cell_type": "markdown",
   "metadata": {},
   "source": [
    "#### 1.4. Матрица попарных расстояний\n",
    "\n",
    "Даны две матрицы `x` и `y`, нужно получить матрицу `d`, где `d[i, j]` - евклидово расстояние между векторами `x[i]` (строка `i` матрицы `x`) и `y[j]` (строка `j` матрицы `y`).\n",
    "\n",
    "Подсказка 1: воспользуйтесь broadcasting и добавлением размерностей в исходные тензоры. Для этого могут пригодиться методы `.view` и `.unsqueeze`\n",
    "\n",
    "Подсказка 2: можно не считать евклидово расстояние вручную, есть функция `torch.linalg.norm` (или метод `.norm`), в которую можно подать векторы поэлементных разностей (их вы и получите с помощью broadcasting, если правильно измените размерности)"
   ]
  },
  {
   "cell_type": "code",
   "execution_count": 9,
   "metadata": {},
   "outputs": [
    {
     "name": "stdout",
     "output_type": "stream",
     "text": [
      "tensor([[2., 7., 6.],\n",
      "        [4., 6., 5.]])\n",
      "tensor([[0., 4., 0.],\n",
      "        [3., 8., 4.],\n",
      "        [0., 4., 1.]])\n"
     ]
    }
   ],
   "source": [
    "torch.manual_seed(42)\n",
    "x = torch.randint(10, size=(2, 3)).float()\n",
    "y = torch.randint(10, size=(3, 3)).float()\n",
    "print(x)\n",
    "print(y)"
   ]
  },
  {
   "cell_type": "code",
   "execution_count": 10,
   "metadata": {},
   "outputs": [],
   "source": [
    "pdist = ...\n",
    "assert torch.allclose(\n",
    "    pdist,\n",
    "    _expected := torch.tensor(\n",
    "        [\n",
    "            [7.0000, 2.4495, 6.1644],\n",
    "            [6.7082, 2.4495, 6.0000]\n",
    "        ]\n",
    "    ),\n",
    "), f\"{pdist} != {_expected}\""
   ]
  },
  {
   "cell_type": "markdown",
   "metadata": {},
   "source": [
    "#### 1.5. Умножение матриц на векторы\n",
    "\n",
    "В тензоре `m` - две матрицы, нужно сделать тензор, в котором i-й элемент - результат умножения матрицы `m[i]` на вектор `x[i]`.\n",
    "\n",
    "Это можно было бы сделать так: `torch.stack([m[i] @ x[i] for i in len(m)])`.\n",
    "\n",
    "Найдите решение без цикла."
   ]
  },
  {
   "cell_type": "code",
   "execution_count": null,
   "metadata": {},
   "outputs": [
    {
     "name": "stdout",
     "output_type": "stream",
     "text": [
      "tensor([[[0., 4., 0.],\n",
      "         [3., 8., 4.],\n",
      "         [0., 4., 1.]],\n",
      "\n",
      "        [[2., 5., 5.],\n",
      "         [7., 6., 9.],\n",
      "         [6., 3., 1.]]])\n",
      "tensor([[2., 7., 6.],\n",
      "        [4., 6., 5.]])\n"
     ]
    }
   ],
   "source": [
    "torch.manual_seed(42)\n",
    "x = torch.randint(10, size=(2, 3)).float()\n",
    "m = torch.randint(10, size=(2, 3, 3)).float()\n",
    "print(m)\n",
    "print(x)"
   ]
  },
  {
   "cell_type": "code",
   "execution_count": null,
   "metadata": {},
   "outputs": [],
   "source": [
    "matmul = ...\n",
    "assert torch.allclose(\n",
    "    matmul, _expected := torch.tensor([[28.0, 86.0, 34.0], [63.0, 109.0, 47.0]])\n",
    "), f\"{matmul} != {_expected}\""
   ]
  }
 ],
 "metadata": {
  "kernelspec": {
   "display_name": ".venv",
   "language": "python",
   "name": "python3"
  },
  "language_info": {
   "codemirror_mode": {
    "name": "ipython",
    "version": 3
   },
   "file_extension": ".py",
   "mimetype": "text/x-python",
   "name": "python",
   "nbconvert_exporter": "python",
   "pygments_lexer": "ipython3",
   "version": "3.11.5"
  }
 },
 "nbformat": 4,
 "nbformat_minor": 2
}
