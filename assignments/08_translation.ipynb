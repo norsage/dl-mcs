{
 "cells": [
  {
   "cell_type": "markdown",
   "metadata": {},
   "source": [
    "## T5 трансформер для перевода с немецкого на английский"
   ]
  },
  {
   "cell_type": "markdown",
   "metadata": {},
   "source": [
    "Сегодня вы поработаете над настоящей задачей NLP и попробуете обучить трансформер переводить короткие предложения с английского на немецкий.\n",
    "\n",
    "Токенизацию и блоки трансформера писать не придётся — будем пользоваться библиотекой `transformers`.\n",
    "\n",
    "Наши задачи:\n",
    "- Познакомиться с наиболее популярным методом токенизации текстов — byte pair encoding\n",
    "- Научиться пользоваться токенизатором из `transformers`\n",
    "- Подготовить даннные\n",
    "- Обучить готовую архитектуру T5-small под нашу задачу\n",
    "- Исследовать разные стратегии декодирования с помощью обученной модели"
   ]
  },
  {
   "cell_type": "code",
   "execution_count": 1,
   "metadata": {},
   "outputs": [],
   "source": [
    "import math\n",
    "from pathlib import Path\n",
    "from typing import cast\n",
    "\n",
    "import lightning as L\n",
    "import torch\n",
    "import torch.nn.functional as F\n",
    "from torch import Tensor, nn\n",
    "from torch.utils.data import DataLoader, Dataset\n",
    "from transformers import T5ForConditionalGeneration, T5Tokenizer\n",
    "\n",
    "from datasets import load_dataset, load_from_disk"
   ]
  },
  {
   "cell_type": "code",
   "execution_count": 2,
   "metadata": {},
   "outputs": [
    {
     "data": {
      "text/plain": [
       "<torch._C.Generator at 0x115cfff30>"
      ]
     },
     "execution_count": 2,
     "metadata": {},
     "output_type": "execute_result"
    }
   ],
   "source": [
    "torch.manual_seed(42)"
   ]
  },
  {
   "cell_type": "markdown",
   "metadata": {},
   "source": [
    "#### Готовим данные"
   ]
  },
  {
   "cell_type": "code",
   "execution_count": 3,
   "metadata": {},
   "outputs": [],
   "source": [
    "train_dataset = load_dataset(\"bentrevett/multi30k\", split=\"train\")\n",
    "test_dataset = load_dataset(\"bentrevett/multi30k\", split=\"test\")"
   ]
  },
  {
   "cell_type": "code",
   "execution_count": 4,
   "metadata": {},
   "outputs": [
    {
     "data": {
      "text/plain": [
       "{'en': 'Two young, White males are outside near many bushes.',\n",
       " 'de': 'Zwei junge weiße Männer sind im Freien in der Nähe vieler Büsche.'}"
      ]
     },
     "execution_count": 4,
     "metadata": {},
     "output_type": "execute_result"
    }
   ],
   "source": [
    "train_dataset[0]"
   ]
  },
  {
   "cell_type": "code",
   "execution_count": 5,
   "metadata": {},
   "outputs": [
    {
     "data": {
      "image/png": "[encoded data removed]",
      "text/plain": [
       "<Figure size 1000x300 with 2 Axes>"
      ]
     },
     "metadata": {},
     "output_type": "display_data"
    }
   ],
   "source": [
    "import matplotlib.pyplot as plt\n",
    "\n",
    "\n",
    "def length_histogram(dataset, ax, bins=20) -> None:\n",
    "    en_lengths = []\n",
    "    de_lengths = []\n",
    "    for sample in dataset:\n",
    "        en_lengths.append(len(sample[\"en\"].split(\" \")))\n",
    "        de_lengths.append(len(sample[\"de\"].split(\" \")))\n",
    "\n",
    "    ax.hist(en_lengths, alpha=0.5, bins=bins, label=\"en\")\n",
    "    ax.hist(de_lengths, alpha=0.5, bins=bins, label=\"de\")\n",
    "    ax.legend()\n",
    "\n",
    "\n",
    "fig, axes = plt.subplots(1, 2, figsize=(10, 3))\n",
    "length_histogram(train_dataset, axes[0])\n",
    "length_histogram(test_dataset, axes[1])"
   ]
  },
  {
   "cell_type": "markdown",
   "metadata": {},
   "source": [
    "Оставим только сравнительно короткие предложения, чтобы можно было чему-то научиться за короткое время"
   ]
  },
  {
   "cell_type": "code",
   "execution_count": 6,
   "metadata": {},
   "outputs": [
    {
     "name": "stdout",
     "output_type": "stream",
     "text": [
      "5144 174\n"
     ]
    }
   ],
   "source": [
    "maxlen = 8\n",
    "\n",
    "\n",
    "def filter_dataset(dataset, maxlen: int) -> list[dict[str, str]]:\n",
    "    return [\n",
    "        dataset[i]\n",
    "        for i in range(len(dataset))\n",
    "        if len(dataset[i][\"en\"].split(\" \")) <= maxlen\n",
    "    ]\n",
    "\n",
    "\n",
    "train_filtered = filter_dataset(train_dataset, maxlen)\n",
    "test_filtered = filter_dataset(test_dataset, maxlen)\n",
    "\n",
    "print(len(train_filtered), len(test_filtered))"
   ]
  },
  {
   "cell_type": "markdown",
   "metadata": {},
   "source": [
    "##### Токенизация: byte-pair encoding"
   ]
  },
  {
   "cell_type": "markdown",
   "metadata": {},
   "source": [
    "Построение:\n",
    "\n",
    "Начинаем со словаря, состоящего из отдельных символов (начальные токены).\n",
    "На каждом шаге:\n",
    "1. Оцениваем частоту всех пар токенов внутри слов, находим самую частую\n",
    "2. Добавляем её в список токенов и в таблицу слияний\n",
    "3. Останавливаемся, когда достигаем максимального размера словаря\n",
    "\n",
    "\n",
    "Применение:\n",
    "\n",
    "1. Разбиваем текст на символы\n",
    "2. Находим первое возможное слияние в таблице и применяем его\n",
    "3. Останавливаемся, когда дальнейшие слияния невозможны\n",
    "\n",
    "<img src=\"https://lena-voita.github.io/resources/lectures/seq2seq/bpe/build_merge_table.gif\" style=\"background:white\" height=\"300\"/>\n",
    "<img src=\"https://lena-voita.github.io/resources/lectures/seq2seq/bpe/bpe_apply.gif\" style=\"background:white\" height=\"300\"/>\n"
   ]
  },
  {
   "cell_type": "markdown",
   "metadata": {},
   "source": [
    "Реализаций много, мы будем использовать токенизатор  из библиотеки `transformers`, где помимо самого подготовленного токенизатора (`sentencepiece.SentencePieceProcessor`) много полезных методов для кодирования и декодирования.\n",
    "\n",
    "Добавим при создании новый токен, который будет указывать на начало перевода"
   ]
  },
  {
   "cell_type": "code",
   "execution_count": 7,
   "metadata": {},
   "outputs": [],
   "source": [
    "tokenizer: T5Tokenizer = T5Tokenizer.from_pretrained(\n",
    "    \"t5-small\", padding_size=\"right\", bos_token=\"</b>\", legacy=False\n",
    ")"
   ]
  },
  {
   "cell_type": "code",
   "execution_count": 8,
   "metadata": {},
   "outputs": [
    {
     "name": "stdout",
     "output_type": "stream",
     "text": [
      "Размер словаря:  32101\n"
     ]
    }
   ],
   "source": [
    "print(\"Размер словаря: \", len(tokenizer))"
   ]
  },
  {
   "cell_type": "markdown",
   "metadata": {},
   "source": [
    "Посмотрим на примеры токенов, в них встречаются и целые слова из разных языков, и числительные, и знаки препинания:"
   ]
  },
  {
   "cell_type": "code",
   "execution_count": 9,
   "metadata": {},
   "outputs": [
    {
     "data": {
      "text/plain": [
       "[('▁showed', 3217),\n",
       " ('▁Saint', 2788),\n",
       " ('▁Sonic', 20419),\n",
       " ('▁zahlreiche', 9878),\n",
       " ('popular', 27302),\n",
       " ('▁mathematical', 18913),\n",
       " ('likewise', 15340),\n",
       " ('▁si', 108),\n",
       " ('▁Damage', 26135),\n",
       " ('▁choses', 12344)]"
      ]
     },
     "execution_count": 9,
     "metadata": {},
     "output_type": "execute_result"
    }
   ],
   "source": [
    "import random\n",
    "\n",
    "random.choices(list(tokenizer.get_vocab().items()), k=10)"
   ]
  },
  {
   "cell_type": "markdown",
   "metadata": {},
   "source": [
    "Токенизатор в работе: кодирование и декодирование предложений на немецком и английском:"
   ]
  },
  {
   "cell_type": "code",
   "execution_count": 10,
   "metadata": {},
   "outputs": [
    {
     "name": "stdout",
     "output_type": "stream",
     "text": [
      "[11280, 16815, 7838, 15, 16282, 436, 256, 8671, 35, 16, 74, 13271, 2221, 49, 21162, 3992, 5, 1]\n",
      "Zwei junge weiße Männer sind im Freien in der Nähe vieler Büsche.</s>\n",
      "[2759, 1021, 6, 1945, 5069, 7, 33, 1067, 1084, 186, 3, 30271, 5, 1]\n",
      "Two young, White males are outside near many bushes.</s>\n"
     ]
    }
   ],
   "source": [
    "encoded_german = tokenizer.encode(train_dataset[0][\"de\"])\n",
    "encoded_english = tokenizer.encode(train_dataset[0][\"en\"])\n",
    "print(encoded_german)\n",
    "print(tokenizer.decode(encoded_german))\n",
    "print(encoded_english)\n",
    "print(tokenizer.decode(encoded_english))"
   ]
  },
  {
   "cell_type": "markdown",
   "metadata": {},
   "source": [
    "Об упаковке в батчи можно больше не беспокоиться — токенизатор умеет обрабатывать сразу пачку примеров"
   ]
  },
  {
   "cell_type": "code",
   "execution_count": 11,
   "metadata": {},
   "outputs": [
    {
     "name": "stdout",
     "output_type": "stream",
     "text": [
      "torch.Size([4, 19])\n",
      "dict_keys(['input_ids', 'attention_mask'])\n"
     ]
    }
   ],
   "source": [
    "batch = [train_dataset[i][\"en\"] for i in range(4)]\n",
    "\n",
    "encoded_batch = tokenizer.batch_encode_plus(\n",
    "    batch, padding=\"longest\", return_tensors=\"pt\"\n",
    ")\n",
    "print(encoded_batch[\"input_ids\"].shape)\n",
    "print(encoded_batch.keys())"
   ]
  },
  {
   "cell_type": "markdown",
   "metadata": {},
   "source": [
    "Возвращается два значения: `input_ids` — это наши токены, а `attention_mask` — это тензор, равный по размеру батчу токенов, где на месте `pad_token` стоят нули, в остальных позициях — единицы. Это нам понадобится потом."
   ]
  },
  {
   "cell_type": "markdown",
   "metadata": {},
   "source": [
    "А ещё можно кодировать сразу входные и выходные данные:"
   ]
  },
  {
   "cell_type": "code",
   "execution_count": 12,
   "metadata": {},
   "outputs": [
    {
     "name": "stdout",
     "output_type": "stream",
     "text": [
      "dict_keys(['input_ids', 'attention_mask', 'labels'])\n"
     ]
    }
   ],
   "source": [
    "inputs = [train_dataset[i][\"en\"] + tokenizer.bos_token for i in range(4)]\n",
    "targets = [train_dataset[i][\"de\"] for i in range(4)]\n",
    "\n",
    "encoded_batch = tokenizer(\n",
    "    inputs, text_target=targets, padding=\"longest\", return_tensors=\"pt\"\n",
    ")\n",
    "print(encoded_batch.keys())"
   ]
  },
  {
   "cell_type": "markdown",
   "metadata": {},
   "source": [
    "Используем это в `collate_fn` для сборки батчей:"
   ]
  },
  {
   "cell_type": "code",
   "execution_count": 13,
   "metadata": {},
   "outputs": [],
   "source": [
    "def collate_fn(\n",
    "    tokenizer: T5Tokenizer, batch: list[tuple[str, str]]\n",
    ") -> tuple[Tensor, Tensor]:\n",
    "    prompt = tokenizer.bos_token\n",
    "    inputs, targets = zip(*[(pair[\"de\"], prompt + pair[\"en\"]) for pair in batch])\n",
    "    encoded_batch = tokenizer(\n",
    "        inputs, text_target=targets, padding=\"longest\", return_tensors=\"pt\"\n",
    "    )\n",
    "    return encoded_batch"
   ]
  },
  {
   "cell_type": "code",
   "execution_count": 14,
   "metadata": {},
   "outputs": [
    {
     "name": "stdout",
     "output_type": "stream",
     "text": [
      "dict_keys(['input_ids', 'attention_mask', 'labels'])\n"
     ]
    }
   ],
   "source": [
    "batch = [train_dataset[i] for i in range(4)]\n",
    "encoded_batch = collate_fn(tokenizer, batch)\n",
    "print(encoded_batch.keys())"
   ]
  },
  {
   "cell_type": "code",
   "execution_count": 15,
   "metadata": {},
   "outputs": [
    {
     "name": "stdout",
     "output_type": "stream",
     "text": [
      "torch.Size([4, 22])\n",
      "torch.Size([4, 22])\n",
      "torch.Size([4, 20])\n"
     ]
    }
   ],
   "source": [
    "print(encoded_batch[\"input_ids\"].shape)\n",
    "print(encoded_batch[\"attention_mask\"].shape)\n",
    "print(encoded_batch[\"labels\"].shape)"
   ]
  },
  {
   "cell_type": "markdown",
   "metadata": {},
   "source": [
    "Всё готово для получения минибатчей из датасетов:"
   ]
  },
  {
   "cell_type": "code",
   "execution_count": 16,
   "metadata": {},
   "outputs": [],
   "source": [
    "train_loader = DataLoader(\n",
    "    train_filtered,\n",
    "    batch_size=32,\n",
    "    shuffle=True,\n",
    "    collate_fn=lambda batch: collate_fn(tokenizer, batch),\n",
    ")\n",
    "test_loader = DataLoader(\n",
    "    test_filtered,\n",
    "    batch_size=32,\n",
    "    shuffle=False,\n",
    "    collate_fn=lambda batch: collate_fn(tokenizer, batch),\n",
    ")"
   ]
  },
  {
   "cell_type": "markdown",
   "metadata": {},
   "source": [
    "#### Задание 1 (3 балла). DataModule\n",
    "\n",
    "Реализуйте подкласс `lightning.LightningDataModule` для работы с обучающим и тестовым датасетами"
   ]
  },
  {
   "cell_type": "code",
   "execution_count": 17,
   "metadata": {},
   "outputs": [],
   "source": [
    "from lightning.pytorch.utilities.types import EVAL_DATALOADERS, TRAIN_DATALOADERS\n",
    "\n",
    "\n",
    "class Multi30kDataset(L.LightningDataModule):\n",
    "    train_dataset: Dataset\n",
    "    test_dataset: Dataset\n",
    "    tokenizer: T5Tokenizer\n",
    "\n",
    "    def __init__(self, maxlen: int = 0, batch_size: int = 32) -> None:\n",
    "        ..."
   ]
  },
  {
   "cell_type": "code",
   "execution_count": 18,
   "metadata": {},
   "outputs": [],
   "source": [
    "multi30k = Multi30kDataset(maxlen=8, batch_size=12)"
   ]
  },
  {
   "cell_type": "markdown",
   "metadata": {},
   "source": [
    "#### Задание 2 (6 баллов). Обучение T5"
   ]
  },
  {
   "cell_type": "markdown",
   "metadata": {},
   "source": [
    "paper: https://arxiv.org/abs/1910.10683"
   ]
  },
  {
   "cell_type": "markdown",
   "metadata": {},
   "source": [
    "Обучите `t5-small` на наших данных, длительность обучения — на ваше усмотрение. В [документации](https://huggingface.co/docs/transformers/model_doc/t5) вы найдёте примеры использования, которые помогут вам разобраться в интерфейсе модели."
   ]
  },
  {
   "cell_type": "code",
   "execution_count": 19,
   "metadata": {},
   "outputs": [],
   "source": [
    "t5 = T5ForConditionalGeneration.from_pretrained(\"t5-small\")"
   ]
  },
  {
   "cell_type": "markdown",
   "metadata": {},
   "source": [
    "Обернём в `LightningModule`"
   ]
  },
  {
   "cell_type": "code",
   "execution_count": 20,
   "metadata": {},
   "outputs": [],
   "source": [
    "import lightning as L\n",
    "from lightning.pytorch.utilities.types import STEP_OUTPUT, OptimizerLRScheduler\n",
    "\n",
    "\n",
    "class Seq2Seq(L.LightningModule):\n",
    "    def __init__(\n",
    "        self,\n",
    "        model: nn.Module,\n",
    "        tokenizer: T5Tokenizer,\n",
    "        lr: float = 0.01,\n",
    "    ) -> None:\n",
    "        ...\n",
    "\n",
    "    def training_step(self, batch: dict[str, Tensor], batch_idx: int) -> STEP_OUTPUT:\n",
    "        ...\n",
    "        loss = ...\n",
    "        self.log(\"loss\", loss, prog_bar=True)\n",
    "        return loss\n",
    "\n",
    "    def configure_optimizers(self) -> OptimizerLRScheduler:\n",
    "        ..."
   ]
  },
  {
   "cell_type": "code",
   "execution_count": null,
   "metadata": {},
   "outputs": [],
   "source": [
    "trainer = L.Trainer(\n",
    "    accelerator=\"auto\", max_epochs=1, limit_train_batches=10, logger=False\n",
    ")\n",
    "seq2seq = Seq2Seq(t5, multi30k.tokenizer, lr=0.001)\n",
    "trainer.fit(model=seq2seq, train_dataloaders=multi30k.train_dataloader())"
   ]
  },
  {
   "cell_type": "markdown",
   "metadata": {},
   "source": [
    "#### Задание 3 (3 балла). Генерация перевода\n",
    "\n",
    "Сгенерируйте перевод для одного батча из тестового датасета (используйте метод `t5.generate()`), используя разные стратегии декодирования:\n",
    "- *greedy decoding*\n",
    "- *multinomial sampling*\n",
    "- *beam-search multinomial sampling*\n",
    "\n",
    "Эти стратегии (а также другие стратегии декодирования) можно задавать через `transformers.GenerationConfig`, который можно передать в метод `.generate()` нашей модели.\n",
    "Выберите параметры, которые, на ваш взгляд, работают лучше всего."
   ]
  },
  {
   "cell_type": "code",
   "execution_count": 22,
   "metadata": {},
   "outputs": [
    {
     "name": "stderr",
     "output_type": "stream",
     "text": [
      "/Users/sarapulov/miniconda3/envs/dl-mcs/lib/python3.12/site-packages/transformers/generation/configuration_utils.py:572: UserWarning: `do_sample` is set to `False`. However, `top_p` is set to `0.9` -- this flag is only used in sample-based generation modes. You should set `do_sample=True` or unset `top_p`. This was detected when initializing the generation config instance, which means the corresponding file may hold incorrect parameterization and should be fixed.\n",
      "  warnings.warn(\n"
     ]
    }
   ],
   "source": [
    "from transformers import GenerationConfig\n",
    "\n",
    "# пример конфигурации\n",
    "gen_conf = GenerationConfig(\n",
    "    min_length=10,\n",
    "    max_new_tokens=20,\n",
    "    num_beams=4,\n",
    "    do_sample=True,\n",
    "    temperature=1.0,\n",
    "    top_p=0.9,\n",
    ")"
   ]
  },
  {
   "cell_type": "code",
   "execution_count": null,
   "metadata": {},
   "outputs": [
    {
     "name": "stdout",
     "output_type": "stream",
     "text": [
      "Deutsch: Leute Reparieren das Dach eines Hauses.\n",
      "English: People are fixing the roof of a house.\n",
      "Translation: People repairing a roof of a house.\n",
      "\n",
      "Deutsch: Ein Typ arbeitet an einem Gebäude.\n",
      "English: A guy works on a building.\n",
      "Translation: A guy is working on a building.\n",
      "\n",
      "Deutsch: Drei Leute sitzen in einer Höhle.\n",
      "English: Three people sit in a cave.\n",
      "Translation: Three people are sitting in a chair.\n",
      "\n",
      "Deutsch: Leute, die vor einem Gebäude stehen.\n",
      "English: People standing outside of a building.\n",
      "Translation: People standing in front of a building.\n",
      "\n",
      "Deutsch: Ein Mann schneidet ste von Bäumen.\n",
      "English: A man cutting branches of trees.\n",
      "Translation: A man is cutting up a tree.\n",
      "\n",
      "Deutsch: Frauen, die traditionelle Kleidung tragen, spielen das Leben Einheimischer nach.\n",
      "English: Women, wearing traditional clothing, are reenacting native life.\n",
      "Translation: Women wearing traditional clothing playing the game.\n",
      "\n",
      "Deutsch: Ein Kind planscht im Wasser.\n",
      "English: A child is splashing in the water\n",
      "Translation: A kid is sleeping in the water.\n",
      "\n",
      "Deutsch: Eine schöne Frau spielt auf einer Harfe.\n",
      "English: A pretty woman plays a harpsichord.\n",
      "Translation: A beautiful woman plays on a harf.\n",
      "\n",
      "Deutsch: Die junge Dame sieht auf die Pizza.\n",
      "English: The young lady is looking at the pizza.\n",
      "Translation: The young lady looks at the pizza.\n",
      "\n",
      "Deutsch: Leute sitzen in einem Zug.\n",
      "English: People sit inside a train.\n",
      "Translation: People are sitting in a train.\n",
      "\n",
      "Deutsch: Ein kleines Kind kocht mit einer anderen Person.\n",
      "English: A toddler is cooking with another person.\n",
      "Translation: A little kid is cooking with another person.\n",
      "\n",
      "Deutsch: Ein Mann bereitet am Herd Essen zu.\n",
      "English: A man cooking food on the stove.\n",
      "Translation: A man is preparing food for dinner.\n",
      "\n"
     ]
    }
   ],
   "source": [
    "batch = next(iter(multi30k.test_dataloader()))\n",
    "preds = t5.generate(batch[\"input_ids\"], generation_config=gen_conf)\n",
    "\n",
    "# декодируем входы, правильный и сгенерированный перевод с помощью токенизатора и выводим\n",
    "..."
   ]
  }
 ],
 "metadata": {
  "kernelspec": {
   "display_name": "dl-mcs",
   "language": "python",
   "name": "python3"
  },
  "language_info": {
   "codemirror_mode": {
    "name": "ipython",
    "version": 3
   },
   "file_extension": ".py",
   "mimetype": "text/x-python",
   "name": "python",
   "nbconvert_exporter": "python",
   "pygments_lexer": "ipython3",
   "version": "3.12.5"
  }
 },
 "nbformat": 4,
 "nbformat_minor": 2
}
