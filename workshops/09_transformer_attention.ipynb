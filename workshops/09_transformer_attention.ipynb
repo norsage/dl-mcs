{
 "cells": [
  {
   "cell_type": "markdown",
   "metadata": {},
   "source": [
    "## Трансформер. Механизм внимания"
   ]
  },
  {
   "cell_type": "markdown",
   "metadata": {},
   "source": [
    "План на сегодня:\n",
    "- Верхнеуровневый взгляд на блок трансформера\n",
    "- Разбор устройства модуля внимания multi-head attention (MHA)\n",
    "- Постобработка выходов multi-head attention\n",
    "- Перестановочная эквивариантность (permutation equivariance) и позиционное кодирование"
   ]
  },
  {
   "cell_type": "markdown",
   "metadata": {},
   "source": [
    "### 1. Механизм внимания"
   ]
  },
  {
   "cell_type": "markdown",
   "metadata": {},
   "source": [
    "Пример: в языке значение омонимов зависит от других слов в различной степени:\n",
    "\n",
    "\n",
    "I swam across the river to get to the other <span style=\"color:cyan\">bank</span>.\n",
    "\n",
    "I walked across the road to get cash from the <span style=\"color:cyan\">bank</span>."
   ]
  },
  {
   "cell_type": "markdown",
   "metadata": {},
   "source": [
    "<img src=\"../attachments/attention_example.png\" style=\"background:white\" width=\"600\"/>"
   ]
  },
  {
   "cell_type": "markdown",
   "metadata": {},
   "source": [
    "Обозначения:\n",
    "\n",
    "$\\mathbf{X} \\in \\mathbb{R}^{N \\times d}$ - набор токенов\n",
    "\n",
    "$\\mathbf{Y} = \\text{TransformerLayer}[\\mathbf{X}]$ - преобразованные трансформером токены, $\\mathbf{Y} \\in \\mathbb{R}^{N \\times d}$"
   ]
  },
  {
   "cell_type": "markdown",
   "metadata": {},
   "source": [
    "#### 1.1. Scaled dot-product self-attention"
   ]
  },
  {
   "cell_type": "markdown",
   "metadata": {},
   "source": [
    "Терминология:\n",
    "- Каждый токен несёт в себе некую информацию (**value**)\n",
    "- Содержимое токена кодируется ключом (**key**)\n",
    "- Каждый токен формирует запрос (**query**) к други токенам\n",
    "- Чем лучше ключ соответствует запросу, тем больший вес получит информация"
   ]
  },
  {
   "cell_type": "markdown",
   "metadata": {},
   "source": [
    "\n",
    "$y_i = \\sum_{j=1}^N a_{ij} x_j, \\quad \\sum_{j=1}^N a_{ij} = 1, \\quad a_{ij} \\geq 0$"
   ]
  },
  {
   "cell_type": "markdown",
   "metadata": {},
   "source": [
    "Начнём с простого сценария, когда токен $x_i$ сам выполняет все три функции: он является и значением, и ключом, и запросом"
   ]
  },
  {
   "cell_type": "markdown",
   "metadata": {},
   "source": [
    "Хотим, чтобы вес $a_{ij}$ зависел от сходства $x_i$ и $x_j$, например $a_{ij} \\sim x_i^T x_j$\n",
    "\n",
    "Функция, которая обеспечит нужные ограничения на $a_{ij}$, нам уже знакома:\n",
    "\n",
    "$$a_{ij} = \\frac{\\exp(x_i^T x_j)}{\\sum_{j' = 1}^N \\exp(x_i^T x_{j'})}$$"
   ]
  },
  {
   "cell_type": "markdown",
   "metadata": {},
   "source": [
    "В матричной нотации получается\n",
    "$\\mathbf{Y} = \\text{Softmax}[\\mathbf{X} \\mathbf{X}^T] \\mathbf{X}$"
   ]
  },
  {
   "cell_type": "markdown",
   "metadata": {},
   "source": [
    "**Вопрос**: что можно сказать про зависимость $\\mathbf{Y}$ от $\\mathbf{X}$? Она линейна?"
   ]
  },
  {
   "cell_type": "code",
   "execution_count": 1,
   "metadata": {},
   "outputs": [
    {
     "name": "stdout",
     "output_type": "stream",
     "text": [
      "torch.Size([5, 4])\n"
     ]
    }
   ],
   "source": [
    "import torch\n",
    "from torch import Tensor, nn\n",
    "\n",
    "# import matplotlib.pyplot as plt\n",
    "\n",
    "N = 5\n",
    "D = 4\n",
    "\n",
    "X = torch.randn(N, D)\n",
    "attention_weights = (X @ X.T).softmax(-1)\n",
    "Y = attention_weights @ X\n",
    "print(Y.shape)\n",
    "# plt.imshow(attention_weights, interpolation=\"nearest\")"
   ]
  },
  {
   "cell_type": "markdown",
   "metadata": {},
   "source": [
    "Добавим гибкости:\n",
    "\n",
    "$\\mathbf{Q} = \\mathbf{X} \\mathbf{W}^{(q)} \\quad$\n",
    "$\\mathbf{K} = \\mathbf{X} \\mathbf{W}^{(k)} \\quad$\n",
    "$\\mathbf{V} = \\mathbf{X} \\mathbf{W}^{(v)}$"
   ]
  },
  {
   "cell_type": "markdown",
   "metadata": {},
   "source": [
    "<img src=\"../attachments/sa_output.png\" style=\"background:white\" width=\"600\"/>"
   ]
  },
  {
   "cell_type": "markdown",
   "metadata": {},
   "source": [
    "Последний штрих: отмасштабируем матрицу $\\mathbf{Q} \\mathbf{K}^T$ на $\\sqrt{D_k}$. Для чего это нужно?"
   ]
  },
  {
   "cell_type": "markdown",
   "metadata": {},
   "source": [
    "<img src=\"../attachments/scaled_dot_product_attention.png\" style=\"background:white\" width=\"600\"/>\n",
    "\n",
    "<img src=\"../attachments/sa_flow.png\" style=\"background:white\" height=\"275\"/>"
   ]
  },
  {
   "cell_type": "markdown",
   "metadata": {},
   "source": [
    "В реализации осталось только добавить размерность батча:"
   ]
  },
  {
   "cell_type": "code",
   "execution_count": 2,
   "metadata": {},
   "outputs": [
    {
     "name": "stdout",
     "output_type": "stream",
     "text": [
      "torch.Size([3, 5, 5])\n",
      "torch.Size([3, 5, 4])\n"
     ]
    }
   ],
   "source": [
    "B = 3\n",
    "N = 5\n",
    "D = 4\n",
    "\n",
    "X = torch.randn(B, N, D)\n",
    "# (B, N, D) x (B, D, N) -> (B, N, N)\n",
    "attention_weights = torch.bmm(X, X.permute(0, 2, 1)).softmax(-1)\n",
    "Y = torch.bmm(attention_weights, X)\n",
    "print(attention_weights.shape)\n",
    "print(Y.shape)"
   ]
  },
  {
   "cell_type": "code",
   "execution_count": 3,
   "metadata": {},
   "outputs": [
    {
     "data": {
      "text/plain": [
       "torch.Size([3, 5, 4])"
      ]
     },
     "execution_count": 3,
     "metadata": {},
     "output_type": "execute_result"
    }
   ],
   "source": [
    "class ScaledDotProductAttention(nn.Module):\n",
    "    def __init__(self, input_dim: int, hidden_dim: int) -> None:\n",
    "        super().__init__()\n",
    "        self.W_q = nn.Linear(input_dim, hidden_dim)\n",
    "        self.W_k = nn.Linear(input_dim, hidden_dim)\n",
    "        self.W_v = nn.Linear(input_dim, input_dim)\n",
    "\n",
    "    def forward(self, x: Tensor) -> Tensor:\n",
    "        q = self.W_q(x)\n",
    "        k = self.W_k(x)\n",
    "        v = self.W_v(x)\n",
    "        _, _, D_k = k.shape\n",
    "\n",
    "        scores = torch.bmm(q, k.permute(0, 2, 1)) / D_k**0.5\n",
    "        attention_weights = scores.softmax(-1)\n",
    "        return torch.bmm(attention_weights, v)\n",
    "\n",
    "\n",
    "ScaledDotProductAttention(4, 3).forward(X).shape"
   ]
  },
  {
   "cell_type": "markdown",
   "metadata": {},
   "source": [
    "#### 1.1. Multi-head attention"
   ]
  },
  {
   "cell_type": "markdown",
   "metadata": {},
   "source": [
    "Возможны несколько различных аспектов внимания: значение слов, грамматические конструкции, стилистика.\n",
    "\n",
    "Поэтому используем несколько независимых \"голов\" внимания."
   ]
  },
  {
   "cell_type": "markdown",
   "metadata": {},
   "source": [
    "\n",
    "<img src=\"../attachments/mha_flow.png\" style=\"background:white\" width=\"600\"/>"
   ]
  },
  {
   "cell_type": "markdown",
   "metadata": {},
   "source": [
    "<img src=\"../attachments/mha.png\" style=\"background:white\" width=\"600\"/>"
   ]
  },
  {
   "cell_type": "code",
   "execution_count": 4,
   "metadata": {},
   "outputs": [
    {
     "data": {
      "text/plain": [
       "torch.Size([3, 5, 4])"
      ]
     },
     "execution_count": 4,
     "metadata": {},
     "output_type": "execute_result"
    }
   ],
   "source": [
    "class MultiHeadAttention(nn.Module):\n",
    "    def __init__(self, input_dim: int, hidden_dim: int, n_heads: int) -> None:\n",
    "        super().__init__()\n",
    "        self.heads = nn.ModuleList(\n",
    "            [ScaledDotProductAttention(input_dim, hidden_dim) for i in range(n_heads)]\n",
    "        )\n",
    "        self.W_o = nn.Linear(n_heads * input_dim, input_dim)\n",
    "\n",
    "    def forward(self, x: Tensor) -> Tensor:\n",
    "        h = torch.cat([head(x) for head in self.heads], dim=-1)\n",
    "        return self.W_o(h)\n",
    "\n",
    "\n",
    "MultiHeadAttention(4, 5, 5).forward(X).shape"
   ]
  },
  {
   "cell_type": "markdown",
   "metadata": {},
   "source": [
    "### 2. Постпроцессинг токенов"
   ]
  },
  {
   "cell_type": "markdown",
   "metadata": {},
   "source": [
    "Поверх внимания добавим ещё несколько модулей:\n",
    "- skip connection\n",
    "- layer normalization\n",
    "- перцептрон для выходов из multi-head attention"
   ]
  },
  {
   "cell_type": "markdown",
   "metadata": {},
   "source": [
    "<img src=\"../attachments/transformer_layer.png\" style=\"background:white\" width=\"600\"/>"
   ]
  },
  {
   "cell_type": "code",
   "execution_count": 5,
   "metadata": {},
   "outputs": [
    {
     "data": {
      "text/plain": [
       "torch.Size([3, 5, 4])"
      ]
     },
     "execution_count": 5,
     "metadata": {},
     "output_type": "execute_result"
    }
   ],
   "source": [
    "X.shape"
   ]
  },
  {
   "cell_type": "code",
   "execution_count": 6,
   "metadata": {},
   "outputs": [
    {
     "data": {
      "text/plain": [
       "torch.Size([3, 5, 4])"
      ]
     },
     "execution_count": 6,
     "metadata": {},
     "output_type": "execute_result"
    }
   ],
   "source": [
    "class SelfAttentionLayer(nn.Module):\n",
    "    def __init__(self, input_dim: int, hidden_dim: int, n_heads: int) -> None:\n",
    "        super().__init__()\n",
    "        self.mha = MultiHeadAttention(input_dim, hidden_dim, n_heads)\n",
    "        self.norm1 = nn.LayerNorm(input_dim)\n",
    "        self.mlp = nn.Sequential(\n",
    "            nn.Linear(input_dim, input_dim),\n",
    "            nn.ReLU(inplace=True),\n",
    "            nn.Linear(input_dim, input_dim),\n",
    "        )\n",
    "        self.norm2 = nn.LayerNorm(input_dim)\n",
    "\n",
    "    def forward(self, x: Tensor) -> Tensor:\n",
    "        z = self.norm1(self.mha(x) + x)\n",
    "        return self.norm2(self.mlp(z) + z)\n",
    "\n",
    "\n",
    "SelfAttentionLayer(4, 5, 5).forward(X).shape"
   ]
  },
  {
   "cell_type": "markdown",
   "metadata": {},
   "source": [
    "### 3. Позиционное кодирование"
   ]
  },
  {
   "cell_type": "markdown",
   "metadata": {},
   "source": [
    "Наш `SelfAttentionLayer` является эквивариантным по отношению к перестановкам входных токенов:\n",
    "\n",
    "$\\text{SelfAttentionLayer}[\\pi(\\mathbf{X})] = \\pi(\\text{SelfAttentionLayer}[\\mathbf{X}])$\n",
    "\n",
    "Это отличное свойство, если мы работаем с множествами, где нет определённого порядка элементов.\n",
    "\n",
    "Но для нас порядок важен, так что нужен спобоб эту информацию передать вместе с токеном, не меняя архитектуру.\n",
    "\n",
    "Наши новые токены будут формироваться как $\\tilde{\\mathbf{x}}_i = \\mathbf{x}_i + \\mathbf{r}_i$, где $\\mathbf{r}_i$ — вектор, кодирующий позицию\n",
    "\n",
    "Вариантов много, в оригинальной статье про трансформер было такое:"
   ]
  },
  {
   "cell_type": "markdown",
   "metadata": {},
   "source": [
    "d - желаемый размер вектора, кодирующего позицию\n",
    "\n",
    "for \n",
    "$\n",
    "i \\in [1, d] \\\\\n",
    "\\begin{aligned}\n",
    "r(t, 2i) = \\sin \\left( \\frac{t}{L^{2i / d}} \\right) \\\\\n",
    "r(t, 2i + 1) = \\cos \\left( \\frac{t}{L^{2i / d}} \\right)\n",
    "\\end{aligned}\n",
    "$"
   ]
  },
  {
   "cell_type": "code",
   "execution_count": 7,
   "metadata": {},
   "outputs": [],
   "source": [
    "import math\n",
    "\n",
    "\n",
    "class PositionalEncoding(nn.Module):\n",
    "    pe: Tensor\n",
    "\n",
    "    def __init__(self, encoding_size: int, L: int = 10000, max_len: int = 1000):\n",
    "        super().__init__()\n",
    "        # можно было бы считать налету, но мы заготовим буфер под любую допустимую длину\n",
    "        position = torch.arange(max_len).unsqueeze(1)\n",
    "        div_term = torch.exp(\n",
    "            torch.arange(0, encoding_size, 2) * (-math.log(L) / encoding_size)\n",
    "        )\n",
    "        pe = torch.zeros(max_len, encoding_size)\n",
    "        pe[:, 0::2] = torch.sin(position * div_term)\n",
    "        pe[:, 1::2] = torch.cos(position * div_term)\n",
    "        self.register_buffer(\"pe\", pe)\n",
    "\n",
    "    def forward(self, t: Tensor) -> Tensor:\n",
    "        return self.pe[t]"
   ]
  },
  {
   "cell_type": "markdown",
   "metadata": {},
   "source": [
    "Посмотрим на примере векторов размерности $d=32$ и $L = 30$"
   ]
  },
  {
   "cell_type": "code",
   "execution_count": 8,
   "metadata": {},
   "outputs": [
    {
     "data": {
      "image/png": "[encoded data removed]",
      "text/plain": [
       "<Figure size 1600x400 with 1 Axes>"
      ]
     },
     "metadata": {},
     "output_type": "display_data"
    }
   ],
   "source": [
    "import matplotlib.pyplot as plt\n",
    "\n",
    "fig, ax = plt.subplots(1, 1, figsize=(16, 4))\n",
    "\n",
    "plt.imshow(PositionalEncoding(32, L=30, max_len=100)(torch.arange(100)).T)\n",
    "plt.title(\"Тепловая карта значений позиционных векторов\")\n",
    "plt.xlabel(\"Позиция\")\n",
    "plt.ylabel(\"Размерность эмбеддинга\")\n",
    "plt.show()"
   ]
  },
  {
   "cell_type": "markdown",
   "metadata": {},
   "source": [
    "Объединим получение эмбеддингов токенов и позиций в один модуль:"
   ]
  },
  {
   "cell_type": "code",
   "execution_count": 9,
   "metadata": {},
   "outputs": [],
   "source": [
    "class TransformerEmbeddings(nn.Module):\n",
    "    def __init__(self, vocab_size: int, hidden_size: int, pad_token_id: int = 0, max_position: int = 100):\n",
    "        super().__init__()\n",
    "        self.token_embeddings = nn.Embedding(vocab_size, hidden_size, padding_idx=pad_token_id)\n",
    "        self.position_embeddings = PositionalEncoding(hidden_size, max_len=max_position)\n",
    "        # self.position_embeddings = nn.Embedding(max_position, hidden_size)\n",
    "\n",
    "        self.register_buffer(\n",
    "            \"position_ids\", torch.arange(max_position).expand((1, -1)), persistent=False\n",
    "        )\n",
    "\n",
    "    def forward(self, input_ids: Tensor) -> torch.Tensor:\n",
    "        B, N = input_ids.size()\n",
    "        position_ids = self.position_ids[:, : N]\n",
    "        inputs_embeds = self.token_embeddings(input_ids)\n",
    "        position_embeddings = self.position_embeddings(position_ids)\n",
    "        embeddings = inputs_embeds + position_embeddings\n",
    "        return embeddings"
   ]
  },
  {
   "cell_type": "markdown",
   "metadata": {},
   "source": [
    "Наконец, соберём минимальный трансформерный энкодер:"
   ]
  },
  {
   "cell_type": "code",
   "execution_count": 10,
   "metadata": {},
   "outputs": [
    {
     "name": "stdout",
     "output_type": "stream",
     "text": [
      "torch.Size([4, 10, 8])\n",
      "torch.Size([4, 10, 8])\n"
     ]
    }
   ],
   "source": [
    "tokens = torch.randint(0, 20, size=(4, 10))\n",
    "embeds = TransformerEmbeddings(vocab_size=20, hidden_size=8)\n",
    "sa = SelfAttentionLayer(input_dim=8, hidden_dim=8, n_heads=2)\n",
    "\n",
    "# получаем начальные токены\n",
    "h = embeds.forward(tokens)\n",
    "print(h.shape)\n",
    "\n",
    "# применяем self-attention\n",
    "h = sa.forward(h)\n",
    "print(h.shape)"
   ]
  }
 ],
 "metadata": {
  "kernelspec": {
   "display_name": "dl-mcs",
   "language": "python",
   "name": "python3"
  },
  "language_info": {
   "codemirror_mode": {
    "name": "ipython",
    "version": 3
   },
   "file_extension": ".py",
   "mimetype": "text/x-python",
   "name": "python",
   "nbconvert_exporter": "python",
   "pygments_lexer": "ipython3",
   "version": "3.12.5"
  }
 },
 "nbformat": 4,
 "nbformat_minor": 2
}
